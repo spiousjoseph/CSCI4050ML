{
  "nbformat": 4,
  "nbformat_minor": 0,
  "metadata": {
    "colab": {
      "name": "Copy of CSCI 4050U - 2019-10-7 - linear, polynomial and logistic models.ipynb",
      "provenance": [],
      "collapsed_sections": [],
      "include_colab_link": true
    },
    "kernelspec": {
      "name": "python3",
      "display_name": "Python 3"
    }
  },
  "cells": [
    {
      "cell_type": "markdown",
      "metadata": {
        "id": "view-in-github",
        "colab_type": "text"
      },
      "source": [
        "<a href=\"https://colab.research.google.com/github/sunujoseph/CSCI4050ML/blob/master/Copy_of_CSCI_4050U_2019_10_7_linear%2C_polynomial_and_logistic_models.ipynb\" target=\"_parent\"><img src=\"https://colab.research.google.com/assets/colab-badge.svg\" alt=\"Open In Colab\"/></a>"
      ]
    },
    {
      "cell_type": "code",
      "metadata": {
        "id": "ZY8KXABgWzsF",
        "colab": {
          "base_uri": "https://localhost:8080/",
          "height": 35
        },
        "outputId": "b0d4f517-5c7d-48e0-b113-06efbf9f26ef"
      },
      "source": [
        "%tensorflow_version 2.x"
      ],
      "execution_count": null,
      "outputs": [
        {
          "output_type": "stream",
          "text": [
            "TensorFlow 2.x selected.\n"
          ],
          "name": "stdout"
        }
      ]
    },
    {
      "cell_type": "code",
      "metadata": {
        "id": "byzC5KPdXRAE"
      },
      "source": [
        "import numpy as np"
      ],
      "execution_count": null,
      "outputs": []
    },
    {
      "cell_type": "code",
      "metadata": {
        "id": "g_iWCA1sW8ef"
      },
      "source": [
        "# generate some sample data to perform linear regression.\n",
        "\n",
        "X = np.linspace(0, 1, 10)\n",
        "Y = 3*X + 1 + np.sin(6*X)"
      ],
      "execution_count": null,
      "outputs": []
    },
    {
      "cell_type": "code",
      "metadata": {
        "id": "VRZoMD3sXYh0"
      },
      "source": [
        "import matplotlib.pyplot as pl"
      ],
      "execution_count": null,
      "outputs": []
    },
    {
      "cell_type": "code",
      "metadata": {
        "id": "3AuAvAWzXbDT",
        "colab": {
          "base_uri": "https://localhost:8080/",
          "height": 269
        },
        "outputId": "326d2b22-08db-49bc-e204-c04ce03d5c1e"
      },
      "source": [
        "pl.plot(X, Y, '-*', color='g');"
      ],
      "execution_count": null,
      "outputs": [
        {
          "output_type": "display_data",
          "data": {
            "image/png": "[encoded data removed]",
            "text/plain": [
              "<Figure size 432x288 with 1 Axes>"
            ]
          },
          "metadata": {
            "tags": []
          }
        }
      ]
    },
    {
      "cell_type": "code",
      "metadata": {
        "id": "gQuHO1VoYtJv"
      },
      "source": [
        "import tensorflow as tf"
      ],
      "execution_count": null,
      "outputs": []
    },
    {
      "cell_type": "code",
      "metadata": {
        "id": "kPFl-pnXXe8E"
      },
      "source": [
        "def model(X, theta):\n",
        "  # theta is a [...] of tensor variables.\n",
        "  w, b = theta\n",
        "  return w*X + b"
      ],
      "execution_count": null,
      "outputs": []
    },
    {
      "cell_type": "code",
      "metadata": {
        "id": "q8Q8A4b8YTvr"
      },
      "source": [
        "def loss(Y_true, Y_out):\n",
        "  return tf.reduce_sum(tf.pow(Y_true - Y_out, 2))"
      ],
      "execution_count": null,
      "outputs": []
    },
    {
      "cell_type": "code",
      "metadata": {
        "id": "HWd2ypTWY1eu"
      },
      "source": [
        "def optimize(model, loss, X, Y, theta, alpha=0.01):\n",
        "  with tf.GradientTape() as tape:\n",
        "    L = loss(Y, model(X, theta))\n",
        "  \n",
        "  grads = tape.gradient(L, theta)\n",
        "  \n",
        "  # update the variables in theta\n",
        "  for var, grad in zip(theta, grads):\n",
        "    var.assign_sub(alpha * grad)\n",
        "  \n",
        "  return loss(Y, model(X, theta))"
      ],
      "execution_count": null,
      "outputs": []
    },
    {
      "cell_type": "code",
      "metadata": {
        "id": "1cJM6vl-Zzjn"
      },
      "source": [
        "def train(model, loss, X, Y, theta, alpha=0.01, epochs=100):\n",
        "  for i in range(epochs):\n",
        "    L = optimize(model, loss, X, Y, theta)\n",
        "    if i % (epochs // 10) == 0:\n",
        "      print(\"[%d]: %.2f\" % (i, L))\n",
        "  return theta"
      ],
      "execution_count": null,
      "outputs": []
    },
    {
      "cell_type": "code",
      "metadata": {
        "id": "6DpBy16hZm1L",
        "colab": {
          "base_uri": "https://localhost:8080/",
          "height": 233
        },
        "outputId": "07f1e17d-ace1-4f7a-8d9c-e65e19ea8dc3"
      },
      "source": [
        "# Training\n",
        "\n",
        "w = tf.Variable(-1.0, dtype=tf.float64) # arbitrary initial value used\n",
        "b = tf.Variable(0.0, dtype=tf.float64)\n",
        "\n",
        "train(model, loss, X, Y, [w, b])"
      ],
      "execution_count": null,
      "outputs": [
        {
          "output_type": "stream",
          "text": [
            "[0]: 56.13\n",
            "[10]: 3.47\n",
            "[20]: 3.05\n",
            "[30]: 2.85\n",
            "[40]: 2.70\n",
            "[50]: 2.60\n",
            "[60]: 2.52\n",
            "[70]: 2.47\n",
            "[80]: 2.43\n",
            "[90]: 2.40\n"
          ],
          "name": "stdout"
        },
        {
          "output_type": "execute_result",
          "data": {
            "text/plain": [
              "[<tf.Variable 'Variable:0' shape=() dtype=float64, numpy=1.237868014184375>,\n",
              " <tf.Variable 'Variable:0' shape=() dtype=float64, numpy=1.8829816715996537>]"
            ]
          },
          "metadata": {
            "tags": []
          },
          "execution_count": 11
        }
      ]
    },
    {
      "cell_type": "code",
      "metadata": {
        "id": "FMBw8thIaPZp",
        "colab": {
          "base_uri": "https://localhost:8080/",
          "height": 269
        },
        "outputId": "f22685a3-0c18-497c-fee5-87065d2feeb9"
      },
      "source": [
        "pl.plot(X, model(X, [w, b]), '-o', color='red')\n",
        "pl.plot(X, Y, '-*', color='green');"
      ],
      "execution_count": null,
      "outputs": [
        {
          "output_type": "display_data",
          "data": {
            "image/png": "[encoded data removed]",
            "text/plain": [
              "<Figure size 432x288 with 1 Axes>"
            ]
          },
          "metadata": {
            "tags": []
          }
        }
      ]
    },
    {
      "cell_type": "markdown",
      "metadata": {
        "id": "3S6UPOJUabSV"
      },
      "source": [
        "# Polynomial Model\n",
        "\n",
        "Recall in the linear model case (implemented as `model(X, theta)`),\n",
        "we assume:\n",
        "$$ y = wx + b $$\n",
        "\n",
        "Now, we make use of _power series_ of $x$.\n",
        "\n",
        "$$ y = a_0 + a_1x + a_2 x^2 + \\dots + a_k x^k $$\n",
        "\n",
        "which can be written as:\n",
        "\n",
        "$$ y = \\sum_{i=0}^k a_i x^k $$ "
      ]
    },
    {
      "cell_type": "code",
      "metadata": {
        "id": "u9sVDfTaiSIr"
      },
      "source": [
        "def power_expansion(X, k):\n",
        "  powers = np.zeros((len(X), k+1))\n",
        "  for i in range(k+1):\n",
        "    powers[:, i] = np.power(X, i)\n",
        "    \n",
        "  return powers"
      ],
      "execution_count": null,
      "outputs": []
    },
    {
      "cell_type": "code",
      "metadata": {
        "id": "UNR-JFu5jWIb",
        "colab": {
          "base_uri": "https://localhost:8080/",
          "height": 107
        },
        "outputId": "174b711e-79bc-44f8-ed4f-57ebcac09c2f"
      },
      "source": [
        "power_expansion(np.array([1,2,3,4,5]), 3)"
      ],
      "execution_count": null,
      "outputs": [
        {
          "output_type": "execute_result",
          "data": {
            "text/plain": [
              "array([[  1.,   1.,   1.,   1.],\n",
              "       [  1.,   2.,   4.,   8.],\n",
              "       [  1.,   3.,   9.,  27.],\n",
              "       [  1.,   4.,  16.,  64.],\n",
              "       [  1.,   5.,  25., 125.]])"
            ]
          },
          "metadata": {
            "tags": []
          },
          "execution_count": 14
        }
      ]
    },
    {
      "cell_type": "markdown",
      "metadata": {
        "id": "0WYqXksHjxDm"
      },
      "source": [
        "## New model\n",
        "\n",
        "The new model has *one* parameter - which is the tensor of\n",
        "the coefficients $a_i$.\n",
        "\n",
        "$$\\theta = \\mathrm{list}([a_0, a_1, \\dots, a_k])$$"
      ]
    },
    {
      "cell_type": "code",
      "metadata": {
        "id": "qu2Xu5uMjaPA"
      },
      "source": [
        "def power_model(X, theta):\n",
        "  a = theta[0]\n",
        "  k = a.shape[0]-1\n",
        "  return tf.squeeze(tf.matmul(power_expansion(X, k), a))"
      ],
      "execution_count": null,
      "outputs": []
    },
    {
      "cell_type": "code",
      "metadata": {
        "id": "OQlv5LFUlRUX",
        "colab": {
          "base_uri": "https://localhost:8080/",
          "height": 197
        },
        "outputId": "f446f4fa-abd4-48e2-bcea-bf0e78dda747"
      },
      "source": [
        "# training the new model\n",
        "\n",
        "k = 5\n",
        "a = tf.Variable(np.random.randn(k+1, 1), dtype=tf.float64)\n",
        "epochs = 10000\n",
        "alpha = 0.01\n",
        "\n",
        "train(power_model, loss, X, Y, [a], epochs=epochs);"
      ],
      "execution_count": null,
      "outputs": [
        {
          "output_type": "stream",
          "text": [
            "[0]: 70.10\n",
            "[1000]: 1.65\n",
            "[2000]: 1.18\n",
            "[3000]: 0.86\n",
            "[4000]: 0.64\n",
            "[5000]: 0.49\n",
            "[6000]: 0.38\n",
            "[7000]: 0.31\n",
            "[8000]: 0.26\n",
            "[9000]: 0.23\n"
          ],
          "name": "stdout"
        }
      ]
    },
    {
      "cell_type": "code",
      "metadata": {
        "id": "SSe6xvRsmkNa",
        "colab": {
          "base_uri": "https://localhost:8080/",
          "height": 269
        },
        "outputId": "411cad3b-7e0a-4bf6-e706-edf1a9ad5f25"
      },
      "source": [
        "pl.plot(X, power_model(X, [a]), '-o', color='red')\n",
        "pl.plot(X, Y, '-*', color='green');"
      ],
      "execution_count": null,
      "outputs": [
        {
          "output_type": "display_data",
          "data": {
            "image/png": "[encoded data removed]",
            "text/plain": [
              "<Figure size 432x288 with 1 Axes>"
            ]
          },
          "metadata": {
            "tags": []
          }
        }
      ]
    },
    {
      "cell_type": "markdown",
      "metadata": {
        "id": "KjxHw_hQmwxU"
      },
      "source": [
        "# Logistic Regression"
      ]
    },
    {
      "cell_type": "markdown",
      "metadata": {
        "id": "iPHl_5D3roTI"
      },
      "source": [
        "## Generate the data"
      ]
    },
    {
      "cell_type": "code",
      "metadata": {
        "id": "fdXtEOL_sNt4"
      },
      "source": [
        "N = 50\n",
        "\n",
        "X1 = np.random.randn(N, 2) + np.array([-5, -4])\n",
        "Y1 = np.zeros(N)\n",
        "\n",
        "X2 = np.random.randn(N, 2) + np.array([2, -2])\n",
        "Y2 = np.ones(N)\n",
        "\n",
        "X = np.concatenate([X1, X2])\n",
        "Y = np.concatenate([Y1, Y2])"
      ],
      "execution_count": null,
      "outputs": []
    },
    {
      "cell_type": "code",
      "metadata": {
        "id": "9hrxxI_3skN8",
        "colab": {
          "base_uri": "https://localhost:8080/",
          "height": 269
        },
        "outputId": "d9986eea-d000-4c71-e934-9575a72b602e"
      },
      "source": [
        "pl.scatter(X[Y==0, 0], X[Y==0, 1], color='blue');\n",
        "pl.scatter(X[Y==1, 0], X[Y==1, 1], color='red');"
      ],
      "execution_count": null,
      "outputs": [
        {
          "output_type": "display_data",
          "data": {
            "image/png": "[encoded data removed]",
            "text/plain": [
              "<Figure size 432x288 with 1 Axes>"
            ]
          },
          "metadata": {
            "tags": []
          }
        }
      ]
    },
    {
      "cell_type": "code",
      "metadata": {
        "id": "TWT994ikstSS"
      },
      "source": [
        "def sep_model(X, theta):\n",
        "  w, b = theta\n",
        "  return tf.squeeze(tf.sigmoid(tf.matmul(X, w) + b))"
      ],
      "execution_count": null,
      "outputs": []
    },
    {
      "cell_type": "code",
      "metadata": {
        "id": "7fIUdtxvtNJa"
      },
      "source": [
        "# loss function is binary_crossentropy"
      ],
      "execution_count": null,
      "outputs": []
    },
    {
      "cell_type": "code",
      "metadata": {
        "id": "qxiKdfWjtTAL"
      },
      "source": [
        "w = tf.Variable(np.random.randn(2, 1), dtype=tf.float64)\n",
        "b = tf.Variable(np.random.randn(), dtype=tf.float64)"
      ],
      "execution_count": null,
      "outputs": []
    },
    {
      "cell_type": "code",
      "metadata": {
        "id": "cW5_C3aztdsT",
        "colab": {
          "base_uri": "https://localhost:8080/",
          "height": 343
        },
        "outputId": "3b91b0f8-5ee1-4136-fb62-cfb97cc614b7"
      },
      "source": [
        "train(sep_model, tf.losses.binary_crossentropy, X, Y, [w, b])"
      ],
      "execution_count": null,
      "outputs": [
        {
          "output_type": "stream",
          "text": [
            "WARNING:tensorflow:From /tensorflow-2.0.0-rc2/python3.6/tensorflow_core/python/ops/math_grad.py:1394: where (from tensorflow.python.ops.array_ops) is deprecated and will be removed in a future version.\n",
            "Instructions for updating:\n",
            "Use tf.where in 2.0, which has the same broadcast rule as np.where\n",
            "[0]: 1.38\n",
            "[10]: 0.75\n",
            "[20]: 0.49\n",
            "[30]: 0.37\n",
            "[40]: 0.31\n",
            "[50]: 0.27\n",
            "[60]: 0.24\n",
            "[70]: 0.22\n",
            "[80]: 0.20\n",
            "[90]: 0.19\n"
          ],
          "name": "stdout"
        },
        {
          "output_type": "execute_result",
          "data": {
            "text/plain": [
              "[<tf.Variable 'Variable:0' shape=(2, 1) dtype=float64, numpy=\n",
              " array([[ 0.61799869],\n",
              "        [-0.05687687]])>,\n",
              " <tf.Variable 'Variable:0' shape=() dtype=float64, numpy=0.038596042347977325>]"
            ]
          },
          "metadata": {
            "tags": []
          },
          "execution_count": 38
        }
      ]
    },
    {
      "cell_type": "markdown",
      "metadata": {
        "id": "wxiI7UO_tnrm"
      },
      "source": [
        "## Visualize the classifier"
      ]
    },
    {
      "cell_type": "code",
      "metadata": {
        "id": "yzg-vGDhttNn"
      },
      "source": [
        "xx, yy = np.meshgrid(np.linspace(-10, 5, 100),\n",
        "                    np.linspace(-10, 5, 100))"
      ],
      "execution_count": null,
      "outputs": []
    },
    {
      "cell_type": "code",
      "metadata": {
        "id": "XENWoVLXt2jU"
      },
      "source": [
        "z = np.zeros((100, 100))\n",
        "for i in range(100):\n",
        "  for j in range(100):\n",
        "    x = xx[i][j]\n",
        "    y = yy[i][j]\n",
        "    z[i, j] = sep_model(np.array([[x, y]]), [w, b])"
      ],
      "execution_count": null,
      "outputs": []
    },
    {
      "cell_type": "code",
      "metadata": {
        "id": "F6VutYfZuJJ8",
        "colab": {
          "base_uri": "https://localhost:8080/",
          "height": 269
        },
        "outputId": "61340bf9-5a17-44cc-9047-40655b051b45"
      },
      "source": [
        "pl.contourf(xx, yy, z, levels=40, cmap='Greens')\n",
        "pl.scatter(X[Y==0, 0], X[Y==0, 1], color='blue');\n",
        "pl.scatter(X[Y==1, 0], X[Y==1, 1], color='red');"
      ],
      "execution_count": null,
      "outputs": [
        {
          "output_type": "display_data",
          "data": {
            "image/png": "[encoded data removed]",
            "text/plain": [
              "<Figure size 432x288 with 1 Axes>"
            ]
          },
          "metadata": {
            "tags": []
          }
        }
      ]
    },
    {
      "cell_type": "code",
      "metadata": {
        "id": "HVKuSR7muPei"
      },
      "source": [
        ""
      ],
      "execution_count": null,
      "outputs": []
    }
  ]
}