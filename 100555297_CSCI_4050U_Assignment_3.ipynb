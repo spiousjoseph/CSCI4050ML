{
  "nbformat": 4,
  "nbformat_minor": 0,
  "metadata": {
    "colab": {
      "name": "100555297_CSCI 4050U Assignment 3.ipynb",
      "provenance": [],
      "collapsed_sections": []
    },
    "kernelspec": {
      "name": "python3",
      "display_name": "Python 3"
    }
  },
  "cells": [
    {
      "cell_type": "markdown",
      "metadata": {
        "id": "HN4x6gA6p4yy",
        "colab_type": "text"
      },
      "source": [
        "100555297\n",
        "Sunu Pious Joseph"
      ]
    },
    {
      "cell_type": "markdown",
      "metadata": {
        "id": "6QnWsVP_-flC",
        "colab_type": "text"
      },
      "source": [
        "# Assignment 3: \n",
        "\n",
        "[Available on Google Colaboratory](https://colab.research.google.com/drive/1QrcjfdcahcBPU3FuKMhxMGozGRzMTA3H)"
      ]
    },
    {
      "cell_type": "markdown",
      "metadata": {
        "id": "UfCt8EdDKzvQ",
        "colab_type": "text"
      },
      "source": [
        "## About\n",
        "\n",
        "In this assignment, you will work with the daily weather data for the city of Madrid from 1997 - 2015.\n",
        "\n",
        "The objective is to train a neural network that will predict various weather events including:\n",
        "\n",
        "- Rain\n",
        "- Snow\n",
        "- Fog\n",
        "- Thunderstorm\n",
        "- Hail\n",
        "- Tornado"
      ]
    },
    {
      "cell_type": "markdown",
      "metadata": {
        "id": "RmH74W2mMoVk",
        "colab_type": "text"
      },
      "source": [
        "## Submission\n",
        "\n",
        "- You must submit via `git push`.\n",
        "- You must complete running all the cells, and include the executed Jupyter notebook in the submitted commit."
      ]
    },
    {
      "cell_type": "code",
      "metadata": {
        "id": "g21QGZF8sjci",
        "colab_type": "code",
        "colab": {}
      },
      "source": [
        "%tensorflow_version 2.x"
      ],
      "execution_count": 0,
      "outputs": []
    },
    {
      "cell_type": "code",
      "metadata": {
        "id": "Ik1fi5_LtMv4",
        "colab_type": "code",
        "colab": {}
      },
      "source": [
        "import tensorflow as tf\n",
        "from tensorflow.keras.models import Model\n",
        "from tensorflow.keras.models import Sequential\n",
        "from tensorflow.keras.layers import Input, Reshape, Dense, Conv2D, MaxPool2D, Flatten, LSTM, SimpleRNN\n",
        "from tensorflow.keras.losses import sparse_categorical_crossentropy\n",
        "from tensorflow.keras.optimizers import Adam\n",
        "import numpy as np\n",
        "import pandas as pd\n",
        "import matplotlib.pyplot as pyplot"
      ],
      "execution_count": 0,
      "outputs": []
    },
    {
      "cell_type": "markdown",
      "metadata": {
        "id": "D7FQDxrP-dA8",
        "colab_type": "text"
      },
      "source": [
        "# Getting the data\n",
        "\n",
        "The data is available at the given URL.  The following code will load the data into a [Pandas DataFrame](https://pandas.pydata.org/pandas-docs/stable/).\n",
        "\n",
        "If you are unfamiliar with DataFrame API, you can easily pick it up from here: https://pandas.pydata.org/pandas-docs/stable/getting_started/10min.html\n",
        "\n",
        "Very minimal knowledge of DataFrame is needed, as most of the code is provided in the notebook already."
      ]
    },
    {
      "cell_type": "code",
      "metadata": {
        "id": "slnlgtt53R2x",
        "colab_type": "code",
        "colab": {}
      },
      "source": [
        "url = 'https://github.com/ontariotechu-csci4050u/course-material-2019/' \\\n",
        "      'raw/master/data/weather_madrid_LEMD_1997_2015.csv.gz'\n",
        "df = pd.read_csv(url).rename(columns={\"CET\": \"date\"}).set_index('date')\n",
        "df.columns = [x.strip() for x in df.columns]"
      ],
      "execution_count": 0,
      "outputs": []
    },
    {
      "cell_type": "markdown",
      "metadata": {
        "id": "_Bkebow__uPA",
        "colab_type": "text"
      },
      "source": [
        "This is what the dataframe `df` looks like.  Note that it has a number of numerical attributes including _temperature_, _pressure_, _visibility_, etc."
      ]
    },
    {
      "cell_type": "code",
      "metadata": {
        "id": "I6sf5P0K3WvP",
        "colab_type": "code",
        "outputId": "7845415d-6d31-48a2-d294-16c30cc080ce",
        "colab": {
          "base_uri": "https://localhost:8080/",
          "height": 364
        }
      },
      "source": [
        "df.head()"
      ],
      "execution_count": 2010,
      "outputs": [
        {
          "output_type": "execute_result",
          "data": {
            "text/html": [
              "<div>\n",
              "<style scoped>\n",
              "    .dataframe tbody tr th:only-of-type {\n",
              "        vertical-align: middle;\n",
              "    }\n",
              "\n",
              "    .dataframe tbody tr th {\n",
              "        vertical-align: top;\n",
              "    }\n",
              "\n",
              "    .dataframe thead th {\n",
              "        text-align: right;\n",
              "    }\n",
              "</style>\n",
              "<table border=\"1\" class=\"dataframe\">\n",
              "  <thead>\n",
              "    <tr style=\"text-align: right;\">\n",
              "      <th></th>\n",
              "      <th>Max TemperatureC</th>\n",
              "      <th>Mean TemperatureC</th>\n",
              "      <th>Min TemperatureC</th>\n",
              "      <th>Dew PointC</th>\n",
              "      <th>MeanDew PointC</th>\n",
              "      <th>Min DewpointC</th>\n",
              "      <th>Max Humidity</th>\n",
              "      <th>Mean Humidity</th>\n",
              "      <th>Min Humidity</th>\n",
              "      <th>Max Sea Level PressurehPa</th>\n",
              "      <th>Mean Sea Level PressurehPa</th>\n",
              "      <th>Min Sea Level PressurehPa</th>\n",
              "      <th>Max VisibilityKm</th>\n",
              "      <th>Mean VisibilityKm</th>\n",
              "      <th>Min VisibilitykM</th>\n",
              "      <th>Max Wind SpeedKm/h</th>\n",
              "      <th>Mean Wind SpeedKm/h</th>\n",
              "      <th>Max Gust SpeedKm/h</th>\n",
              "      <th>Precipitationmm</th>\n",
              "      <th>CloudCover</th>\n",
              "      <th>Events</th>\n",
              "      <th>WindDirDegrees</th>\n",
              "    </tr>\n",
              "    <tr>\n",
              "      <th>date</th>\n",
              "      <th></th>\n",
              "      <th></th>\n",
              "      <th></th>\n",
              "      <th></th>\n",
              "      <th></th>\n",
              "      <th></th>\n",
              "      <th></th>\n",
              "      <th></th>\n",
              "      <th></th>\n",
              "      <th></th>\n",
              "      <th></th>\n",
              "      <th></th>\n",
              "      <th></th>\n",
              "      <th></th>\n",
              "      <th></th>\n",
              "      <th></th>\n",
              "      <th></th>\n",
              "      <th></th>\n",
              "      <th></th>\n",
              "      <th></th>\n",
              "      <th></th>\n",
              "      <th></th>\n",
              "    </tr>\n",
              "  </thead>\n",
              "  <tbody>\n",
              "    <tr>\n",
              "      <th>1997-1-1</th>\n",
              "      <td>7.0</td>\n",
              "      <td>4.0</td>\n",
              "      <td>2.0</td>\n",
              "      <td>5.0</td>\n",
              "      <td>3.0</td>\n",
              "      <td>2.0</td>\n",
              "      <td>100.0</td>\n",
              "      <td>95.0</td>\n",
              "      <td>76.0</td>\n",
              "      <td>1010</td>\n",
              "      <td>1008</td>\n",
              "      <td>1004</td>\n",
              "      <td>10.0</td>\n",
              "      <td>9.0</td>\n",
              "      <td>4.0</td>\n",
              "      <td>13</td>\n",
              "      <td>6</td>\n",
              "      <td>NaN</td>\n",
              "      <td>0.0</td>\n",
              "      <td>6.0</td>\n",
              "      <td>NaN</td>\n",
              "      <td>229</td>\n",
              "    </tr>\n",
              "    <tr>\n",
              "      <th>1997-1-2</th>\n",
              "      <td>7.0</td>\n",
              "      <td>3.0</td>\n",
              "      <td>0.0</td>\n",
              "      <td>6.0</td>\n",
              "      <td>3.0</td>\n",
              "      <td>0.0</td>\n",
              "      <td>100.0</td>\n",
              "      <td>92.0</td>\n",
              "      <td>71.0</td>\n",
              "      <td>1007</td>\n",
              "      <td>1003</td>\n",
              "      <td>997</td>\n",
              "      <td>10.0</td>\n",
              "      <td>9.0</td>\n",
              "      <td>4.0</td>\n",
              "      <td>26</td>\n",
              "      <td>8</td>\n",
              "      <td>47.0</td>\n",
              "      <td>0.0</td>\n",
              "      <td>5.0</td>\n",
              "      <td>Rain</td>\n",
              "      <td>143</td>\n",
              "    </tr>\n",
              "    <tr>\n",
              "      <th>1997-1-3</th>\n",
              "      <td>5.0</td>\n",
              "      <td>3.0</td>\n",
              "      <td>2.0</td>\n",
              "      <td>5.0</td>\n",
              "      <td>1.0</td>\n",
              "      <td>-1.0</td>\n",
              "      <td>100.0</td>\n",
              "      <td>85.0</td>\n",
              "      <td>70.0</td>\n",
              "      <td>1005</td>\n",
              "      <td>999</td>\n",
              "      <td>996</td>\n",
              "      <td>10.0</td>\n",
              "      <td>10.0</td>\n",
              "      <td>7.0</td>\n",
              "      <td>27</td>\n",
              "      <td>19</td>\n",
              "      <td>NaN</td>\n",
              "      <td>0.0</td>\n",
              "      <td>6.0</td>\n",
              "      <td>Rain-Snow</td>\n",
              "      <td>256</td>\n",
              "    </tr>\n",
              "    <tr>\n",
              "      <th>1997-1-4</th>\n",
              "      <td>7.0</td>\n",
              "      <td>3.0</td>\n",
              "      <td>-1.0</td>\n",
              "      <td>-2.0</td>\n",
              "      <td>-3.0</td>\n",
              "      <td>-4.0</td>\n",
              "      <td>86.0</td>\n",
              "      <td>63.0</td>\n",
              "      <td>49.0</td>\n",
              "      <td>1012</td>\n",
              "      <td>1010</td>\n",
              "      <td>1005</td>\n",
              "      <td>10.0</td>\n",
              "      <td>10.0</td>\n",
              "      <td>10.0</td>\n",
              "      <td>27</td>\n",
              "      <td>19</td>\n",
              "      <td>40.0</td>\n",
              "      <td>0.0</td>\n",
              "      <td>2.0</td>\n",
              "      <td>NaN</td>\n",
              "      <td>284</td>\n",
              "    </tr>\n",
              "    <tr>\n",
              "      <th>1997-1-5</th>\n",
              "      <td>2.0</td>\n",
              "      <td>0.0</td>\n",
              "      <td>-1.0</td>\n",
              "      <td>2.0</td>\n",
              "      <td>0.0</td>\n",
              "      <td>-3.0</td>\n",
              "      <td>100.0</td>\n",
              "      <td>95.0</td>\n",
              "      <td>86.0</td>\n",
              "      <td>1012</td>\n",
              "      <td>1008</td>\n",
              "      <td>1005</td>\n",
              "      <td>10.0</td>\n",
              "      <td>5.0</td>\n",
              "      <td>1.0</td>\n",
              "      <td>14</td>\n",
              "      <td>6</td>\n",
              "      <td>NaN</td>\n",
              "      <td>0.0</td>\n",
              "      <td>7.0</td>\n",
              "      <td>Snow</td>\n",
              "      <td>2</td>\n",
              "    </tr>\n",
              "  </tbody>\n",
              "</table>\n",
              "</div>"
            ],
            "text/plain": [
              "          Max TemperatureC  Mean TemperatureC  ...     Events  WindDirDegrees\n",
              "date                                           ...                           \n",
              "1997-1-1               7.0                4.0  ...        NaN             229\n",
              "1997-1-2               7.0                3.0  ...       Rain             143\n",
              "1997-1-3               5.0                3.0  ...  Rain-Snow             256\n",
              "1997-1-4               7.0                3.0  ...        NaN             284\n",
              "1997-1-5               2.0                0.0  ...       Snow               2\n",
              "\n",
              "[5 rows x 22 columns]"
            ]
          },
          "metadata": {
            "tags": []
          },
          "execution_count": 2010
        }
      ]
    },
    {
      "cell_type": "markdown",
      "metadata": {
        "id": "c5n1A31fA1Jv",
        "colab_type": "text"
      },
      "source": [
        "# Building the weather event columns"
      ]
    },
    {
      "cell_type": "markdown",
      "metadata": {
        "id": "BgjMYzTs_7Zi",
        "colab_type": "text"
      },
      "source": [
        "We construct _binary_ columns as indicators of the key weather events that occurred during the day.\n",
        "\n",
        "The weather conditions are:\n",
        "\n",
        "- Rain, Snow, Fog, Thunderstorm, Hail, Tornado\n",
        "- and also _NoEvent_.\n",
        "\n",
        "They are additional columns to the dataframe."
      ]
    },
    {
      "cell_type": "code",
      "metadata": {
        "id": "170C1ERN3tOp",
        "colab_type": "code",
        "colab": {}
      },
      "source": [
        "event_columns = ['Rain', 'Snow', 'Fog', 'Thunderstorm', 'Hail', 'Tornado', 'NoEvent']"
      ],
      "execution_count": 0,
      "outputs": []
    },
    {
      "cell_type": "code",
      "metadata": {
        "id": "kOjR1mMC40Hg",
        "colab_type": "code",
        "colab": {}
      },
      "source": [
        "for ev in event_columns:\n",
        "  if ev == 'NoEvent':\n",
        "    df[ev] = df['Events'].isna()\n",
        "  else:\n",
        "    df[ev] = df['Events'].str.contains(ev).fillna(False)"
      ],
      "execution_count": 0,
      "outputs": []
    },
    {
      "cell_type": "markdown",
      "metadata": {
        "id": "uJ-jyIszAXVI",
        "colab_type": "text"
      },
      "source": [
        "Here is the _augmented_ dataframe.  Scroll horizontally to make sure that `df` now contains the binary indicators of each weather event."
      ]
    },
    {
      "cell_type": "code",
      "metadata": {
        "id": "dkRupUIp6Tpm",
        "colab_type": "code",
        "outputId": "871cc055-a6b8-4ad7-ed3f-b135b999a451",
        "colab": {
          "base_uri": "https://localhost:8080/",
          "height": 364
        }
      },
      "source": [
        "df.head()"
      ],
      "execution_count": 2013,
      "outputs": [
        {
          "output_type": "execute_result",
          "data": {
            "text/html": [
              "<div>\n",
              "<style scoped>\n",
              "    .dataframe tbody tr th:only-of-type {\n",
              "        vertical-align: middle;\n",
              "    }\n",
              "\n",
              "    .dataframe tbody tr th {\n",
              "        vertical-align: top;\n",
              "    }\n",
              "\n",
              "    .dataframe thead th {\n",
              "        text-align: right;\n",
              "    }\n",
              "</style>\n",
              "<table border=\"1\" class=\"dataframe\">\n",
              "  <thead>\n",
              "    <tr style=\"text-align: right;\">\n",
              "      <th></th>\n",
              "      <th>Max TemperatureC</th>\n",
              "      <th>Mean TemperatureC</th>\n",
              "      <th>Min TemperatureC</th>\n",
              "      <th>Dew PointC</th>\n",
              "      <th>MeanDew PointC</th>\n",
              "      <th>Min DewpointC</th>\n",
              "      <th>Max Humidity</th>\n",
              "      <th>Mean Humidity</th>\n",
              "      <th>Min Humidity</th>\n",
              "      <th>Max Sea Level PressurehPa</th>\n",
              "      <th>Mean Sea Level PressurehPa</th>\n",
              "      <th>Min Sea Level PressurehPa</th>\n",
              "      <th>Max VisibilityKm</th>\n",
              "      <th>Mean VisibilityKm</th>\n",
              "      <th>Min VisibilitykM</th>\n",
              "      <th>Max Wind SpeedKm/h</th>\n",
              "      <th>Mean Wind SpeedKm/h</th>\n",
              "      <th>Max Gust SpeedKm/h</th>\n",
              "      <th>Precipitationmm</th>\n",
              "      <th>CloudCover</th>\n",
              "      <th>Events</th>\n",
              "      <th>WindDirDegrees</th>\n",
              "      <th>Rain</th>\n",
              "      <th>Snow</th>\n",
              "      <th>Fog</th>\n",
              "      <th>Thunderstorm</th>\n",
              "      <th>Hail</th>\n",
              "      <th>Tornado</th>\n",
              "      <th>NoEvent</th>\n",
              "    </tr>\n",
              "    <tr>\n",
              "      <th>date</th>\n",
              "      <th></th>\n",
              "      <th></th>\n",
              "      <th></th>\n",
              "      <th></th>\n",
              "      <th></th>\n",
              "      <th></th>\n",
              "      <th></th>\n",
              "      <th></th>\n",
              "      <th></th>\n",
              "      <th></th>\n",
              "      <th></th>\n",
              "      <th></th>\n",
              "      <th></th>\n",
              "      <th></th>\n",
              "      <th></th>\n",
              "      <th></th>\n",
              "      <th></th>\n",
              "      <th></th>\n",
              "      <th></th>\n",
              "      <th></th>\n",
              "      <th></th>\n",
              "      <th></th>\n",
              "      <th></th>\n",
              "      <th></th>\n",
              "      <th></th>\n",
              "      <th></th>\n",
              "      <th></th>\n",
              "      <th></th>\n",
              "      <th></th>\n",
              "    </tr>\n",
              "  </thead>\n",
              "  <tbody>\n",
              "    <tr>\n",
              "      <th>1997-1-1</th>\n",
              "      <td>7.0</td>\n",
              "      <td>4.0</td>\n",
              "      <td>2.0</td>\n",
              "      <td>5.0</td>\n",
              "      <td>3.0</td>\n",
              "      <td>2.0</td>\n",
              "      <td>100.0</td>\n",
              "      <td>95.0</td>\n",
              "      <td>76.0</td>\n",
              "      <td>1010</td>\n",
              "      <td>1008</td>\n",
              "      <td>1004</td>\n",
              "      <td>10.0</td>\n",
              "      <td>9.0</td>\n",
              "      <td>4.0</td>\n",
              "      <td>13</td>\n",
              "      <td>6</td>\n",
              "      <td>NaN</td>\n",
              "      <td>0.0</td>\n",
              "      <td>6.0</td>\n",
              "      <td>NaN</td>\n",
              "      <td>229</td>\n",
              "      <td>False</td>\n",
              "      <td>False</td>\n",
              "      <td>False</td>\n",
              "      <td>False</td>\n",
              "      <td>False</td>\n",
              "      <td>False</td>\n",
              "      <td>True</td>\n",
              "    </tr>\n",
              "    <tr>\n",
              "      <th>1997-1-2</th>\n",
              "      <td>7.0</td>\n",
              "      <td>3.0</td>\n",
              "      <td>0.0</td>\n",
              "      <td>6.0</td>\n",
              "      <td>3.0</td>\n",
              "      <td>0.0</td>\n",
              "      <td>100.0</td>\n",
              "      <td>92.0</td>\n",
              "      <td>71.0</td>\n",
              "      <td>1007</td>\n",
              "      <td>1003</td>\n",
              "      <td>997</td>\n",
              "      <td>10.0</td>\n",
              "      <td>9.0</td>\n",
              "      <td>4.0</td>\n",
              "      <td>26</td>\n",
              "      <td>8</td>\n",
              "      <td>47.0</td>\n",
              "      <td>0.0</td>\n",
              "      <td>5.0</td>\n",
              "      <td>Rain</td>\n",
              "      <td>143</td>\n",
              "      <td>True</td>\n",
              "      <td>False</td>\n",
              "      <td>False</td>\n",
              "      <td>False</td>\n",
              "      <td>False</td>\n",
              "      <td>False</td>\n",
              "      <td>False</td>\n",
              "    </tr>\n",
              "    <tr>\n",
              "      <th>1997-1-3</th>\n",
              "      <td>5.0</td>\n",
              "      <td>3.0</td>\n",
              "      <td>2.0</td>\n",
              "      <td>5.0</td>\n",
              "      <td>1.0</td>\n",
              "      <td>-1.0</td>\n",
              "      <td>100.0</td>\n",
              "      <td>85.0</td>\n",
              "      <td>70.0</td>\n",
              "      <td>1005</td>\n",
              "      <td>999</td>\n",
              "      <td>996</td>\n",
              "      <td>10.0</td>\n",
              "      <td>10.0</td>\n",
              "      <td>7.0</td>\n",
              "      <td>27</td>\n",
              "      <td>19</td>\n",
              "      <td>NaN</td>\n",
              "      <td>0.0</td>\n",
              "      <td>6.0</td>\n",
              "      <td>Rain-Snow</td>\n",
              "      <td>256</td>\n",
              "      <td>True</td>\n",
              "      <td>True</td>\n",
              "      <td>False</td>\n",
              "      <td>False</td>\n",
              "      <td>False</td>\n",
              "      <td>False</td>\n",
              "      <td>False</td>\n",
              "    </tr>\n",
              "    <tr>\n",
              "      <th>1997-1-4</th>\n",
              "      <td>7.0</td>\n",
              "      <td>3.0</td>\n",
              "      <td>-1.0</td>\n",
              "      <td>-2.0</td>\n",
              "      <td>-3.0</td>\n",
              "      <td>-4.0</td>\n",
              "      <td>86.0</td>\n",
              "      <td>63.0</td>\n",
              "      <td>49.0</td>\n",
              "      <td>1012</td>\n",
              "      <td>1010</td>\n",
              "      <td>1005</td>\n",
              "      <td>10.0</td>\n",
              "      <td>10.0</td>\n",
              "      <td>10.0</td>\n",
              "      <td>27</td>\n",
              "      <td>19</td>\n",
              "      <td>40.0</td>\n",
              "      <td>0.0</td>\n",
              "      <td>2.0</td>\n",
              "      <td>NaN</td>\n",
              "      <td>284</td>\n",
              "      <td>False</td>\n",
              "      <td>False</td>\n",
              "      <td>False</td>\n",
              "      <td>False</td>\n",
              "      <td>False</td>\n",
              "      <td>False</td>\n",
              "      <td>True</td>\n",
              "    </tr>\n",
              "    <tr>\n",
              "      <th>1997-1-5</th>\n",
              "      <td>2.0</td>\n",
              "      <td>0.0</td>\n",
              "      <td>-1.0</td>\n",
              "      <td>2.0</td>\n",
              "      <td>0.0</td>\n",
              "      <td>-3.0</td>\n",
              "      <td>100.0</td>\n",
              "      <td>95.0</td>\n",
              "      <td>86.0</td>\n",
              "      <td>1012</td>\n",
              "      <td>1008</td>\n",
              "      <td>1005</td>\n",
              "      <td>10.0</td>\n",
              "      <td>5.0</td>\n",
              "      <td>1.0</td>\n",
              "      <td>14</td>\n",
              "      <td>6</td>\n",
              "      <td>NaN</td>\n",
              "      <td>0.0</td>\n",
              "      <td>7.0</td>\n",
              "      <td>Snow</td>\n",
              "      <td>2</td>\n",
              "      <td>False</td>\n",
              "      <td>True</td>\n",
              "      <td>False</td>\n",
              "      <td>False</td>\n",
              "      <td>False</td>\n",
              "      <td>False</td>\n",
              "      <td>False</td>\n",
              "    </tr>\n",
              "  </tbody>\n",
              "</table>\n",
              "</div>"
            ],
            "text/plain": [
              "          Max TemperatureC  Mean TemperatureC  ...  Tornado  NoEvent\n",
              "date                                           ...                  \n",
              "1997-1-1               7.0                4.0  ...    False     True\n",
              "1997-1-2               7.0                3.0  ...    False    False\n",
              "1997-1-3               5.0                3.0  ...    False    False\n",
              "1997-1-4               7.0                3.0  ...    False     True\n",
              "1997-1-5               2.0                0.0  ...    False    False\n",
              "\n",
              "[5 rows x 29 columns]"
            ]
          },
          "metadata": {
            "tags": []
          },
          "execution_count": 2013
        }
      ]
    },
    {
      "cell_type": "markdown",
      "metadata": {
        "id": "Fv9-vFU9Ayay",
        "colab_type": "text"
      },
      "source": [
        "## Building the features"
      ]
    },
    {
      "cell_type": "markdown",
      "metadata": {
        "id": "u3iA1HBHBHHi",
        "colab_type": "text"
      },
      "source": [
        "We identify the numeric columns as _observations_.  We will use these columns as input vectors to a neural network.\n",
        "\n",
        "**Note**: Since large magnitude differences will cause serious numerical issues during gradient descent, we *always* use **normalized** vectors.  So for each numerical column, we compute the minimum and maximum values which are used to rescale the column to the range of :\n",
        "`[0.0 .. 1.0]`"
      ]
    },
    {
      "cell_type": "code",
      "metadata": {
        "id": "-IorDBmn6Uvd",
        "colab_type": "code",
        "colab": {}
      },
      "source": [
        "def get_normalized_features(df, columns):\n",
        "  df2 = pd.DataFrame(index=df.index)\n",
        "  for c in columns:\n",
        "    series = df[c]\n",
        "    max = series.max()\n",
        "    min = series.min()\n",
        "    df2[c] = (series - min) / (max - min)\n",
        "  return df2"
      ],
      "execution_count": 0,
      "outputs": []
    },
    {
      "cell_type": "code",
      "metadata": {
        "id": "wSTJUBsZ7gJ_",
        "colab_type": "code",
        "colab": {}
      },
      "source": [
        "numeric_columns = [\n",
        "       'Max TemperatureC',\n",
        "       'Mean TemperatureC',\n",
        "       'Min TemperatureC',\n",
        "       'Dew PointC',\n",
        "       'MeanDew PointC',\n",
        "       'Min DewpointC',\n",
        "       'Max Humidity',\n",
        "       'Mean Humidity',\n",
        "       'Min Humidity',\n",
        "       'Max Sea Level PressurehPa',\n",
        "       'Mean Sea Level PressurehPa',\n",
        "       'Min Sea Level PressurehPa',\n",
        "       'Max VisibilityKm',\n",
        "       'Mean VisibilityKm',\n",
        "       'Min VisibilitykM',\n",
        "       'Max Wind SpeedKm/h',\n",
        "       'Mean Wind SpeedKm/h',\n",
        "       'Max Gust SpeedKm/h',\n",
        "       'Precipitationmm',\n",
        "       'CloudCover',\n",
        "       'WindDirDegrees']"
      ],
      "execution_count": 0,
      "outputs": []
    },
    {
      "cell_type": "markdown",
      "metadata": {
        "id": "jiFf93CaCN1i",
        "colab_type": "text"
      },
      "source": [
        "The features are the normalized observations.  We can use them in learning a model to predict weather events."
      ]
    },
    {
      "cell_type": "code",
      "metadata": {
        "id": "6isMtbP-7nLX",
        "colab_type": "code",
        "outputId": "418a9e0a-3889-4a44-d94a-2ed957a5b25a",
        "colab": {
          "base_uri": "https://localhost:8080/",
          "height": 364
        }
      },
      "source": [
        "features = get_normalized_features(df, numeric_columns)\n",
        "features.head()"
      ],
      "execution_count": 2016,
      "outputs": [
        {
          "output_type": "execute_result",
          "data": {
            "text/html": [
              "<div>\n",
              "<style scoped>\n",
              "    .dataframe tbody tr th:only-of-type {\n",
              "        vertical-align: middle;\n",
              "    }\n",
              "\n",
              "    .dataframe tbody tr th {\n",
              "        vertical-align: top;\n",
              "    }\n",
              "\n",
              "    .dataframe thead th {\n",
              "        text-align: right;\n",
              "    }\n",
              "</style>\n",
              "<table border=\"1\" class=\"dataframe\">\n",
              "  <thead>\n",
              "    <tr style=\"text-align: right;\">\n",
              "      <th></th>\n",
              "      <th>Max TemperatureC</th>\n",
              "      <th>Mean TemperatureC</th>\n",
              "      <th>Min TemperatureC</th>\n",
              "      <th>Dew PointC</th>\n",
              "      <th>MeanDew PointC</th>\n",
              "      <th>Min DewpointC</th>\n",
              "      <th>Max Humidity</th>\n",
              "      <th>Mean Humidity</th>\n",
              "      <th>Min Humidity</th>\n",
              "      <th>Max Sea Level PressurehPa</th>\n",
              "      <th>Mean Sea Level PressurehPa</th>\n",
              "      <th>Min Sea Level PressurehPa</th>\n",
              "      <th>Max VisibilityKm</th>\n",
              "      <th>Mean VisibilityKm</th>\n",
              "      <th>Min VisibilitykM</th>\n",
              "      <th>Max Wind SpeedKm/h</th>\n",
              "      <th>Mean Wind SpeedKm/h</th>\n",
              "      <th>Max Gust SpeedKm/h</th>\n",
              "      <th>Precipitationmm</th>\n",
              "      <th>CloudCover</th>\n",
              "      <th>WindDirDegrees</th>\n",
              "    </tr>\n",
              "    <tr>\n",
              "      <th>date</th>\n",
              "      <th></th>\n",
              "      <th></th>\n",
              "      <th></th>\n",
              "      <th></th>\n",
              "      <th></th>\n",
              "      <th></th>\n",
              "      <th></th>\n",
              "      <th></th>\n",
              "      <th></th>\n",
              "      <th></th>\n",
              "      <th></th>\n",
              "      <th></th>\n",
              "      <th></th>\n",
              "      <th></th>\n",
              "      <th></th>\n",
              "      <th></th>\n",
              "      <th></th>\n",
              "      <th></th>\n",
              "      <th></th>\n",
              "      <th></th>\n",
              "      <th></th>\n",
              "    </tr>\n",
              "  </thead>\n",
              "  <tbody>\n",
              "    <tr>\n",
              "      <th>1997-1-1</th>\n",
              "      <td>0.170732</td>\n",
              "      <td>0.200000</td>\n",
              "      <td>0.315789</td>\n",
              "      <td>0.53125</td>\n",
              "      <td>0.580645</td>\n",
              "      <td>0.666667</td>\n",
              "      <td>1.000000</td>\n",
              "      <td>0.941176</td>\n",
              "      <td>0.750000</td>\n",
              "      <td>0.301887</td>\n",
              "      <td>0.385965</td>\n",
              "      <td>0.513158</td>\n",
              "      <td>0.3</td>\n",
              "      <td>0.290323</td>\n",
              "      <td>0.129032</td>\n",
              "      <td>0.071429</td>\n",
              "      <td>0.153846</td>\n",
              "      <td>NaN</td>\n",
              "      <td>0.0</td>\n",
              "      <td>0.750</td>\n",
              "      <td>0.637119</td>\n",
              "    </tr>\n",
              "    <tr>\n",
              "      <th>1997-1-2</th>\n",
              "      <td>0.170732</td>\n",
              "      <td>0.171429</td>\n",
              "      <td>0.263158</td>\n",
              "      <td>0.56250</td>\n",
              "      <td>0.580645</td>\n",
              "      <td>0.611111</td>\n",
              "      <td>1.000000</td>\n",
              "      <td>0.905882</td>\n",
              "      <td>0.697917</td>\n",
              "      <td>0.245283</td>\n",
              "      <td>0.298246</td>\n",
              "      <td>0.421053</td>\n",
              "      <td>0.3</td>\n",
              "      <td>0.290323</td>\n",
              "      <td>0.129032</td>\n",
              "      <td>0.142857</td>\n",
              "      <td>0.205128</td>\n",
              "      <td>0.333333</td>\n",
              "      <td>0.0</td>\n",
              "      <td>0.625</td>\n",
              "      <td>0.398892</td>\n",
              "    </tr>\n",
              "    <tr>\n",
              "      <th>1997-1-3</th>\n",
              "      <td>0.121951</td>\n",
              "      <td>0.171429</td>\n",
              "      <td>0.315789</td>\n",
              "      <td>0.53125</td>\n",
              "      <td>0.516129</td>\n",
              "      <td>0.583333</td>\n",
              "      <td>1.000000</td>\n",
              "      <td>0.823529</td>\n",
              "      <td>0.687500</td>\n",
              "      <td>0.207547</td>\n",
              "      <td>0.228070</td>\n",
              "      <td>0.407895</td>\n",
              "      <td>0.3</td>\n",
              "      <td>0.322581</td>\n",
              "      <td>0.225806</td>\n",
              "      <td>0.148352</td>\n",
              "      <td>0.487179</td>\n",
              "      <td>NaN</td>\n",
              "      <td>0.0</td>\n",
              "      <td>0.750</td>\n",
              "      <td>0.711911</td>\n",
              "    </tr>\n",
              "    <tr>\n",
              "      <th>1997-1-4</th>\n",
              "      <td>0.170732</td>\n",
              "      <td>0.171429</td>\n",
              "      <td>0.236842</td>\n",
              "      <td>0.31250</td>\n",
              "      <td>0.387097</td>\n",
              "      <td>0.500000</td>\n",
              "      <td>0.833333</td>\n",
              "      <td>0.564706</td>\n",
              "      <td>0.468750</td>\n",
              "      <td>0.339623</td>\n",
              "      <td>0.421053</td>\n",
              "      <td>0.526316</td>\n",
              "      <td>0.3</td>\n",
              "      <td>0.322581</td>\n",
              "      <td>0.322581</td>\n",
              "      <td>0.148352</td>\n",
              "      <td>0.487179</td>\n",
              "      <td>0.250000</td>\n",
              "      <td>0.0</td>\n",
              "      <td>0.250</td>\n",
              "      <td>0.789474</td>\n",
              "    </tr>\n",
              "    <tr>\n",
              "      <th>1997-1-5</th>\n",
              "      <td>0.048780</td>\n",
              "      <td>0.085714</td>\n",
              "      <td>0.236842</td>\n",
              "      <td>0.43750</td>\n",
              "      <td>0.483871</td>\n",
              "      <td>0.527778</td>\n",
              "      <td>1.000000</td>\n",
              "      <td>0.941176</td>\n",
              "      <td>0.854167</td>\n",
              "      <td>0.339623</td>\n",
              "      <td>0.385965</td>\n",
              "      <td>0.526316</td>\n",
              "      <td>0.3</td>\n",
              "      <td>0.161290</td>\n",
              "      <td>0.032258</td>\n",
              "      <td>0.076923</td>\n",
              "      <td>0.153846</td>\n",
              "      <td>NaN</td>\n",
              "      <td>0.0</td>\n",
              "      <td>0.875</td>\n",
              "      <td>0.008310</td>\n",
              "    </tr>\n",
              "  </tbody>\n",
              "</table>\n",
              "</div>"
            ],
            "text/plain": [
              "          Max TemperatureC  Mean TemperatureC  ...  CloudCover  WindDirDegrees\n",
              "date                                           ...                            \n",
              "1997-1-1          0.170732           0.200000  ...       0.750        0.637119\n",
              "1997-1-2          0.170732           0.171429  ...       0.625        0.398892\n",
              "1997-1-3          0.121951           0.171429  ...       0.750        0.711911\n",
              "1997-1-4          0.170732           0.171429  ...       0.250        0.789474\n",
              "1997-1-5          0.048780           0.085714  ...       0.875        0.008310\n",
              "\n",
              "[5 rows x 21 columns]"
            ]
          },
          "metadata": {
            "tags": []
          },
          "execution_count": 2016
        }
      ]
    },
    {
      "cell_type": "code",
      "metadata": {
        "id": "W3RTf2Yt8EB-",
        "colab_type": "code",
        "outputId": "fbacc9f7-7540-4dd2-e9ce-a7f989094a16",
        "colab": {
          "base_uri": "https://localhost:8080/",
          "height": 34
        }
      },
      "source": [
        "features.shape"
      ],
      "execution_count": 2017,
      "outputs": [
        {
          "output_type": "execute_result",
          "data": {
            "text/plain": [
              "(6812, 21)"
            ]
          },
          "metadata": {
            "tags": []
          },
          "execution_count": 2017
        }
      ]
    },
    {
      "cell_type": "markdown",
      "metadata": {
        "id": "xbMRqEh5Ck41",
        "colab_type": "text"
      },
      "source": [
        "# Building Output"
      ]
    },
    {
      "cell_type": "markdown",
      "metadata": {
        "id": "O0R9jBXtCzkz",
        "colab_type": "text"
      },
      "source": [
        "The targets are 0/1 columns for each of the "
      ]
    },
    {
      "cell_type": "code",
      "metadata": {
        "id": "AaYdIfj48S80",
        "colab_type": "code",
        "outputId": "19beac10-c57b-47b2-c768-eb02ec3e6e12",
        "colab": {
          "base_uri": "https://localhost:8080/",
          "height": 227
        }
      },
      "source": [
        "targets = df[event_columns].applymap(lambda x: 1 if x else 0)\n",
        "targets.head()"
      ],
      "execution_count": 2018,
      "outputs": [
        {
          "output_type": "execute_result",
          "data": {
            "text/html": [
              "<div>\n",
              "<style scoped>\n",
              "    .dataframe tbody tr th:only-of-type {\n",
              "        vertical-align: middle;\n",
              "    }\n",
              "\n",
              "    .dataframe tbody tr th {\n",
              "        vertical-align: top;\n",
              "    }\n",
              "\n",
              "    .dataframe thead th {\n",
              "        text-align: right;\n",
              "    }\n",
              "</style>\n",
              "<table border=\"1\" class=\"dataframe\">\n",
              "  <thead>\n",
              "    <tr style=\"text-align: right;\">\n",
              "      <th></th>\n",
              "      <th>Rain</th>\n",
              "      <th>Snow</th>\n",
              "      <th>Fog</th>\n",
              "      <th>Thunderstorm</th>\n",
              "      <th>Hail</th>\n",
              "      <th>Tornado</th>\n",
              "      <th>NoEvent</th>\n",
              "    </tr>\n",
              "    <tr>\n",
              "      <th>date</th>\n",
              "      <th></th>\n",
              "      <th></th>\n",
              "      <th></th>\n",
              "      <th></th>\n",
              "      <th></th>\n",
              "      <th></th>\n",
              "      <th></th>\n",
              "    </tr>\n",
              "  </thead>\n",
              "  <tbody>\n",
              "    <tr>\n",
              "      <th>1997-1-1</th>\n",
              "      <td>0</td>\n",
              "      <td>0</td>\n",
              "      <td>0</td>\n",
              "      <td>0</td>\n",
              "      <td>0</td>\n",
              "      <td>0</td>\n",
              "      <td>1</td>\n",
              "    </tr>\n",
              "    <tr>\n",
              "      <th>1997-1-2</th>\n",
              "      <td>1</td>\n",
              "      <td>0</td>\n",
              "      <td>0</td>\n",
              "      <td>0</td>\n",
              "      <td>0</td>\n",
              "      <td>0</td>\n",
              "      <td>0</td>\n",
              "    </tr>\n",
              "    <tr>\n",
              "      <th>1997-1-3</th>\n",
              "      <td>1</td>\n",
              "      <td>1</td>\n",
              "      <td>0</td>\n",
              "      <td>0</td>\n",
              "      <td>0</td>\n",
              "      <td>0</td>\n",
              "      <td>0</td>\n",
              "    </tr>\n",
              "    <tr>\n",
              "      <th>1997-1-4</th>\n",
              "      <td>0</td>\n",
              "      <td>0</td>\n",
              "      <td>0</td>\n",
              "      <td>0</td>\n",
              "      <td>0</td>\n",
              "      <td>0</td>\n",
              "      <td>1</td>\n",
              "    </tr>\n",
              "    <tr>\n",
              "      <th>1997-1-5</th>\n",
              "      <td>0</td>\n",
              "      <td>1</td>\n",
              "      <td>0</td>\n",
              "      <td>0</td>\n",
              "      <td>0</td>\n",
              "      <td>0</td>\n",
              "      <td>0</td>\n",
              "    </tr>\n",
              "  </tbody>\n",
              "</table>\n",
              "</div>"
            ],
            "text/plain": [
              "          Rain  Snow  Fog  Thunderstorm  Hail  Tornado  NoEvent\n",
              "date                                                           \n",
              "1997-1-1     0     0    0             0     0        0        1\n",
              "1997-1-2     1     0    0             0     0        0        0\n",
              "1997-1-3     1     1    0             0     0        0        0\n",
              "1997-1-4     0     0    0             0     0        0        1\n",
              "1997-1-5     0     1    0             0     0        0        0"
            ]
          },
          "metadata": {
            "tags": []
          },
          "execution_count": 2018
        }
      ]
    },
    {
      "cell_type": "markdown",
      "metadata": {
        "id": "79sdyPr-Gd4V",
        "colab_type": "text"
      },
      "source": [
        "# Building the training and test data\n",
        "\n",
        "We will split the data as follows:\n",
        "\n",
        "- Training: 1997 - 2007\n",
        "- Testing: 2007 - 2015"
      ]
    },
    {
      "cell_type": "code",
      "metadata": {
        "id": "I04wZvc0Gn1T",
        "colab_type": "code",
        "colab": {}
      },
      "source": [
        "x_train = features.loc[:'2007-12-31']\n",
        "x_test = features.loc['2008-1-1':]\n",
        "\n",
        "y_train = targets.loc[x_train.index]\n",
        "y_test = targets.loc[x_test.index]"
      ],
      "execution_count": 0,
      "outputs": []
    },
    {
      "cell_type": "code",
      "metadata": {
        "id": "pGZ8tJbQG-WW",
        "colab_type": "code",
        "outputId": "f5bec663-cc4f-4e23-a084-4c2f534b79b8",
        "colab": {
          "base_uri": "https://localhost:8080/",
          "height": 34
        }
      },
      "source": [
        "x_train.shape, x_test.shape"
      ],
      "execution_count": 2020,
      "outputs": [
        {
          "output_type": "execute_result",
          "data": {
            "text/plain": [
              "((3890, 21), (2922, 21))"
            ]
          },
          "metadata": {
            "tags": []
          },
          "execution_count": 2020
        }
      ]
    },
    {
      "cell_type": "code",
      "metadata": {
        "id": "VxA1-9LoG_tl",
        "colab_type": "code",
        "outputId": "ccc4ecf2-6e80-41d2-cf7c-3d9d8382dc85",
        "colab": {
          "base_uri": "https://localhost:8080/",
          "height": 227
        }
      },
      "source": [
        "y_test.head()"
      ],
      "execution_count": 2021,
      "outputs": [
        {
          "output_type": "execute_result",
          "data": {
            "text/html": [
              "<div>\n",
              "<style scoped>\n",
              "    .dataframe tbody tr th:only-of-type {\n",
              "        vertical-align: middle;\n",
              "    }\n",
              "\n",
              "    .dataframe tbody tr th {\n",
              "        vertical-align: top;\n",
              "    }\n",
              "\n",
              "    .dataframe thead th {\n",
              "        text-align: right;\n",
              "    }\n",
              "</style>\n",
              "<table border=\"1\" class=\"dataframe\">\n",
              "  <thead>\n",
              "    <tr style=\"text-align: right;\">\n",
              "      <th></th>\n",
              "      <th>Rain</th>\n",
              "      <th>Snow</th>\n",
              "      <th>Fog</th>\n",
              "      <th>Thunderstorm</th>\n",
              "      <th>Hail</th>\n",
              "      <th>Tornado</th>\n",
              "      <th>NoEvent</th>\n",
              "    </tr>\n",
              "    <tr>\n",
              "      <th>date</th>\n",
              "      <th></th>\n",
              "      <th></th>\n",
              "      <th></th>\n",
              "      <th></th>\n",
              "      <th></th>\n",
              "      <th></th>\n",
              "      <th></th>\n",
              "    </tr>\n",
              "  </thead>\n",
              "  <tbody>\n",
              "    <tr>\n",
              "      <th>2008-1-1</th>\n",
              "      <td>0</td>\n",
              "      <td>0</td>\n",
              "      <td>0</td>\n",
              "      <td>0</td>\n",
              "      <td>0</td>\n",
              "      <td>0</td>\n",
              "      <td>1</td>\n",
              "    </tr>\n",
              "    <tr>\n",
              "      <th>2008-1-2</th>\n",
              "      <td>1</td>\n",
              "      <td>0</td>\n",
              "      <td>0</td>\n",
              "      <td>0</td>\n",
              "      <td>0</td>\n",
              "      <td>0</td>\n",
              "      <td>0</td>\n",
              "    </tr>\n",
              "    <tr>\n",
              "      <th>2008-1-3</th>\n",
              "      <td>1</td>\n",
              "      <td>0</td>\n",
              "      <td>0</td>\n",
              "      <td>0</td>\n",
              "      <td>0</td>\n",
              "      <td>0</td>\n",
              "      <td>0</td>\n",
              "    </tr>\n",
              "    <tr>\n",
              "      <th>2008-1-4</th>\n",
              "      <td>0</td>\n",
              "      <td>0</td>\n",
              "      <td>0</td>\n",
              "      <td>0</td>\n",
              "      <td>0</td>\n",
              "      <td>0</td>\n",
              "      <td>1</td>\n",
              "    </tr>\n",
              "    <tr>\n",
              "      <th>2008-1-5</th>\n",
              "      <td>0</td>\n",
              "      <td>0</td>\n",
              "      <td>0</td>\n",
              "      <td>0</td>\n",
              "      <td>0</td>\n",
              "      <td>0</td>\n",
              "      <td>1</td>\n",
              "    </tr>\n",
              "  </tbody>\n",
              "</table>\n",
              "</div>"
            ],
            "text/plain": [
              "          Rain  Snow  Fog  Thunderstorm  Hail  Tornado  NoEvent\n",
              "date                                                           \n",
              "2008-1-1     0     0    0             0     0        0        1\n",
              "2008-1-2     1     0    0             0     0        0        0\n",
              "2008-1-3     1     0    0             0     0        0        0\n",
              "2008-1-4     0     0    0             0     0        0        1\n",
              "2008-1-5     0     0    0             0     0        0        1"
            ]
          },
          "metadata": {
            "tags": []
          },
          "execution_count": 2021
        }
      ]
    },
    {
      "cell_type": "code",
      "metadata": {
        "id": "2LIaIIKNHgyS",
        "colab_type": "code",
        "outputId": "adacb9ed-0af2-4732-8d9d-e91faab81f5c",
        "colab": {
          "base_uri": "https://localhost:8080/",
          "height": 158
        }
      },
      "source": [
        "y_train.sum()"
      ],
      "execution_count": 2022,
      "outputs": [
        {
          "output_type": "execute_result",
          "data": {
            "text/plain": [
              "Rain             820\n",
              "Snow              23\n",
              "Fog              181\n",
              "Thunderstorm     189\n",
              "Hail               2\n",
              "Tornado            1\n",
              "NoEvent         2881\n",
              "dtype: int64"
            ]
          },
          "metadata": {
            "tags": []
          },
          "execution_count": 2022
        }
      ]
    },
    {
      "cell_type": "markdown",
      "metadata": {
        "id": "Sz6i_Qhj8pom",
        "colab_type": "text"
      },
      "source": [
        "# ✎ Build model(s)\n",
        "\n",
        "You need to build a _Keras_ model that predicts the weather events.\n",
        "\n",
        "The only restriction is that you must **NOT** use the dataframes `x_test`, `y_test` during training.\n",
        "\n",
        "**Note**:\n",
        "\n",
        "You can build one or more models (for example, one model for each and different weather event)."
      ]
    },
    {
      "cell_type": "markdown",
      "metadata": {
        "id": "Bm2aaRfdMbLK",
        "colab_type": "text"
      },
      "source": [
        ""
      ]
    },
    {
      "cell_type": "markdown",
      "metadata": {
        "id": "fVyer9iUH57W",
        "colab_type": "text"
      },
      "source": [
        "You need to design the architecture and the loss function."
      ]
    },
    {
      "cell_type": "code",
      "metadata": {
        "id": "j2xwyYAP8qk7",
        "colab_type": "code",
        "outputId": "6b69b49a-e272-45ad-e65a-fb7d3cc86688",
        "colab": {
          "base_uri": "https://localhost:8080/",
          "height": 34
        }
      },
      "source": [
        "x_train.shape, x_test.shape, y_train.shape, y_test.shape"
      ],
      "execution_count": 2023,
      "outputs": [
        {
          "output_type": "execute_result",
          "data": {
            "text/plain": [
              "((3890, 21), (2922, 21), (3890, 7), (2922, 7))"
            ]
          },
          "metadata": {
            "tags": []
          },
          "execution_count": 2023
        }
      ]
    },
    {
      "cell_type": "code",
      "metadata": {
        "id": "D_KqiuprVNgz",
        "colab_type": "code",
        "colab": {}
      },
      "source": [
        "#remove and replace NaN with 0\n",
        "w = x_train.fillna(0)"
      ],
      "execution_count": 0,
      "outputs": []
    },
    {
      "cell_type": "code",
      "metadata": {
        "colab_type": "code",
        "id": "ry9Sxv87HXTr",
        "colab": {}
      },
      "source": [
        "model = Sequential([\n",
        "                    Input((21,)),  \n",
        "                    Dense(10, activation='relu'),\n",
        "                    Dense(10, activation='relu'),\n",
        "                    Dense(10, activation='relu'),\n",
        "                    Dense(7, activation='softmax')\n",
        "])"
      ],
      "execution_count": 0,
      "outputs": []
    },
    {
      "cell_type": "code",
      "metadata": {
        "id": "m1nknHC0_Oc_",
        "colab_type": "code",
        "outputId": "92d7f994-d70f-457a-9678-b9d25986e2cd",
        "colab": {
          "base_uri": "https://localhost:8080/",
          "height": 301
        }
      },
      "source": [
        "model.compile(loss='mse' ,optimizer=Adam(0.001),metrics=['acc'])\n",
        "model.summary()"
      ],
      "execution_count": 2026,
      "outputs": [
        {
          "output_type": "stream",
          "text": [
            "Model: \"sequential_92\"\n",
            "_________________________________________________________________\n",
            "Layer (type)                 Output Shape              Param #   \n",
            "=================================================================\n",
            "dense_350 (Dense)            (None, 10)                220       \n",
            "_________________________________________________________________\n",
            "dense_351 (Dense)            (None, 10)                110       \n",
            "_________________________________________________________________\n",
            "dense_352 (Dense)            (None, 10)                110       \n",
            "_________________________________________________________________\n",
            "dense_353 (Dense)            (None, 7)                 77        \n",
            "=================================================================\n",
            "Total params: 517\n",
            "Trainable params: 517\n",
            "Non-trainable params: 0\n",
            "_________________________________________________________________\n"
          ],
          "name": "stdout"
        }
      ]
    },
    {
      "cell_type": "markdown",
      "metadata": {
        "id": "Dx9aSfxxFocZ",
        "colab_type": "text"
      },
      "source": [
        "# ✎ Train the model(s)\n",
        "\n",
        "You must:\n",
        "\n",
        "- Select an appropriate optimizer and learning rate.\n",
        "- Plot the loss over the epochs of training.\n",
        "- Plot the training accuracy over the epochs.\n",
        "\n",
        "**Challenge**\n",
        "\n",
        "It's extremely difficult to get good training on _rare_ events.  Note that there is only **ONE** Tornado and **TWO** Hail events in the training data.\n",
        "\n",
        "An effective way is to duplicate the rare events in the training data, and use _shuffle=True_ in the training (model.fit) so that the network sees approximately equal number of occurrances of different weather events."
      ]
    },
    {
      "cell_type": "code",
      "metadata": {
        "id": "W_Btm8wsGF68",
        "colab_type": "code",
        "outputId": "5b262ef5-7eb0-4a83-d709-eb40756c5778",
        "colab": {
          "base_uri": "https://localhost:8080/",
          "height": 407
        }
      },
      "source": [
        "# train your models\n",
        "history = model.fit(x=w, y=y_train, epochs=10, shuffle=True).history"
      ],
      "execution_count": 2027,
      "outputs": [
        {
          "output_type": "stream",
          "text": [
            "WARNING:tensorflow:Falling back from v2 loop because of error: Failed to find data adapter that can handle input: <class 'pandas.core.frame.DataFrame'>, <class 'NoneType'>\n",
            "Train on 3890 samples\n",
            "Epoch 1/10\n",
            "3890/3890 [==============================] - 0s 63us/sample - loss: 0.1005 - acc: 0.6337\n",
            "Epoch 2/10\n",
            "3890/3890 [==============================] - 0s 56us/sample - loss: 0.0611 - acc: 0.7419\n",
            "Epoch 3/10\n",
            "3890/3890 [==============================] - 0s 55us/sample - loss: 0.0485 - acc: 0.8136\n",
            "Epoch 4/10\n",
            "3890/3890 [==============================] - 0s 58us/sample - loss: 0.0413 - acc: 0.8468\n",
            "Epoch 5/10\n",
            "3890/3890 [==============================] - 0s 51us/sample - loss: 0.0392 - acc: 0.8524\n",
            "Epoch 6/10\n",
            "3890/3890 [==============================] - 0s 57us/sample - loss: 0.0384 - acc: 0.8550\n",
            "Epoch 7/10\n",
            "3890/3890 [==============================] - 0s 53us/sample - loss: 0.0376 - acc: 0.8594\n",
            "Epoch 8/10\n",
            "3890/3890 [==============================] - 0s 50us/sample - loss: 0.0373 - acc: 0.8581\n",
            "Epoch 9/10\n",
            "3890/3890 [==============================] - 0s 51us/sample - loss: 0.0369 - acc: 0.8602\n",
            "Epoch 10/10\n",
            "3890/3890 [==============================] - 0s 52us/sample - loss: 0.0365 - acc: 0.8622\n"
          ],
          "name": "stdout"
        }
      ]
    },
    {
      "cell_type": "markdown",
      "metadata": {
        "id": "mFuPe6iAGJoP",
        "colab_type": "text"
      },
      "source": [
        "# ✎ Evaluation\n",
        "\n",
        "Evaluate the model using the test data.\n",
        "\n",
        "- You must plot the test accurarcy with respect to **each** event type.\n",
        "\n",
        "- For which weather event is your model actually useful?\n"
      ]
    },
    {
      "cell_type": "code",
      "metadata": {
        "id": "WYYdPq2qB57t",
        "colab_type": "code",
        "colab": {}
      },
      "source": [
        "#remove and replace NaN with 0\n",
        "v = x_test.fillna(0)"
      ],
      "execution_count": 0,
      "outputs": []
    },
    {
      "cell_type": "code",
      "metadata": {
        "id": "8jayU-lK8UpK",
        "colab_type": "code",
        "colab": {
          "base_uri": "https://localhost:8080/",
          "height": 70
        },
        "outputId": "d52b62c9-8d23-4360-d375-119d96fc1b0e"
      },
      "source": [
        "model.evaluate(v, y_test)"
      ],
      "execution_count": 2029,
      "outputs": [
        {
          "output_type": "stream",
          "text": [
            "WARNING:tensorflow:Falling back from v2 loop because of error: Failed to find data adapter that can handle input: <class 'pandas.core.frame.DataFrame'>, <class 'NoneType'>\n",
            "2922/2922 [==============================] - 0s 35us/sample - loss: 0.0377 - acc: 0.8576\n"
          ],
          "name": "stdout"
        },
        {
          "output_type": "execute_result",
          "data": {
            "text/plain": [
              "[0.03768214811478511, 0.85763174]"
            ]
          },
          "metadata": {
            "tags": []
          },
          "execution_count": 2029
        }
      ]
    },
    {
      "cell_type": "markdown",
      "metadata": {
        "id": "otvgJym6s1SC",
        "colab_type": "text"
      },
      "source": [
        "#### Multiple runs have a consistent above 85% or higher"
      ]
    },
    {
      "cell_type": "code",
      "metadata": {
        "id": "ojXqmdhQDPY6",
        "colab_type": "code",
        "colab": {
          "base_uri": "https://localhost:8080/",
          "height": 146
        },
        "outputId": "18e897dd-5838-43d2-dde9-1c4cfc7426a9"
      },
      "source": [
        "pyplot.subplot(2,1,1)\n",
        "pyplot.plot(history['acc'], '-*', color='blue');"
      ],
      "execution_count": 2030,
      "outputs": [
        {
          "output_type": "display_data",
          "data": {
            "image/png": "[encoded data removed]",
            "text/plain": [
              "<Figure size 432x288 with 1 Axes>"
            ]
          },
          "metadata": {
            "tags": []
          }
        }
      ]
    },
    {
      "cell_type": "markdown",
      "metadata": {
        "id": "cG_JuMEoqXKi",
        "colab_type": "text"
      },
      "source": [
        "###Testing Accuracy of Each Event using Model. Comparing Prediction to y_test."
      ]
    },
    {
      "cell_type": "code",
      "metadata": {
        "id": "SIIfOqfChKxu",
        "colab_type": "code",
        "colab": {
          "base_uri": "https://localhost:8080/",
          "height": 407
        },
        "outputId": "d5aade0d-2655-4e2b-bb0c-584e014c79d2"
      },
      "source": [
        "lim=0.5\n",
        "pred = np.argmax(model.predict(w), axis=0)\n",
        "pred2 = np.argmax(model.predict(w), axis=1)\n",
        "accuracyList = (y_test*(pred>=lim)+(1-y_test)*(pred<lim)).sum()/len(pred2)\n",
        "print('-----------------------------')\n",
        "print('EVENTS         ACCURACY(decimal)')\n",
        "print(accuracyList)\n",
        "print('-----------------------------')\n",
        "#print(np.mean(accuracyList))\n",
        "#print(len(pred))\n",
        "#print((y_test*(pred>=lim)+(1-y_test)*(pred<lim)).sum())\n",
        "print('-----------------------------')\n",
        "(y_test*(pred>=lim)).sum()"
      ],
      "execution_count": 2031,
      "outputs": [
        {
          "output_type": "stream",
          "text": [
            "WARNING:tensorflow:Falling back from v2 loop because of error: Failed to find data adapter that can handle input: <class 'pandas.core.frame.DataFrame'>, <class 'NoneType'>\n",
            "WARNING:tensorflow:Falling back from v2 loop because of error: Failed to find data adapter that can handle input: <class 'pandas.core.frame.DataFrame'>, <class 'NoneType'>\n",
            "-----------------------------\n",
            "EVENTS         ACCURACY(decimal)\n",
            "Rain            0.174807\n",
            "Snow            0.007712\n",
            "Fog             0.032905\n",
            "Thunderstorm    0.029049\n",
            "Hail            0.001542\n",
            "Tornado         0.000000\n",
            "NoEvent         0.548329\n",
            "dtype: float64\n",
            "-----------------------------\n",
            "-----------------------------\n"
          ],
          "name": "stdout"
        },
        {
          "output_type": "execute_result",
          "data": {
            "text/plain": [
              "Rain             680\n",
              "Snow              30\n",
              "Fog              128\n",
              "Thunderstorm     113\n",
              "Hail               6\n",
              "Tornado            0\n",
              "NoEvent         2133\n",
              "dtype: int64"
            ]
          },
          "metadata": {
            "tags": []
          },
          "execution_count": 2031
        }
      ]
    },
    {
      "cell_type": "markdown",
      "metadata": {
        "id": "nHEEHXlWq3IL",
        "colab_type": "text"
      },
      "source": [
        "#### Judging from the AccuracyList(prediction comparison to y_test) above, seems like the prediction of No Event seems the most likely comapred to every other event. However, Rain is also around 17% likely to happen from our prediction, which is almost 20%. Other events are less likely however Fog and Thunderstorm has around 3% change to happen. With no sample of Tornado in y_test, it determined that tornado is likely to never happen but Hail has a extremely low chance to happen with 0.15% likely to happen. "
      ]
    }
  ]
}