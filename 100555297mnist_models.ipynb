{
  "nbformat": 4,
  "nbformat_minor": 0,
  "metadata": {
    "accelerator": "GPU",
    "colab": {
      "name": "100555297mnist_models.ipynb",
      "provenance": [],
      "collapsed_sections": [],
      "toc_visible": true,
      "include_colab_link": true
    },
    "kernelspec": {
      "display_name": "Python 3",
      "language": "python",
      "name": "python3"
    },
    "language_info": {
      "codemirror_mode": {
        "name": "ipython",
        "version": 3
      },
      "file_extension": ".py",
      "mimetype": "text/x-python",
      "name": "python",
      "nbconvert_exporter": "python",
      "pygments_lexer": "ipython3",
      "version": "3.6.8"
    }
  },
  "cells": [
    {
      "cell_type": "markdown",
      "metadata": {
        "id": "view-in-github",
        "colab_type": "text"
      },
      "source": [
        "<a href=\"https://colab.research.google.com/github/spiousjoseph/CSCI4050ML/blob/master/100555297mnist_models.ipynb\" target=\"_parent\"><img src=\"https://colab.research.google.com/assets/colab-badge.svg\" alt=\"Open In Colab\"/></a>"
      ]
    },
    {
      "cell_type": "markdown",
      "metadata": {
        "id": "8CrAmZdlKfgu",
        "colab_type": "text"
      },
      "source": [
        "# Neural network models for the MNIST model"
      ]
    },
    {
      "cell_type": "code",
      "metadata": {
        "colab_type": "code",
        "id": "cnccFKgmNtZ4",
        "colab": {
          "base_uri": "https://localhost:8080/",
          "height": 34
        },
        "outputId": "c0e5cbb8-af02-49fa-e49c-521b1ec8c448"
      },
      "source": [
        "%tensorflow_version 2.x"
      ],
      "execution_count": 4,
      "outputs": [
        {
          "output_type": "stream",
          "text": [
            "TensorFlow 2.x selected.\n"
          ],
          "name": "stdout"
        }
      ]
    },
    {
      "cell_type": "markdown",
      "metadata": {
        "id": "jL7tKk5MKfg0",
        "colab_type": "text"
      },
      "source": [
        "# ⚠️ You are only allowed to work with the imported layers to build your neural network."
      ]
    },
    {
      "cell_type": "code",
      "metadata": {
        "colab_type": "code",
        "id": "HWnEvVblNzXt",
        "colab": {}
      },
      "source": [
        "import tensorflow as tf\n",
        "import matplotlib.pyplot as pl\n",
        "import numpy as np\n",
        "from tensorflow.keras.models import Sequential\n",
        "from tensorflow.keras.layers import Input, Reshape, Dense, Conv2D, MaxPool2D, Flatten\n",
        "from tensorflow.keras.losses import sparse_categorical_crossentropy\n",
        "from tensorflow.keras.optimizers import Adam\n",
        "from tensorflow.keras.datasets import mnist\n",
        "\n",
        "np.set_printoptions(suppress=True, precision=2)"
      ],
      "execution_count": 0,
      "outputs": []
    },
    {
      "cell_type": "markdown",
      "metadata": {
        "id": "YULmNgT-Kfg4",
        "colab_type": "text"
      },
      "source": [
        "# ✎ Import the MNIST dataset.\n",
        "\n",
        "**Note** You must renormalize the pixel values to 1.0.  This involves dividing the image tensors by 255.\n",
        "\n",
        "Load the data into variables:\n",
        "\n",
        "- `x_train`\n",
        "- `y_train`\n",
        "- `x_test`\n",
        "- `y_test`"
      ]
    },
    {
      "cell_type": "code",
      "metadata": {
        "colab_type": "code",
        "id": "SbKrnQRWQ1Cq",
        "colab": {
          "base_uri": "https://localhost:8080/",
          "height": 51
        },
        "outputId": "6655ab7f-cfac-4400-e772-9564d391c961"
      },
      "source": [
        "# Load the data into x_train, y_train, x_test, y_test\n",
        "(x_train, y_train), (x_test, y_test) = tf.keras.datasets.mnist.load_data()"
      ],
      "execution_count": 6,
      "outputs": [
        {
          "output_type": "stream",
          "text": [
            "Downloading data from https://storage.googleapis.com/tensorflow/tf-keras-datasets/mnist.npz\n",
            "11493376/11490434 [==============================] - 0s 0us/step\n"
          ],
          "name": "stdout"
        }
      ]
    },
    {
      "cell_type": "code",
      "metadata": {
        "colab_type": "code",
        "id": "4fZqwOY2SRPI",
        "colab": {}
      },
      "source": [
        "# Normalize the image pixels in x_train and y_train to 0 to 1.\n",
        "x_train = x_train / 255\n",
        "x_test = x_test / 255\n",
        "# complete\n"
      ],
      "execution_count": 0,
      "outputs": []
    },
    {
      "cell_type": "markdown",
      "metadata": {
        "id": "PCmGZjA1Kfg-",
        "colab_type": "text"
      },
      "source": [
        "# ✎ Plot the digit images\n",
        "\n",
        "You must plot, in a grid of subplots with layout (2, 5), **one** image\n",
        "for each digit from 0 .. 9."
      ]
    },
    {
      "cell_type": "code",
      "metadata": {
        "colab_type": "code",
        "id": "6uGA0_-jSZiw",
        "outputId": "cd1d33d5-89b6-45f9-8bde-1d1629dfc736",
        "colab": {
          "base_uri": "https://localhost:8080/",
          "height": 265
        }
      },
      "source": [
        "# Plot one image per different digit in a 2x5 subplot layout.\n",
        "pl.imshow(x_train[20000], cmap='gray');\n",
        "#\n",
        "# complete"
      ],
      "execution_count": 8,
      "outputs": [
        {
          "output_type": "display_data",
          "data": {
            "image/png": "[encoded data removed]",
            "text/plain": [
              "<Figure size 432x288 with 1 Axes>"
            ]
          },
          "metadata": {
            "tags": []
          }
        }
      ]
    },
    {
      "cell_type": "markdown",
      "metadata": {
        "id": "51Cg0X1jKfhB",
        "colab_type": "text"
      },
      "source": [
        "# ✎ MLP with four layers\n",
        "\n",
        "Construct a model, `model1`, that is a 4-layer MLP.  \n",
        "\n",
        "- It maps the digit images to a probability distribution\n",
        "over 10 classes, corresponding to 0..9.\n",
        "\n",
        "- The model consists of *four* dense layers, each with 10 neurons.\n",
        "Only the last layer uses activation function (`softmax`), while\n",
        "the others do not use activation functions.\n",
        "\n",
        "- Compile the model with the `sparse_categorical_crossentropy` loss function and\n",
        "`Adam` optimizer.  Also include the accuracy metrics (`acc`) in the compiled model.\n",
        "\n",
        "- Use `model1.summary()` to show the description of the model"
      ]
    },
    {
      "cell_type": "code",
      "metadata": {
        "colab_type": "code",
        "id": "IarU5N0ATSa_",
        "outputId": "3a59e9bd-cfc6-4e3b-ed43-eff34bb02759",
        "colab": {
          "base_uri": "https://localhost:8080/",
          "height": 323
        }
      },
      "source": [
        "# Construct the first model.\n",
        "#\n",
        "# Compile with sparse categorical crossentropy, and adam optimizer, and the 'acc' metric.\n",
        "#\n",
        "# complete\n",
        "#\n",
        "model1 = Sequential([\n",
        "    Input((28, 28)),\n",
        "    Dense(10),\n",
        "    Dense(10),\n",
        "    Dense(10),\n",
        "    Dense(10, activation='softmax'),\n",
        "    Reshape((280,))\n",
        "])\n",
        "model1.compile(loss=tf.losses.sparse_categorical_crossentropy, optimizer='adam', metrics=['acc'])\n",
        "model1.summary()"
      ],
      "execution_count": 109,
      "outputs": [
        {
          "output_type": "stream",
          "text": [
            "Model: \"sequential_10\"\n",
            "_________________________________________________________________\n",
            "Layer (type)                 Output Shape              Param #   \n",
            "=================================================================\n",
            "dense_16 (Dense)             (None, 28, 10)            290       \n",
            "_________________________________________________________________\n",
            "dense_17 (Dense)             (None, 28, 10)            110       \n",
            "_________________________________________________________________\n",
            "dense_18 (Dense)             (None, 28, 10)            110       \n",
            "_________________________________________________________________\n",
            "dense_19 (Dense)             (None, 28, 10)            110       \n",
            "_________________________________________________________________\n",
            "reshape_17 (Reshape)         (None, 280)               0         \n",
            "=================================================================\n",
            "Total params: 620\n",
            "Trainable params: 620\n",
            "Non-trainable params: 0\n",
            "_________________________________________________________________\n"
          ],
          "name": "stdout"
        }
      ]
    },
    {
      "cell_type": "markdown",
      "metadata": {
        "id": "hajV3-CWKfhG",
        "colab_type": "text"
      },
      "source": [
        "# ✎ Training\n",
        "\n",
        "- Train the model, with `x_train` and `y_train`.\n",
        "- Use 10 epochs.\n",
        "- Use 10% of the training data for cross validation.\n",
        "- Save the history of the training as variable `history1`."
      ]
    },
    {
      "cell_type": "code",
      "metadata": {
        "colab_type": "code",
        "id": "kUKCLN_RGh8P",
        "colab": {}
      },
      "source": [
        "split = tf.math.floor(x_train.shape[0]*0.1)\n",
        "data_train = x_train[:split]\n",
        "data_test = x_train[split:]\n",
        "\n",
        "def fold_i_of_k(dataset, i, k):\n",
        "    n = len(dataset)\n",
        "    return dataset[n*(i-1)//k:n*i//k]"
      ],
      "execution_count": 0,
      "outputs": []
    },
    {
      "cell_type": "code",
      "metadata": {
        "colab_type": "code",
        "outputId": "56bc440a-0045-4d4b-ae2d-b09fe0c0c470",
        "id": "W5M4rgg8GhmW",
        "colab": {
          "base_uri": "https://localhost:8080/",
          "height": 34
        }
      },
      "source": [
        "abc = fold_i_of_k(x_train, 10, 10)\n",
        "abc.shape"
      ],
      "execution_count": 0,
      "outputs": [
        {
          "output_type": "execute_result",
          "data": {
            "text/plain": [
              "(6000, 28, 28)"
            ]
          },
          "metadata": {
            "tags": []
          },
          "execution_count": 135
        }
      ]
    },
    {
      "cell_type": "code",
      "metadata": {
        "colab_type": "code",
        "id": "xMwxY-79WbG6",
        "outputId": "4a273617-e1f5-4e55-d3f9-a44b65a670a1",
        "colab": {
          "base_uri": "https://localhost:8080/",
          "height": 374
        }
      },
      "source": [
        "# Train the model with the training data\n",
        "# - Use 10% cross validation\n",
        "# - 10 epochs\n",
        "# - Save the history\n",
        "#\n",
        "# complete\n",
        "#\n",
        "history1 = model1.fit(x_train, y_train, epochs=10, validation_split=0.1)"
      ],
      "execution_count": 143,
      "outputs": [
        {
          "output_type": "stream",
          "text": [
            "Train on 54000 samples, validate on 6000 samples\n",
            "Epoch 1/10\n",
            "54000/54000 [==============================] - 8s 143us/sample - loss: 5.6335 - acc: 0.0237 - val_loss: 5.6343 - val_acc: 0.0430\n",
            "Epoch 2/10\n",
            "54000/54000 [==============================] - 8s 144us/sample - loss: 5.6335 - acc: 0.0520 - val_loss: 5.6343 - val_acc: 0.0455\n",
            "Epoch 3/10\n",
            "54000/54000 [==============================] - 8s 143us/sample - loss: 5.6335 - acc: 0.0545 - val_loss: 5.6342 - val_acc: 0.0492\n",
            "Epoch 4/10\n",
            "54000/54000 [==============================] - 8s 144us/sample - loss: 5.6334 - acc: 0.0358 - val_loss: 5.6345 - val_acc: 0.0178\n",
            "Epoch 5/10\n",
            "54000/54000 [==============================] - 8s 142us/sample - loss: 5.6335 - acc: 0.0296 - val_loss: 5.6343 - val_acc: 0.0642\n",
            "Epoch 6/10\n",
            "54000/54000 [==============================] - 8s 143us/sample - loss: 5.6335 - acc: 0.0285 - val_loss: 5.6341 - val_acc: 0.0013\n",
            "Epoch 7/10\n",
            "54000/54000 [==============================] - 8s 141us/sample - loss: 5.6335 - acc: 9.4444e-04 - val_loss: 5.6343 - val_acc: 0.0000e+00\n",
            "Epoch 8/10\n",
            "54000/54000 [==============================] - 8s 141us/sample - loss: 5.6335 - acc: 1.8519e-04 - val_loss: 5.6344 - val_acc: 0.0000e+00\n",
            "Epoch 9/10\n",
            "54000/54000 [==============================] - 8s 143us/sample - loss: 5.6335 - acc: 0.0051 - val_loss: 5.6344 - val_acc: 0.0473\n",
            "Epoch 10/10\n",
            "54000/54000 [==============================] - 8s 141us/sample - loss: 5.6335 - acc: 0.0138 - val_loss: 5.6342 - val_acc: 0.0490\n"
          ],
          "name": "stdout"
        }
      ]
    },
    {
      "cell_type": "markdown",
      "metadata": {
        "id": "qwICWEt7KfhJ",
        "colab_type": "text"
      },
      "source": [
        "# ✎ Plot the accuracy and cross validation accuracy in two separate plots"
      ]
    },
    {
      "cell_type": "code",
      "metadata": {
        "colab_type": "code",
        "id": "nWDuv0QVXaMZ",
        "outputId": "ce16bf24-4401-40e8-d076-c11c4dca1214",
        "colab": {
          "base_uri": "https://localhost:8080/",
          "height": 374
        }
      },
      "source": [
        "# Plot the training accuracy and cross validation accuracy\n",
        "# Make two separate plots\n",
        "#\n",
        "# complete\n",
        "#\n",
        "pl.figure(figsize=(10, 6))\n",
        "pl.subplot(2,1,1)\n",
        "pl.plot(history1.history['acc']);\n",
        "\n",
        "pl.subplot(2,1,2)\n",
        "pl.plot(history1.history['val_acc']);"
      ],
      "execution_count": 111,
      "outputs": [
        {
          "output_type": "display_data",
          "data": {
            "image/png": "[encoded data removed]",
            "text/plain": [
              "<Figure size 720x432 with 2 Axes>"
            ]
          },
          "metadata": {
            "tags": []
          }
        }
      ]
    },
    {
      "cell_type": "markdown",
      "metadata": {
        "id": "ey07FDFJKfhM",
        "colab_type": "text"
      },
      "source": [
        "# ✎ Conclusion on overfitting\n",
        "\n",
        "Do you think the model has overfitted to the training data?"
      ]
    },
    {
      "cell_type": "markdown",
      "metadata": {
        "id": "6wrm6RnEKfhN",
        "colab_type": "text"
      },
      "source": [
        "## Your answer here:\n",
        "\n",
        "*The model seems to have low accuracy but may improve upon by increasing the epochs\n",
        "*\n",
        "*\n",
        "*\n",
        "*\n",
        "\n",
        "\n"
      ]
    },
    {
      "cell_type": "markdown",
      "metadata": {
        "id": "JW-3EnShKfhO",
        "colab_type": "text"
      },
      "source": [
        "# ✎ Evaluate the model using the test data.\n",
        "\n",
        "- Save the test accuracy in the variable `acc_test1`"
      ]
    },
    {
      "cell_type": "code",
      "metadata": {
        "colab_type": "code",
        "id": "armpaekBCr1P",
        "colab": {
          "base_uri": "https://localhost:8080/",
          "height": 51
        },
        "outputId": "5c63a4f1-ea2b-4a93-b751-3d865c49a68e"
      },
      "source": [
        "# Evaluate the test accuracy using the test data x_test and y_test.\n",
        "#\n",
        "# complete\n",
        "#\n",
        "\n",
        "test_loss, acc_test1 = model1.evaluate(x_test, y_test, verbose=2)\n",
        "acc_test1"
      ],
      "execution_count": 153,
      "outputs": [
        {
          "output_type": "stream",
          "text": [
            "10000/1 - 1s - loss: 5.6344 - acc: 0.0593\n"
          ],
          "name": "stdout"
        },
        {
          "output_type": "execute_result",
          "data": {
            "text/plain": [
              "0.0593"
            ]
          },
          "metadata": {
            "tags": []
          },
          "execution_count": 153
        }
      ]
    },
    {
      "cell_type": "markdown",
      "metadata": {
        "colab_type": "text",
        "id": "O2_BmBhL9iKE"
      },
      "source": [
        "# ✎ MLP with non-linear activation\n",
        "\n",
        "- Construct a MLP with the same architecture as `model1`, except\n",
        "that all **internal** layers use `relu` non-linear activation functions.\n",
        "\n",
        "- Assign the model the variable `model2`.\n",
        "\n",
        "- Use `model2.summary()` to show the model description."
      ]
    },
    {
      "cell_type": "code",
      "metadata": {
        "colab_type": "code",
        "id": "PDCB3tlWYWAG",
        "colab": {
          "base_uri": "https://localhost:8080/",
          "height": 323
        },
        "outputId": "35b65018-5a38-42b5-88a6-91398ca25a4a"
      },
      "source": [
        "# Construct the second model\n",
        "#\n",
        "# Compile with sparse_categorical_crossentropy, adam optimizer and the 'acc' metrics\n",
        "#\n",
        "# complete\n",
        "#\n",
        "\n",
        "model2 = Sequential([\n",
        "    Input((28, 28)),\n",
        "    Dense(10, activation='relu'),\n",
        "    Dense(10, activation='relu'),\n",
        "    Dense(10, activation='relu'),\n",
        "    Dense(10, activation='softmax'),\n",
        "    Reshape((280,))\n",
        "])\n",
        "model2.compile(loss=tf.losses.sparse_categorical_crossentropy, optimizer='adam', metrics=['acc'])\n",
        "model2.summary()"
      ],
      "execution_count": 13,
      "outputs": [
        {
          "output_type": "stream",
          "text": [
            "Model: \"sequential_1\"\n",
            "_________________________________________________________________\n",
            "Layer (type)                 Output Shape              Param #   \n",
            "=================================================================\n",
            "dense_4 (Dense)              (None, 28, 10)            290       \n",
            "_________________________________________________________________\n",
            "dense_5 (Dense)              (None, 28, 10)            110       \n",
            "_________________________________________________________________\n",
            "dense_6 (Dense)              (None, 28, 10)            110       \n",
            "_________________________________________________________________\n",
            "dense_7 (Dense)              (None, 28, 10)            110       \n",
            "_________________________________________________________________\n",
            "reshape_1 (Reshape)          (None, 280)               0         \n",
            "=================================================================\n",
            "Total params: 620\n",
            "Trainable params: 620\n",
            "Non-trainable params: 0\n",
            "_________________________________________________________________\n"
          ],
          "name": "stdout"
        }
      ]
    },
    {
      "cell_type": "markdown",
      "metadata": {
        "id": "jzCv37WSKfhW",
        "colab_type": "text"
      },
      "source": [
        "# ✎ Train the model\n",
        "\n",
        "- 10 epochs\n",
        "- 10% cross-validation\n",
        "- Save the history in `history2`."
      ]
    },
    {
      "cell_type": "code",
      "metadata": {
        "colab_type": "code",
        "id": "b51NBoQibFy-",
        "colab": {
          "base_uri": "https://localhost:8080/",
          "height": 374
        },
        "outputId": "8a8c6e70-cf18-4642-ba0a-33348e6eac3e"
      },
      "source": [
        "# Train the model with the training data\n",
        "# - Use 10% cross validation\n",
        "# - 10 epochs\n",
        "# - Save the history\n",
        "#\n",
        "# complete\n",
        "#\n",
        "history2 = model2.fit(x_train, y_train, epochs=10, validation_split=0.1)"
      ],
      "execution_count": 156,
      "outputs": [
        {
          "output_type": "stream",
          "text": [
            "Train on 54000 samples, validate on 6000 samples\n",
            "Epoch 1/10\n",
            "54000/54000 [==============================] - 8s 151us/sample - loss: 5.6334 - acc: 0.0000e+00 - val_loss: 5.6342 - val_acc: 0.0000e+00\n",
            "Epoch 2/10\n",
            "54000/54000 [==============================] - 8s 153us/sample - loss: 5.6334 - acc: 0.0000e+00 - val_loss: 5.6343 - val_acc: 0.0000e+00\n",
            "Epoch 3/10\n",
            "54000/54000 [==============================] - 8s 156us/sample - loss: 5.6334 - acc: 0.0000e+00 - val_loss: 5.6341 - val_acc: 0.0000e+00\n",
            "Epoch 4/10\n",
            "54000/54000 [==============================] - 8s 154us/sample - loss: 5.6335 - acc: 0.0000e+00 - val_loss: 5.6340 - val_acc: 0.0000e+00\n",
            "Epoch 5/10\n",
            "54000/54000 [==============================] - 8s 149us/sample - loss: 5.6334 - acc: 0.0000e+00 - val_loss: 5.6341 - val_acc: 0.0000e+00\n",
            "Epoch 6/10\n",
            "54000/54000 [==============================] - 8s 144us/sample - loss: 5.6334 - acc: 0.0000e+00 - val_loss: 5.6341 - val_acc: 0.0000e+00\n",
            "Epoch 7/10\n",
            "54000/54000 [==============================] - 8s 147us/sample - loss: 5.6334 - acc: 0.0000e+00 - val_loss: 5.6343 - val_acc: 0.0000e+00\n",
            "Epoch 8/10\n",
            "54000/54000 [==============================] - 8s 147us/sample - loss: 5.6334 - acc: 0.0000e+00 - val_loss: 5.6343 - val_acc: 0.0000e+00\n",
            "Epoch 9/10\n",
            "54000/54000 [==============================] - 8s 152us/sample - loss: 5.6334 - acc: 0.0000e+00 - val_loss: 5.6344 - val_acc: 0.0000e+00\n",
            "Epoch 10/10\n",
            "54000/54000 [==============================] - 8s 142us/sample - loss: 5.6334 - acc: 0.0000e+00 - val_loss: 5.6341 - val_acc: 0.0000e+00\n"
          ],
          "name": "stdout"
        }
      ]
    },
    {
      "cell_type": "markdown",
      "metadata": {
        "id": "1bzf_-RmKfhZ",
        "colab_type": "text"
      },
      "source": [
        "# ✎ Plot the accuracy and cross validation accuracy in two separate plots"
      ]
    },
    {
      "cell_type": "code",
      "metadata": {
        "colab_type": "code",
        "id": "D-mantMkbOWs",
        "colab": {
          "base_uri": "https://localhost:8080/",
          "height": 374
        },
        "outputId": "f9cdd3ad-69de-4bf4-e245-fe6da2adb082"
      },
      "source": [
        "# Plot the training accuracy and cross validation accuracy\n",
        "# Make two separate plots\n",
        "#\n",
        "# complete\n",
        "#\n",
        "pl.figure(figsize=(10, 6))\n",
        "pl.subplot(2,1,1)\n",
        "pl.plot(history2.history['acc']);\n",
        "\n",
        "pl.subplot(2,1,2)\n",
        "pl.plot(history2.history['val_acc']);"
      ],
      "execution_count": 15,
      "outputs": [
        {
          "output_type": "display_data",
          "data": {
            "image/png": "[encoded data removed]",
            "text/plain": [
              "<Figure size 720x432 with 2 Axes>"
            ]
          },
          "metadata": {
            "tags": []
          }
        }
      ]
    },
    {
      "cell_type": "markdown",
      "metadata": {
        "id": "RxE22ik7Kfhd",
        "colab_type": "text"
      },
      "source": [
        "# ✎ Conclusion on overfitting\n",
        "\n",
        "Do you think the model has overfitted?"
      ]
    },
    {
      "cell_type": "markdown",
      "metadata": {
        "id": "BTIZAus_Kfhd",
        "colab_type": "text"
      },
      "source": [
        "## Your answer goes here.\n",
        "\n",
        "The Model's accuracy is terrible and doesn't seem to hold much.\n",
        "*\n",
        "*\n",
        "*\n",
        "*\n",
        "*"
      ]
    },
    {
      "cell_type": "markdown",
      "metadata": {
        "id": "JU4dHLVVKfhe",
        "colab_type": "text"
      },
      "source": [
        "# ✎ Evaluate `model2` with test data.\n",
        "\n",
        "- Save the test accuracy in the variable `acc_test2`"
      ]
    },
    {
      "cell_type": "code",
      "metadata": {
        "colab_type": "code",
        "id": "tf-2t6K5Cjw6",
        "colab": {
          "base_uri": "https://localhost:8080/",
          "height": 51
        },
        "outputId": "8c84b690-9683-44b3-8c82-7dce0e3a4508"
      },
      "source": [
        "# Evaluate the test accuracy using the test data x_test and y_test.\n",
        "#\n",
        "# complete\n",
        "#\n",
        "test_loss, acc_test2 = model2.evaluate(x_test, y_test, verbose=2)\n",
        "acc_test2"
      ],
      "execution_count": 154,
      "outputs": [
        {
          "output_type": "stream",
          "text": [
            "10000/1 - 1s - loss: 5.6344 - acc: 0.0000e+00\n"
          ],
          "name": "stdout"
        },
        {
          "output_type": "execute_result",
          "data": {
            "text/plain": [
              "0.0"
            ]
          },
          "metadata": {
            "tags": []
          },
          "execution_count": 154
        }
      ]
    },
    {
      "cell_type": "markdown",
      "metadata": {
        "colab_type": "text",
        "id": "nfM1x20rbl47"
      },
      "source": [
        "# ✎ Convolutional Networks\n",
        "\n",
        "Build a convolutional network with the following architecture.\n",
        "\n",
        "- Uses a Conv2D layer with 32 filters, each with kernel size of (3,3).\n",
        "- Uses a MaxPool2D layer with pool size of (2,2).\n",
        "- Uses a dense layer to generate the output.\n",
        "- You must use `Reshape` layers whenever necessary to ensure the shapes of the tensors are suitable\n",
        "for downstream layers.\n",
        "- Assign the model as `model3`.\n",
        "- Compile the model as before."
      ]
    },
    {
      "cell_type": "code",
      "metadata": {
        "colab_type": "code",
        "outputId": "efa76634-e023-4e26-c7e8-b16dd6f80a08",
        "id": "ZKnv-JuGWjpd",
        "colab": {
          "base_uri": "https://localhost:8080/",
          "height": 323
        }
      },
      "source": [
        "# Construct the second model\n",
        "#\n",
        "# Compile with sparse_categorical_crossentropy, adam optimizer and the 'acc' metrics\n",
        "#\n",
        "# complete\n",
        "#\n",
        "model3 = Sequential([\n",
        "    Input((28, 28)),\n",
        "    Reshape((28, 28, 1)),\n",
        "    Conv2D(32, kernel_size=(3, 3), padding='valid'),\n",
        "    MaxPool2D(pool_size=(2,2)),\n",
        "    Reshape((5408,)),\n",
        "    Dense(10, activation='softmax')\n",
        "])\n",
        "model3.compile(loss=tf.losses.sparse_categorical_crossentropy, optimizer='adam', metrics=['acc'])\n",
        "model3.summary()"
      ],
      "execution_count": 69,
      "outputs": [
        {
          "output_type": "stream",
          "text": [
            "Model: \"sequential_9\"\n",
            "_________________________________________________________________\n",
            "Layer (type)                 Output Shape              Param #   \n",
            "=================================================================\n",
            "reshape_15 (Reshape)         (None, 28, 28, 1)         0         \n",
            "_________________________________________________________________\n",
            "conv2d_7 (Conv2D)            (None, 26, 26, 32)        320       \n",
            "_________________________________________________________________\n",
            "max_pooling2d_7 (MaxPooling2 (None, 13, 13, 32)        0         \n",
            "_________________________________________________________________\n",
            "reshape_16 (Reshape)         (None, 5408)              0         \n",
            "_________________________________________________________________\n",
            "dense_15 (Dense)             (None, 10)                54090     \n",
            "=================================================================\n",
            "Total params: 54,410\n",
            "Trainable params: 54,410\n",
            "Non-trainable params: 0\n",
            "_________________________________________________________________\n"
          ],
          "name": "stdout"
        }
      ]
    },
    {
      "cell_type": "code",
      "metadata": {
        "id": "kFqhQMSizTgg",
        "colab_type": "code",
        "colab": {
          "base_uri": "https://localhost:8080/",
          "height": 34
        },
        "outputId": "8c92230c-5280-4b7a-de94-cd698f15b6e8"
      },
      "source": [
        "model3.output_shape"
      ],
      "execution_count": 70,
      "outputs": [
        {
          "output_type": "execute_result",
          "data": {
            "text/plain": [
              "(None, 10)"
            ]
          },
          "metadata": {
            "tags": []
          },
          "execution_count": 70
        }
      ]
    },
    {
      "cell_type": "markdown",
      "metadata": {
        "id": "AXT6pwDyKfhm",
        "colab_type": "text"
      },
      "source": [
        "# ✎ Train the model\n",
        "\n",
        "- 10 epochs\n",
        "- 10% cross-validation\n",
        "- Save the history as `history3`"
      ]
    },
    {
      "cell_type": "code",
      "metadata": {
        "colab_type": "code",
        "id": "u1OAAp6lBZNJ",
        "colab": {
          "base_uri": "https://localhost:8080/",
          "height": 374
        },
        "outputId": "001073fd-8df9-4b14-dbe4-3b86e5317567"
      },
      "source": [
        "# Train the model with the training data\n",
        "# - Use 10% cross validation\n",
        "# - 10 epochs\n",
        "# - Save the history\n",
        "#\n",
        "# complete\n",
        "#\n",
        "history3 = model3.fit(x_train, y_train, epochs=10, validation_split=0.1)"
      ],
      "execution_count": 71,
      "outputs": [
        {
          "output_type": "stream",
          "text": [
            "Train on 54000 samples, validate on 6000 samples\n",
            "Epoch 1/10\n",
            "54000/54000 [==============================] - 5s 94us/sample - loss: 0.2768 - acc: 0.9221 - val_loss: 0.1289 - val_acc: 0.9648\n",
            "Epoch 2/10\n",
            "54000/54000 [==============================] - 5s 88us/sample - loss: 0.1227 - acc: 0.9648 - val_loss: 0.0946 - val_acc: 0.9750\n",
            "Epoch 3/10\n",
            "54000/54000 [==============================] - 5s 87us/sample - loss: 0.0887 - acc: 0.9743 - val_loss: 0.0793 - val_acc: 0.9780\n",
            "Epoch 4/10\n",
            "54000/54000 [==============================] - 5s 87us/sample - loss: 0.0731 - acc: 0.9781 - val_loss: 0.0798 - val_acc: 0.9765\n",
            "Epoch 5/10\n",
            "54000/54000 [==============================] - 5s 87us/sample - loss: 0.0621 - acc: 0.9817 - val_loss: 0.0695 - val_acc: 0.9805\n",
            "Epoch 6/10\n",
            "54000/54000 [==============================] - 5s 88us/sample - loss: 0.0531 - acc: 0.9839 - val_loss: 0.0664 - val_acc: 0.9835\n",
            "Epoch 7/10\n",
            "54000/54000 [==============================] - 5s 87us/sample - loss: 0.0473 - acc: 0.9851 - val_loss: 0.0704 - val_acc: 0.9818\n",
            "Epoch 8/10\n",
            "54000/54000 [==============================] - 5s 89us/sample - loss: 0.0419 - acc: 0.9870 - val_loss: 0.0731 - val_acc: 0.9818\n",
            "Epoch 9/10\n",
            "54000/54000 [==============================] - 5s 88us/sample - loss: 0.0373 - acc: 0.9884 - val_loss: 0.0674 - val_acc: 0.9832\n",
            "Epoch 10/10\n",
            "54000/54000 [==============================] - 5s 87us/sample - loss: 0.0326 - acc: 0.9895 - val_loss: 0.0723 - val_acc: 0.9813\n"
          ],
          "name": "stdout"
        }
      ]
    },
    {
      "cell_type": "markdown",
      "metadata": {
        "id": "MB6tHp_iKfhr",
        "colab_type": "text"
      },
      "source": [
        "# ✎ Plot the accuracy and cross validation accuracy in two separate plots"
      ]
    },
    {
      "cell_type": "code",
      "metadata": {
        "colab_type": "code",
        "id": "FFY_CTD-BoOg",
        "colab": {
          "base_uri": "https://localhost:8080/",
          "height": 374
        },
        "outputId": "75f143df-3a6f-4c7e-a25c-3977b285d5ea"
      },
      "source": [
        "# Plot the training accuracy and cross validation accuracy\n",
        "# Make two separate plots\n",
        "#\n",
        "# complete\n",
        "#\n",
        "pl.figure(figsize=(10, 6))\n",
        "pl.subplot(2,1,1)\n",
        "pl.plot(history3.history['acc']);\n",
        "\n",
        "pl.subplot(2,1,2)\n",
        "pl.plot(history3.history['val_acc']);"
      ],
      "execution_count": 72,
      "outputs": [
        {
          "output_type": "display_data",
          "data": {
            "image/png": "[encoded data removed]",
            "text/plain": [
              "<Figure size 720x432 with 2 Axes>"
            ]
          },
          "metadata": {
            "tags": []
          }
        }
      ]
    },
    {
      "cell_type": "markdown",
      "metadata": {
        "id": "lmfV7I61Kfhw",
        "colab_type": "text"
      },
      "source": [
        "# ✎ Conclusion on overfitting\n",
        "\n",
        "Do you think the model has overfitted?"
      ]
    },
    {
      "cell_type": "markdown",
      "metadata": {
        "id": "Jf--marqKfhx",
        "colab_type": "text"
      },
      "source": [
        "## Your answer goes here.\n",
        "\n",
        "Out of all the models, model3 works best and is the most accurate of all of them\n",
        "*\n",
        "*\n",
        "*\n",
        "*"
      ]
    },
    {
      "cell_type": "markdown",
      "metadata": {
        "id": "hPILHShIKfhx",
        "colab_type": "text"
      },
      "source": [
        "# ✎ Evaluate `model2` with test data.\n",
        "\n",
        "- Save the test accuracy in the variable `acc_test3`"
      ]
    },
    {
      "cell_type": "code",
      "metadata": {
        "colab_type": "code",
        "id": "FXdl6RC1CWmZ",
        "colab": {
          "base_uri": "https://localhost:8080/",
          "height": 51
        },
        "outputId": "ba98fce7-9ae8-46fd-d445-0f542a53dfe3"
      },
      "source": [
        "# Evaluate the test accuracy using the test data x_test and y_test.\n",
        "#\n",
        "# complete\n",
        "#\n",
        "test_loss, acc_test3 = model3.evaluate(x_test, y_test, verbose=2)\n",
        "acc_test3"
      ],
      "execution_count": 155,
      "outputs": [
        {
          "output_type": "stream",
          "text": [
            "10000/1 - 1s - loss: 0.0352 - acc: 0.9794\n"
          ],
          "name": "stdout"
        },
        {
          "output_type": "execute_result",
          "data": {
            "text/plain": [
              "0.9794"
            ]
          },
          "metadata": {
            "tags": []
          },
          "execution_count": 155
        }
      ]
    },
    {
      "cell_type": "markdown",
      "metadata": {
        "colab_type": "text",
        "id": "gJ6bRpWWCfBR"
      },
      "source": [
        "# Comparative study"
      ]
    },
    {
      "cell_type": "markdown",
      "metadata": {
        "id": "VIgMugHUKfh3",
        "colab_type": "text"
      },
      "source": [
        "# ✎ Define a function that computes a _confusion matrix_.\n",
        "\n",
        "Define a function `confusion_matrix(model)` as follows:\n",
        "\n",
        "**Input**\n",
        "\n",
        "- model: a MNIST classifier\n",
        "\n",
        "**Returns**\n",
        "\n",
        "- A (10,10) matrix of **int** which is the _confusion matrix_ with respect to the training\n",
        "data of `(x_test, y_test)`.\n",
        "\n",
        "The confusion matrix $C$ is defined as:  $C[i][j]$ is the number of\n",
        "instances that digit $i$ is mistaken as $j$.  We **require** $C[i][i] = 0$ for all $i$."
      ]
    },
    {
      "cell_type": "code",
      "metadata": {
        "colab_type": "code",
        "id": "hngGtDfGJPLG",
        "colab": {}
      },
      "source": [
        "#\n",
        "# complete\n",
        "#\n",
        "def confusion_matrix(model):\n",
        "  actual = y_test\n",
        "  predicted = model.predict(x_test)\n",
        "  a = tf.constant(actual)\n",
        "  b = tf.constant(predicted)\n",
        "  c = tf.expand_dims(a, 1)\n",
        "  results = tf.math.confusion_matrix(labels=tf.argmax(c, 1), predictions=tf.argmax(b, 1)) \n",
        "  return results\n",
        "    "
      ],
      "execution_count": 0,
      "outputs": []
    },
    {
      "cell_type": "markdown",
      "metadata": {
        "id": "Vvc4JthKKfh7",
        "colab_type": "text"
      },
      "source": [
        "# ✎ Define a function of printing _bad_ images of digit\n",
        "\n",
        "Define a function `show_bad(model, digit)` to show 9 images of digit that have\n",
        "been incorrectly classified.\n",
        "\n",
        "**Input**:\n",
        "\n",
        "- model: the classifier\n",
        "- digit: the digit that the images belong to.  digit=0, 1, ... 9.\n",
        "\n",
        "**Output**:\n",
        "\n",
        "- None\n",
        "\n",
        "The function plots in a 3x3 subplot layout 9 images that have been badly classified.  All 9 images are\n",
        "supposed to be `digit`."
      ]
    },
    {
      "cell_type": "code",
      "metadata": {
        "colab_type": "code",
        "id": "h0jzgNuWOW5M",
        "colab": {}
      },
      "source": [
        "#\n",
        "# complete\n",
        "#\n",
        "def show_bad(model, digit):\n",
        "  predicted = model.predict(x_train)\n",
        "  result = np.absolute(y_train-predicted)\n",
        "  figure = pl.figure(figsize=(10,10))\n",
        "  for i in range(9):\n",
        "    # Start next subplot.\n",
        "    pl.subplot(digit, digit, i + 1)\n",
        "    pl.xticks([])\n",
        "    pl.yticks([])\n",
        "    pl.grid(False)\n",
        "    pl.imshow(train[i], cmap='gray');"
      ],
      "execution_count": 0,
      "outputs": []
    },
    {
      "cell_type": "markdown",
      "metadata": {
        "id": "-TmXkmxCKfh-",
        "colab_type": "text"
      },
      "source": [
        "# ✎ Apply to models\n",
        "\n",
        "- Compute the confusion matrices of all three models.\n",
        "- Save them as variables `confusion1`, `confusion2` and `confusion3`.\n",
        "\n",
        "# ✎ Show the bad digits of all three models\n",
        "\n",
        "- Apply the `show_bad` to all three models"
      ]
    },
    {
      "cell_type": "code",
      "metadata": {
        "colab_type": "code",
        "id": "-9OLISXqKLu_",
        "colab": {
          "base_uri": "https://localhost:8080/",
          "height": 153
        },
        "outputId": "125ef9bf-867c-496d-ce5a-4e3233802bd8"
      },
      "source": [
        "confusion1 = confusion_matrix(model1)\n",
        "confusion1"
      ],
      "execution_count": 82,
      "outputs": [
        {
          "output_type": "execute_result",
          "data": {
            "text/plain": [
              "<tf.Tensor: id=380425, shape=(262, 262), dtype=int32, numpy=\n",
              "array([[ 0,  0,  0, ...,  0,  0, 21],\n",
              "       [ 0,  0,  0, ...,  0,  0,  0],\n",
              "       [ 0,  0,  0, ...,  0,  0,  0],\n",
              "       ...,\n",
              "       [ 0,  0,  0, ...,  0,  0,  0],\n",
              "       [ 0,  0,  0, ...,  0,  0,  0],\n",
              "       [ 0,  0,  0, ...,  0,  0,  0]], dtype=int32)>"
            ]
          },
          "metadata": {
            "tags": []
          },
          "execution_count": 82
        }
      ]
    },
    {
      "cell_type": "code",
      "metadata": {
        "colab_type": "code",
        "id": "152ycoqTOUak",
        "colab": {
          "base_uri": "https://localhost:8080/",
          "height": 282
        },
        "outputId": "c33f2418-1bfa-4407-c25f-84a8bf6ad714"
      },
      "source": [
        "show_bad(model1, digit=3)"
      ],
      "execution_count": 179,
      "outputs": [
        {
          "output_type": "error",
          "ename": "ValueError",
          "evalue": "ignored",
          "traceback": [
            "\u001b[0;31m---------------------------------------------------------------------------\u001b[0m",
            "\u001b[0;31mValueError\u001b[0m                                Traceback (most recent call last)",
            "\u001b[0;32m<ipython-input-179-e8a8e82ee636>\u001b[0m in \u001b[0;36m<module>\u001b[0;34m()\u001b[0m\n\u001b[0;32m----> 1\u001b[0;31m \u001b[0mshow_bad\u001b[0m\u001b[0;34m(\u001b[0m\u001b[0mmodel1\u001b[0m\u001b[0;34m,\u001b[0m \u001b[0mdigit\u001b[0m\u001b[0;34m=\u001b[0m\u001b[0;36m3\u001b[0m\u001b[0;34m)\u001b[0m\u001b[0;34m\u001b[0m\u001b[0;34m\u001b[0m\u001b[0m\n\u001b[0m",
            "\u001b[0;32m<ipython-input-178-5fba6bed0f62>\u001b[0m in \u001b[0;36mshow_bad\u001b[0;34m(model, digit)\u001b[0m\n\u001b[1;32m      1\u001b[0m \u001b[0;32mdef\u001b[0m \u001b[0mshow_bad\u001b[0m\u001b[0;34m(\u001b[0m\u001b[0mmodel\u001b[0m\u001b[0;34m,\u001b[0m \u001b[0mdigit\u001b[0m\u001b[0;34m)\u001b[0m\u001b[0;34m:\u001b[0m\u001b[0;34m\u001b[0m\u001b[0;34m\u001b[0m\u001b[0m\n\u001b[1;32m      2\u001b[0m   \u001b[0mpredicted\u001b[0m \u001b[0;34m=\u001b[0m \u001b[0mmodel\u001b[0m\u001b[0;34m.\u001b[0m\u001b[0mpredict\u001b[0m\u001b[0;34m(\u001b[0m\u001b[0mx_train\u001b[0m\u001b[0;34m)\u001b[0m\u001b[0;34m\u001b[0m\u001b[0;34m\u001b[0m\u001b[0m\n\u001b[0;32m----> 3\u001b[0;31m   \u001b[0mresult\u001b[0m \u001b[0;34m=\u001b[0m \u001b[0mnp\u001b[0m\u001b[0;34m.\u001b[0m\u001b[0mabsolute\u001b[0m\u001b[0;34m(\u001b[0m\u001b[0my_train\u001b[0m\u001b[0;34m-\u001b[0m\u001b[0mpredicted\u001b[0m\u001b[0;34m)\u001b[0m\u001b[0;34m\u001b[0m\u001b[0;34m\u001b[0m\u001b[0m\n\u001b[0m\u001b[1;32m      4\u001b[0m   \u001b[0mfigure\u001b[0m \u001b[0;34m=\u001b[0m \u001b[0mpl\u001b[0m\u001b[0;34m.\u001b[0m\u001b[0mfigure\u001b[0m\u001b[0;34m(\u001b[0m\u001b[0mfigsize\u001b[0m\u001b[0;34m=\u001b[0m\u001b[0;34m(\u001b[0m\u001b[0;36m10\u001b[0m\u001b[0;34m,\u001b[0m\u001b[0;36m10\u001b[0m\u001b[0;34m)\u001b[0m\u001b[0;34m)\u001b[0m\u001b[0;34m\u001b[0m\u001b[0;34m\u001b[0m\u001b[0m\n\u001b[1;32m      5\u001b[0m   \u001b[0;32mfor\u001b[0m \u001b[0mi\u001b[0m \u001b[0;32min\u001b[0m \u001b[0mrange\u001b[0m\u001b[0;34m(\u001b[0m\u001b[0;36m9\u001b[0m\u001b[0;34m)\u001b[0m\u001b[0;34m:\u001b[0m\u001b[0;34m\u001b[0m\u001b[0;34m\u001b[0m\u001b[0m\n",
            "\u001b[0;31mValueError\u001b[0m: operands could not be broadcast together with shapes (60000,) (60000,280) "
          ]
        }
      ]
    },
    {
      "cell_type": "code",
      "metadata": {
        "colab_type": "code",
        "id": "63nv6kKQMoh1",
        "colab": {
          "base_uri": "https://localhost:8080/",
          "height": 153
        },
        "outputId": "111760f4-2e60-4e98-d106-0bd754b2a447"
      },
      "source": [
        "confusion2 = confusion_matrix(model2)\n",
        "confusion2"
      ],
      "execution_count": 83,
      "outputs": [
        {
          "output_type": "execute_result",
          "data": {
            "text/plain": [
              "<tf.Tensor: id=380972, shape=(253, 253), dtype=int32, numpy=\n",
              "array([[0, 0, 0, ..., 0, 0, 6],\n",
              "       [0, 0, 0, ..., 0, 0, 0],\n",
              "       [0, 0, 0, ..., 0, 0, 0],\n",
              "       ...,\n",
              "       [0, 0, 0, ..., 0, 0, 0],\n",
              "       [0, 0, 0, ..., 0, 0, 0],\n",
              "       [0, 0, 0, ..., 0, 0, 0]], dtype=int32)>"
            ]
          },
          "metadata": {
            "tags": []
          },
          "execution_count": 83
        }
      ]
    },
    {
      "cell_type": "code",
      "metadata": {
        "colab_type": "code",
        "id": "Enk6vJHAPc6Q",
        "colab": {
          "base_uri": "https://localhost:8080/",
          "height": 241
        },
        "outputId": "bcb98842-2c48-4f2c-e8bf-5a01234b0727"
      },
      "source": [
        "show_bad(model2, digit=3)"
      ],
      "execution_count": 85,
      "outputs": [
        {
          "output_type": "display_data",
          "data": {
            "image/png": "[encoded data removed]",
            "text/plain": [
              "<Figure size 720x720 with 9 Axes>"
            ]
          },
          "metadata": {
            "tags": []
          }
        }
      ]
    },
    {
      "cell_type": "code",
      "metadata": {
        "colab_type": "code",
        "id": "mClrbxE3NQ-T",
        "colab": {
          "base_uri": "https://localhost:8080/",
          "height": 221
        },
        "outputId": "65005836-3412-465b-c1fe-d5c90d551c18"
      },
      "source": [
        "confusion3 = confusion_matrix(model3)\n",
        "confusion3"
      ],
      "execution_count": 84,
      "outputs": [
        {
          "output_type": "execute_result",
          "data": {
            "text/plain": [
              "<tf.Tensor: id=381413, shape=(10, 10), dtype=int32, numpy=\n",
              "array([[ 996, 1144, 1029, 1022, 1005,  888,  947, 1017,  972,  980],\n",
              "       [   0,    0,    0,    0,    0,    0,    0,    0,    0,    0],\n",
              "       [   0,    0,    0,    0,    0,    0,    0,    0,    0,    0],\n",
              "       [   0,    0,    0,    0,    0,    0,    0,    0,    0,    0],\n",
              "       [   0,    0,    0,    0,    0,    0,    0,    0,    0,    0],\n",
              "       [   0,    0,    0,    0,    0,    0,    0,    0,    0,    0],\n",
              "       [   0,    0,    0,    0,    0,    0,    0,    0,    0,    0],\n",
              "       [   0,    0,    0,    0,    0,    0,    0,    0,    0,    0],\n",
              "       [   0,    0,    0,    0,    0,    0,    0,    0,    0,    0],\n",
              "       [   0,    0,    0,    0,    0,    0,    0,    0,    0,    0]],\n",
              "      dtype=int32)>"
            ]
          },
          "metadata": {
            "tags": []
          },
          "execution_count": 84
        }
      ]
    },
    {
      "cell_type": "code",
      "metadata": {
        "colab_type": "code",
        "id": "WMzrcsqfPjGS",
        "colab": {
          "base_uri": "https://localhost:8080/",
          "height": 241
        },
        "outputId": "18c393ac-828c-4726-d228-45e12c6c43ef"
      },
      "source": [
        "show_bad(model3, digit=3)"
      ],
      "execution_count": 86,
      "outputs": [
        {
          "output_type": "display_data",
          "data": {
            "image/png": "[encoded data removed]",
            "text/plain": [
              "<Figure size 720x720 with 9 Axes>"
            ]
          },
          "metadata": {
            "tags": []
          }
        }
      ]
    },
    {
      "cell_type": "code",
      "metadata": {
        "colab_type": "code",
        "id": "zU0uEDPJNV6E",
        "colab": {}
      },
      "source": [
        "# Conclusion\n",
        "\n",
        "Draw your conclusions about the three models based on your observations of:\n",
        "\n",
        "- Test accuracies\n",
        "- Confusion matrices\n",
        "- The mistakes the three models make"
      ],
      "execution_count": 0,
      "outputs": []
    },
    {
      "cell_type": "markdown",
      "metadata": {
        "id": "IxFPFjdaKfiU",
        "colab_type": "text"
      },
      "source": [
        "## Your answer goes here\n",
        "\n",
        "Model accuracy was not well done. It needed more than 10 epoches for the accurancy to be better. \n",
        "Confusion Matric"
      ]
    },
    {
      "cell_type": "markdown",
      "metadata": {
        "id": "T5ESDEQ8KfiV",
        "colab_type": "text"
      },
      "source": [
        "---\n",
        "\n",
        "# Testing your work"
      ]
    },
    {
      "cell_type": "code",
      "metadata": {
        "id": "ijF1wC7ZKfiX",
        "colab_type": "code",
        "colab": {}
      },
      "source": [
        "# -------------------------------\n",
        "# training and test data shapes\n",
        "# -------------------------------\n",
        "assert(x_train.shape[1:] == (28, 28))\n",
        "assert(x_test.shape[1:] == (28, 28))\n",
        "assert(len(y_train.shape) == 1)\n",
        "assert(len(y_test.shape) == 1)\n",
        "\n",
        "# normalization\n",
        "assert(np.max(x_train) <= 1.)\n",
        "assert(np.max(x_test) <= 1.)"
      ],
      "execution_count": 0,
      "outputs": []
    },
    {
      "cell_type": "code",
      "metadata": {
        "id": "uVl8CFU5Kfid",
        "colab_type": "code",
        "colab": {
          "base_uri": "https://localhost:8080/",
          "height": 231
        },
        "outputId": "3f5f9745-293f-40df-f3e4-b8a14a4a08d9"
      },
      "source": [
        "# model structure\n",
        "assert(len(model1.layers) == 5)\n",
        "expect = [((784, 10), (10,), tf.keras.activations.linear, Dense),\n",
        "          ((10, 10), (10,), tf.keras.activations.linear, Dense),\n",
        "          ((10, 10), (10,), tf.keras.activations.linear, Dense),\n",
        "          ((10, 10), (10,), tf.keras.activations.softmax, Dense),\n",
        "         ]\n",
        "for i in range(4):\n",
        "    layer = model1.layers[i+1]\n",
        "    assert(layer.get_weights()[0].shape == expect[i][0])\n",
        "    assert(layer.get_weights()[1].shape == expect[i][1])\n",
        "    assert(layer.activation == expect[i][2])\n",
        "    assert(isinstance(layer, expect[i][3]))"
      ],
      "execution_count": 168,
      "outputs": [
        {
          "output_type": "error",
          "ename": "AssertionError",
          "evalue": "ignored",
          "traceback": [
            "\u001b[0;31m---------------------------------------------------------------------------\u001b[0m",
            "\u001b[0;31mAssertionError\u001b[0m                            Traceback (most recent call last)",
            "\u001b[0;32m<ipython-input-168-9fc35bb50c76>\u001b[0m in \u001b[0;36m<module>\u001b[0;34m()\u001b[0m\n\u001b[1;32m      7\u001b[0m \u001b[0;32mfor\u001b[0m \u001b[0mi\u001b[0m \u001b[0;32min\u001b[0m \u001b[0mrange\u001b[0m\u001b[0;34m(\u001b[0m\u001b[0;36m4\u001b[0m\u001b[0;34m)\u001b[0m\u001b[0;34m:\u001b[0m\u001b[0;34m\u001b[0m\u001b[0;34m\u001b[0m\u001b[0m\n\u001b[1;32m      8\u001b[0m     \u001b[0mlayer\u001b[0m \u001b[0;34m=\u001b[0m \u001b[0mmodel1\u001b[0m\u001b[0;34m.\u001b[0m\u001b[0mlayers\u001b[0m\u001b[0;34m[\u001b[0m\u001b[0mi\u001b[0m\u001b[0;34m+\u001b[0m\u001b[0;36m1\u001b[0m\u001b[0;34m]\u001b[0m\u001b[0;34m\u001b[0m\u001b[0;34m\u001b[0m\u001b[0m\n\u001b[0;32m----> 9\u001b[0;31m     \u001b[0;32massert\u001b[0m\u001b[0;34m(\u001b[0m\u001b[0mlayer\u001b[0m\u001b[0;34m.\u001b[0m\u001b[0mget_weights\u001b[0m\u001b[0;34m(\u001b[0m\u001b[0;34m)\u001b[0m\u001b[0;34m[\u001b[0m\u001b[0;36m0\u001b[0m\u001b[0;34m]\u001b[0m\u001b[0;34m.\u001b[0m\u001b[0mshape\u001b[0m \u001b[0;34m==\u001b[0m \u001b[0mexpect\u001b[0m\u001b[0;34m[\u001b[0m\u001b[0mi\u001b[0m\u001b[0;34m]\u001b[0m\u001b[0;34m[\u001b[0m\u001b[0;36m0\u001b[0m\u001b[0;34m]\u001b[0m\u001b[0;34m)\u001b[0m\u001b[0;34m\u001b[0m\u001b[0;34m\u001b[0m\u001b[0m\n\u001b[0m\u001b[1;32m     10\u001b[0m     \u001b[0;32massert\u001b[0m\u001b[0;34m(\u001b[0m\u001b[0mlayer\u001b[0m\u001b[0;34m.\u001b[0m\u001b[0mget_weights\u001b[0m\u001b[0;34m(\u001b[0m\u001b[0;34m)\u001b[0m\u001b[0;34m[\u001b[0m\u001b[0;36m1\u001b[0m\u001b[0;34m]\u001b[0m\u001b[0;34m.\u001b[0m\u001b[0mshape\u001b[0m \u001b[0;34m==\u001b[0m \u001b[0mexpect\u001b[0m\u001b[0;34m[\u001b[0m\u001b[0mi\u001b[0m\u001b[0;34m]\u001b[0m\u001b[0;34m[\u001b[0m\u001b[0;36m1\u001b[0m\u001b[0;34m]\u001b[0m\u001b[0;34m)\u001b[0m\u001b[0;34m\u001b[0m\u001b[0;34m\u001b[0m\u001b[0m\n\u001b[1;32m     11\u001b[0m     \u001b[0;32massert\u001b[0m\u001b[0;34m(\u001b[0m\u001b[0mlayer\u001b[0m\u001b[0;34m.\u001b[0m\u001b[0mactivation\u001b[0m \u001b[0;34m==\u001b[0m \u001b[0mexpect\u001b[0m\u001b[0;34m[\u001b[0m\u001b[0mi\u001b[0m\u001b[0;34m]\u001b[0m\u001b[0;34m[\u001b[0m\u001b[0;36m2\u001b[0m\u001b[0;34m]\u001b[0m\u001b[0;34m)\u001b[0m\u001b[0;34m\u001b[0m\u001b[0;34m\u001b[0m\u001b[0m\n",
            "\u001b[0;31mAssertionError\u001b[0m: "
          ]
        }
      ]
    },
    {
      "cell_type": "code",
      "metadata": {
        "id": "wRhM4ouAKfif",
        "colab_type": "code",
        "colab": {
          "base_uri": "https://localhost:8080/",
          "height": 231
        },
        "outputId": "c6319696-ed99-418b-c8cc-a9d29a5fef27"
      },
      "source": [
        "# history of training\n",
        "assert(isinstance(history1, tf.keras.callbacks.History))\n",
        "assert('acc' in history1.history)\n",
        "assert('val_acc' in history1.history)\n",
        "\n",
        "# training\n",
        "acc = history1.history['acc']\n",
        "val_acc = history1.history['val_acc']\n",
        "assert(acc[0] < acc[-1])\n",
        "assert(acc[-1] > 0.9)\n",
        "assert(val_acc[-1] > 0.9)"
      ],
      "execution_count": 166,
      "outputs": [
        {
          "output_type": "error",
          "ename": "AssertionError",
          "evalue": "ignored",
          "traceback": [
            "\u001b[0;31m---------------------------------------------------------------------------\u001b[0m",
            "\u001b[0;31mAssertionError\u001b[0m                            Traceback (most recent call last)",
            "\u001b[0;32m<ipython-input-166-f92bd7232224>\u001b[0m in \u001b[0;36m<module>\u001b[0;34m()\u001b[0m\n\u001b[1;32m      6\u001b[0m \u001b[0macc\u001b[0m \u001b[0;34m=\u001b[0m \u001b[0mhistory1\u001b[0m\u001b[0;34m.\u001b[0m\u001b[0mhistory\u001b[0m\u001b[0;34m[\u001b[0m\u001b[0;34m'acc'\u001b[0m\u001b[0;34m]\u001b[0m\u001b[0;34m\u001b[0m\u001b[0;34m\u001b[0m\u001b[0m\n\u001b[1;32m      7\u001b[0m \u001b[0mval_acc\u001b[0m \u001b[0;34m=\u001b[0m \u001b[0mhistory1\u001b[0m\u001b[0;34m.\u001b[0m\u001b[0mhistory\u001b[0m\u001b[0;34m[\u001b[0m\u001b[0;34m'val_acc'\u001b[0m\u001b[0;34m]\u001b[0m\u001b[0;34m\u001b[0m\u001b[0;34m\u001b[0m\u001b[0m\n\u001b[0;32m----> 8\u001b[0;31m \u001b[0;32massert\u001b[0m\u001b[0;34m(\u001b[0m\u001b[0macc\u001b[0m\u001b[0;34m[\u001b[0m\u001b[0;36m0\u001b[0m\u001b[0;34m]\u001b[0m \u001b[0;34m<\u001b[0m \u001b[0macc\u001b[0m\u001b[0;34m[\u001b[0m\u001b[0;34m-\u001b[0m\u001b[0;36m1\u001b[0m\u001b[0;34m]\u001b[0m\u001b[0;34m)\u001b[0m\u001b[0;34m\u001b[0m\u001b[0;34m\u001b[0m\u001b[0m\n\u001b[0m\u001b[1;32m      9\u001b[0m \u001b[0;32massert\u001b[0m\u001b[0;34m(\u001b[0m\u001b[0macc\u001b[0m\u001b[0;34m[\u001b[0m\u001b[0;34m-\u001b[0m\u001b[0;36m1\u001b[0m\u001b[0;34m]\u001b[0m \u001b[0;34m>\u001b[0m \u001b[0;36m0.9\u001b[0m\u001b[0;34m)\u001b[0m\u001b[0;34m\u001b[0m\u001b[0;34m\u001b[0m\u001b[0m\n\u001b[1;32m     10\u001b[0m \u001b[0;32massert\u001b[0m\u001b[0;34m(\u001b[0m\u001b[0mval_acc\u001b[0m\u001b[0;34m[\u001b[0m\u001b[0;34m-\u001b[0m\u001b[0;36m1\u001b[0m\u001b[0;34m]\u001b[0m \u001b[0;34m>\u001b[0m \u001b[0;36m0.9\u001b[0m\u001b[0;34m)\u001b[0m\u001b[0;34m\u001b[0m\u001b[0;34m\u001b[0m\u001b[0m\n",
            "\u001b[0;31mAssertionError\u001b[0m: "
          ]
        }
      ]
    },
    {
      "cell_type": "code",
      "metadata": {
        "id": "PoYURuC1Kfih",
        "colab_type": "code",
        "colab": {
          "base_uri": "https://localhost:8080/",
          "height": 163
        },
        "outputId": "6fe29ee6-d913-4581-9f7e-528aa842de26"
      },
      "source": [
        "# test accuracy\n",
        "assert(acc_test1 > 0.9)"
      ],
      "execution_count": 149,
      "outputs": [
        {
          "output_type": "error",
          "ename": "TypeError",
          "evalue": "ignored",
          "traceback": [
            "\u001b[0;31m---------------------------------------------------------------------------\u001b[0m",
            "\u001b[0;31mTypeError\u001b[0m                                 Traceback (most recent call last)",
            "\u001b[0;32m<ipython-input-149-481d989248e9>\u001b[0m in \u001b[0;36m<module>\u001b[0;34m()\u001b[0m\n\u001b[0;32m----> 1\u001b[0;31m \u001b[0;32massert\u001b[0m\u001b[0;34m(\u001b[0m\u001b[0macc_test1\u001b[0m \u001b[0;34m>\u001b[0m \u001b[0;36m0.9\u001b[0m\u001b[0;34m)\u001b[0m\u001b[0;34m\u001b[0m\u001b[0;34m\u001b[0m\u001b[0m\n\u001b[0m",
            "\u001b[0;31mTypeError\u001b[0m: '>' not supported between instances of 'list' and 'float'"
          ]
        }
      ]
    },
    {
      "cell_type": "code",
      "metadata": {
        "id": "HuxIChK7Kfik",
        "colab_type": "code",
        "colab": {
          "base_uri": "https://localhost:8080/",
          "height": 231
        },
        "outputId": "13c559c6-d727-4a49-d4b8-66a9bed367e6"
      },
      "source": [
        "# model structure\n",
        "assert(len(model1.layers) == 5)\n",
        "expect = [((784, 10), (10,), tf.keras.activations.relu, Dense),\n",
        "          ((10, 10), (10,), tf.keras.activations.relu, Dense),\n",
        "          ((10, 10), (10,), tf.keras.activations.relu, Dense),\n",
        "          ((10, 10), (10,), tf.keras.activations.softmax, Dense),\n",
        "         ]\n",
        "for i in range(4):\n",
        "    layer = model2.layers[i+1]\n",
        "    assert(layer.get_weights()[0].shape == expect[i][0])\n",
        "    assert(layer.get_weights()[1].shape == expect[i][1])\n",
        "    assert(layer.activation == expect[i][2])\n",
        "    assert(isinstance(layer, expect[i][3]))"
      ],
      "execution_count": 158,
      "outputs": [
        {
          "output_type": "error",
          "ename": "AssertionError",
          "evalue": "ignored",
          "traceback": [
            "\u001b[0;31m---------------------------------------------------------------------------\u001b[0m",
            "\u001b[0;31mAssertionError\u001b[0m                            Traceback (most recent call last)",
            "\u001b[0;32m<ipython-input-158-7e145c1799ec>\u001b[0m in \u001b[0;36m<module>\u001b[0;34m()\u001b[0m\n\u001b[1;32m      7\u001b[0m \u001b[0;32mfor\u001b[0m \u001b[0mi\u001b[0m \u001b[0;32min\u001b[0m \u001b[0mrange\u001b[0m\u001b[0;34m(\u001b[0m\u001b[0;36m4\u001b[0m\u001b[0;34m)\u001b[0m\u001b[0;34m:\u001b[0m\u001b[0;34m\u001b[0m\u001b[0;34m\u001b[0m\u001b[0m\n\u001b[1;32m      8\u001b[0m     \u001b[0mlayer\u001b[0m \u001b[0;34m=\u001b[0m \u001b[0mmodel2\u001b[0m\u001b[0;34m.\u001b[0m\u001b[0mlayers\u001b[0m\u001b[0;34m[\u001b[0m\u001b[0mi\u001b[0m\u001b[0;34m+\u001b[0m\u001b[0;36m1\u001b[0m\u001b[0;34m]\u001b[0m\u001b[0;34m\u001b[0m\u001b[0;34m\u001b[0m\u001b[0m\n\u001b[0;32m----> 9\u001b[0;31m     \u001b[0;32massert\u001b[0m\u001b[0;34m(\u001b[0m\u001b[0mlayer\u001b[0m\u001b[0;34m.\u001b[0m\u001b[0mget_weights\u001b[0m\u001b[0;34m(\u001b[0m\u001b[0;34m)\u001b[0m\u001b[0;34m[\u001b[0m\u001b[0;36m0\u001b[0m\u001b[0;34m]\u001b[0m\u001b[0;34m.\u001b[0m\u001b[0mshape\u001b[0m \u001b[0;34m==\u001b[0m \u001b[0mexpect\u001b[0m\u001b[0;34m[\u001b[0m\u001b[0mi\u001b[0m\u001b[0;34m]\u001b[0m\u001b[0;34m[\u001b[0m\u001b[0;36m0\u001b[0m\u001b[0;34m]\u001b[0m\u001b[0;34m)\u001b[0m\u001b[0;34m\u001b[0m\u001b[0;34m\u001b[0m\u001b[0m\n\u001b[0m\u001b[1;32m     10\u001b[0m     \u001b[0;32massert\u001b[0m\u001b[0;34m(\u001b[0m\u001b[0mlayer\u001b[0m\u001b[0;34m.\u001b[0m\u001b[0mget_weights\u001b[0m\u001b[0;34m(\u001b[0m\u001b[0;34m)\u001b[0m\u001b[0;34m[\u001b[0m\u001b[0;36m1\u001b[0m\u001b[0;34m]\u001b[0m\u001b[0;34m.\u001b[0m\u001b[0mshape\u001b[0m \u001b[0;34m==\u001b[0m \u001b[0mexpect\u001b[0m\u001b[0;34m[\u001b[0m\u001b[0mi\u001b[0m\u001b[0;34m]\u001b[0m\u001b[0;34m[\u001b[0m\u001b[0;36m1\u001b[0m\u001b[0;34m]\u001b[0m\u001b[0;34m)\u001b[0m\u001b[0;34m\u001b[0m\u001b[0;34m\u001b[0m\u001b[0m\n\u001b[1;32m     11\u001b[0m     \u001b[0;32massert\u001b[0m\u001b[0;34m(\u001b[0m\u001b[0mlayer\u001b[0m\u001b[0;34m.\u001b[0m\u001b[0mactivation\u001b[0m \u001b[0;34m==\u001b[0m \u001b[0mexpect\u001b[0m\u001b[0;34m[\u001b[0m\u001b[0mi\u001b[0m\u001b[0;34m]\u001b[0m\u001b[0;34m[\u001b[0m\u001b[0;36m2\u001b[0m\u001b[0;34m]\u001b[0m\u001b[0;34m)\u001b[0m\u001b[0;34m\u001b[0m\u001b[0;34m\u001b[0m\u001b[0m\n",
            "\u001b[0;31mAssertionError\u001b[0m: "
          ]
        }
      ]
    },
    {
      "cell_type": "code",
      "metadata": {
        "id": "RwnGc9goKfip",
        "colab_type": "code",
        "colab": {
          "base_uri": "https://localhost:8080/",
          "height": 231
        },
        "outputId": "335eeaf4-ba30-4d7c-98ef-f1b6af63b589"
      },
      "source": [
        "# history of training\n",
        "assert(isinstance(history2, tf.keras.callbacks.History))\n",
        "assert('acc' in history2.history)\n",
        "assert('val_acc' in history2.history)\n",
        "\n",
        "# training\n",
        "acc = history2.history['acc']\n",
        "val_acc = history2.history['val_acc']\n",
        "assert(acc[0] < acc[-1])\n",
        "assert(acc[-1] > 0.9)\n",
        "assert(val_acc[-1] > 0.9)"
      ],
      "execution_count": 92,
      "outputs": [
        {
          "output_type": "error",
          "ename": "AssertionError",
          "evalue": "ignored",
          "traceback": [
            "\u001b[0;31m---------------------------------------------------------------------------\u001b[0m",
            "\u001b[0;31mAssertionError\u001b[0m                            Traceback (most recent call last)",
            "\u001b[0;32m<ipython-input-92-5d3597f81b10>\u001b[0m in \u001b[0;36m<module>\u001b[0;34m()\u001b[0m\n\u001b[1;32m      6\u001b[0m \u001b[0macc\u001b[0m \u001b[0;34m=\u001b[0m \u001b[0mhistory2\u001b[0m\u001b[0;34m.\u001b[0m\u001b[0mhistory\u001b[0m\u001b[0;34m[\u001b[0m\u001b[0;34m'acc'\u001b[0m\u001b[0;34m]\u001b[0m\u001b[0;34m\u001b[0m\u001b[0;34m\u001b[0m\u001b[0m\n\u001b[1;32m      7\u001b[0m \u001b[0mval_acc\u001b[0m \u001b[0;34m=\u001b[0m \u001b[0mhistory2\u001b[0m\u001b[0;34m.\u001b[0m\u001b[0mhistory\u001b[0m\u001b[0;34m[\u001b[0m\u001b[0;34m'val_acc'\u001b[0m\u001b[0;34m]\u001b[0m\u001b[0;34m\u001b[0m\u001b[0;34m\u001b[0m\u001b[0m\n\u001b[0;32m----> 8\u001b[0;31m \u001b[0;32massert\u001b[0m\u001b[0;34m(\u001b[0m\u001b[0macc\u001b[0m\u001b[0;34m[\u001b[0m\u001b[0;36m0\u001b[0m\u001b[0;34m]\u001b[0m \u001b[0;34m<\u001b[0m \u001b[0macc\u001b[0m\u001b[0;34m[\u001b[0m\u001b[0;34m-\u001b[0m\u001b[0;36m1\u001b[0m\u001b[0;34m]\u001b[0m\u001b[0;34m)\u001b[0m\u001b[0;34m\u001b[0m\u001b[0;34m\u001b[0m\u001b[0m\n\u001b[0m\u001b[1;32m      9\u001b[0m \u001b[0;32massert\u001b[0m\u001b[0;34m(\u001b[0m\u001b[0macc\u001b[0m\u001b[0;34m[\u001b[0m\u001b[0;34m-\u001b[0m\u001b[0;36m1\u001b[0m\u001b[0;34m]\u001b[0m \u001b[0;34m>\u001b[0m \u001b[0;36m0.9\u001b[0m\u001b[0;34m)\u001b[0m\u001b[0;34m\u001b[0m\u001b[0;34m\u001b[0m\u001b[0m\n\u001b[1;32m     10\u001b[0m \u001b[0;32massert\u001b[0m\u001b[0;34m(\u001b[0m\u001b[0mval_acc\u001b[0m\u001b[0;34m[\u001b[0m\u001b[0;34m-\u001b[0m\u001b[0;36m1\u001b[0m\u001b[0;34m]\u001b[0m \u001b[0;34m>\u001b[0m \u001b[0;36m0.9\u001b[0m\u001b[0;34m)\u001b[0m\u001b[0;34m\u001b[0m\u001b[0;34m\u001b[0m\u001b[0m\n",
            "\u001b[0;31mAssertionError\u001b[0m: "
          ]
        }
      ]
    },
    {
      "cell_type": "code",
      "metadata": {
        "id": "IYxHoNM_Kfis",
        "colab_type": "code",
        "colab": {
          "base_uri": "https://localhost:8080/",
          "height": 163
        },
        "outputId": "59617168-f234-4c28-a5db-36e3052cf6c9"
      },
      "source": [
        "# test accuracy\n",
        "assert(acc_test2 > 0.9)"
      ],
      "execution_count": 93,
      "outputs": [
        {
          "output_type": "error",
          "ename": "TypeError",
          "evalue": "ignored",
          "traceback": [
            "\u001b[0;31m---------------------------------------------------------------------------\u001b[0m",
            "\u001b[0;31mTypeError\u001b[0m                                 Traceback (most recent call last)",
            "\u001b[0;32m<ipython-input-93-516f0664db61>\u001b[0m in \u001b[0;36m<module>\u001b[0;34m()\u001b[0m\n\u001b[0;32m----> 1\u001b[0;31m \u001b[0;32massert\u001b[0m\u001b[0;34m(\u001b[0m\u001b[0macc_test2\u001b[0m \u001b[0;34m>\u001b[0m \u001b[0;36m0.9\u001b[0m\u001b[0;34m)\u001b[0m\u001b[0;34m\u001b[0m\u001b[0;34m\u001b[0m\u001b[0m\n\u001b[0m",
            "\u001b[0;31mTypeError\u001b[0m: '>' not supported between instances of 'list' and 'float'"
          ]
        }
      ]
    },
    {
      "cell_type": "code",
      "metadata": {
        "id": "LexFEyGxKfiu",
        "colab_type": "code",
        "colab": {}
      },
      "source": [
        "# model structure\n",
        "assert(len(model3.layers) == 5)\n",
        "layer = model3.layers[0]\n",
        "assert(isinstance(layer, Reshape))\n",
        "\n",
        "layer = model3.layers[1]\n",
        "assert(isinstance(layer, Conv2D))\n",
        "\n",
        "layer = model3.layers[2]\n",
        "assert(isinstance(layer, MaxPool2D))\n",
        "\n",
        "layer = model3.layers[3]\n",
        "assert(isinstance(layer, Reshape))\n",
        "\n",
        "layer = model3.layers[4]\n",
        "assert(isinstance(layer, Dense))\n",
        "assert(layer.activation == tf.keras.activations.softmax)"
      ],
      "execution_count": 0,
      "outputs": []
    },
    {
      "cell_type": "code",
      "metadata": {
        "id": "T1-Q_AkMKfiw",
        "colab_type": "code",
        "colab": {}
      },
      "source": [
        "# history of training\n",
        "assert(isinstance(history3, tf.keras.callbacks.History))\n",
        "assert('acc' in history3.history)\n",
        "assert('val_acc' in history3.history)\n",
        "\n",
        "# training\n",
        "acc = history3.history['acc']\n",
        "val_acc = history3.history['val_acc']\n",
        "assert(acc[0] < acc[-1])\n",
        "assert(acc[-1] > 0.95)\n",
        "assert(val_acc[-1] > 0.95)"
      ],
      "execution_count": 0,
      "outputs": []
    },
    {
      "cell_type": "code",
      "metadata": {
        "id": "RyLVdsbZKfiy",
        "colab_type": "code",
        "colab": {}
      },
      "source": [
        "# test accuracy\n",
        "assert(acc_test3 > 0.95)"
      ],
      "execution_count": 0,
      "outputs": []
    },
    {
      "cell_type": "code",
      "metadata": {
        "id": "SX40unK_Kfi3",
        "colab_type": "code",
        "colab": {
          "base_uri": "https://localhost:8080/",
          "height": 180
        },
        "outputId": "a68071d0-ab15-4a77-8582-6657d4830446"
      },
      "source": [
        "# confusion matrix\n",
        "assert(confusion1.shape == (10, 10))\n",
        "assert(np.sum(np.diag(confusion1)) == 0)"
      ],
      "execution_count": 163,
      "outputs": [
        {
          "output_type": "error",
          "ename": "AssertionError",
          "evalue": "ignored",
          "traceback": [
            "\u001b[0;31m---------------------------------------------------------------------------\u001b[0m",
            "\u001b[0;31mAssertionError\u001b[0m                            Traceback (most recent call last)",
            "\u001b[0;32m<ipython-input-163-54d912d8d8c8>\u001b[0m in \u001b[0;36m<module>\u001b[0;34m()\u001b[0m\n\u001b[0;32m----> 1\u001b[0;31m \u001b[0;32massert\u001b[0m\u001b[0;34m(\u001b[0m\u001b[0mconfusion1\u001b[0m\u001b[0;34m.\u001b[0m\u001b[0mshape\u001b[0m \u001b[0;34m==\u001b[0m \u001b[0;34m(\u001b[0m\u001b[0;36m10\u001b[0m\u001b[0;34m,\u001b[0m \u001b[0;36m10\u001b[0m\u001b[0;34m)\u001b[0m\u001b[0;34m)\u001b[0m\u001b[0;34m\u001b[0m\u001b[0;34m\u001b[0m\u001b[0m\n\u001b[0m\u001b[1;32m      2\u001b[0m \u001b[0;32massert\u001b[0m\u001b[0;34m(\u001b[0m\u001b[0mnp\u001b[0m\u001b[0;34m.\u001b[0m\u001b[0msum\u001b[0m\u001b[0;34m(\u001b[0m\u001b[0mnp\u001b[0m\u001b[0;34m.\u001b[0m\u001b[0mdiag\u001b[0m\u001b[0;34m(\u001b[0m\u001b[0mconfusion1\u001b[0m\u001b[0;34m)\u001b[0m\u001b[0;34m)\u001b[0m \u001b[0;34m==\u001b[0m \u001b[0;36m0\u001b[0m\u001b[0;34m)\u001b[0m\u001b[0;34m\u001b[0m\u001b[0;34m\u001b[0m\u001b[0m\n",
            "\u001b[0;31mAssertionError\u001b[0m: "
          ]
        }
      ]
    },
    {
      "cell_type": "code",
      "metadata": {
        "id": "EpKBylp7Kfi5",
        "colab_type": "code",
        "colab": {
          "base_uri": "https://localhost:8080/",
          "height": 180
        },
        "outputId": "a517724f-2f99-4741-8fa2-ddccd5082471"
      },
      "source": [
        "# confusion matrix\n",
        "assert(confusion2.shape == (10, 10))\n",
        "assert(np.sum(np.diag(confusion2)) == 0)"
      ],
      "execution_count": 164,
      "outputs": [
        {
          "output_type": "error",
          "ename": "AssertionError",
          "evalue": "ignored",
          "traceback": [
            "\u001b[0;31m---------------------------------------------------------------------------\u001b[0m",
            "\u001b[0;31mAssertionError\u001b[0m                            Traceback (most recent call last)",
            "\u001b[0;32m<ipython-input-164-5c18b4fd6e9e>\u001b[0m in \u001b[0;36m<module>\u001b[0;34m()\u001b[0m\n\u001b[0;32m----> 1\u001b[0;31m \u001b[0;32massert\u001b[0m\u001b[0;34m(\u001b[0m\u001b[0mconfusion2\u001b[0m\u001b[0;34m.\u001b[0m\u001b[0mshape\u001b[0m \u001b[0;34m==\u001b[0m \u001b[0;34m(\u001b[0m\u001b[0;36m10\u001b[0m\u001b[0;34m,\u001b[0m \u001b[0;36m10\u001b[0m\u001b[0;34m)\u001b[0m\u001b[0;34m)\u001b[0m\u001b[0;34m\u001b[0m\u001b[0;34m\u001b[0m\u001b[0m\n\u001b[0m\u001b[1;32m      2\u001b[0m \u001b[0;32massert\u001b[0m\u001b[0;34m(\u001b[0m\u001b[0mnp\u001b[0m\u001b[0;34m.\u001b[0m\u001b[0msum\u001b[0m\u001b[0;34m(\u001b[0m\u001b[0mnp\u001b[0m\u001b[0;34m.\u001b[0m\u001b[0mdiag\u001b[0m\u001b[0;34m(\u001b[0m\u001b[0mconfusion2\u001b[0m\u001b[0;34m)\u001b[0m\u001b[0;34m)\u001b[0m \u001b[0;34m==\u001b[0m \u001b[0;36m0\u001b[0m\u001b[0;34m)\u001b[0m\u001b[0;34m\u001b[0m\u001b[0;34m\u001b[0m\u001b[0m\n",
            "\u001b[0;31mAssertionError\u001b[0m: "
          ]
        }
      ]
    },
    {
      "cell_type": "code",
      "metadata": {
        "id": "fbWBFGspKfi8",
        "colab_type": "code",
        "colab": {
          "base_uri": "https://localhost:8080/",
          "height": 180
        },
        "outputId": "ee491d41-2c89-41a9-a88b-72016e9d29d1"
      },
      "source": [
        "# confusion matrix\n",
        "assert(confusion3.shape == (10, 10))\n",
        "assert(np.sum(np.diag(confusion3)) == 0)"
      ],
      "execution_count": 165,
      "outputs": [
        {
          "output_type": "error",
          "ename": "AssertionError",
          "evalue": "ignored",
          "traceback": [
            "\u001b[0;31m---------------------------------------------------------------------------\u001b[0m",
            "\u001b[0;31mAssertionError\u001b[0m                            Traceback (most recent call last)",
            "\u001b[0;32m<ipython-input-165-db514f4edcab>\u001b[0m in \u001b[0;36m<module>\u001b[0;34m()\u001b[0m\n\u001b[1;32m      1\u001b[0m \u001b[0;32massert\u001b[0m\u001b[0;34m(\u001b[0m\u001b[0mconfusion3\u001b[0m\u001b[0;34m.\u001b[0m\u001b[0mshape\u001b[0m \u001b[0;34m==\u001b[0m \u001b[0;34m(\u001b[0m\u001b[0;36m10\u001b[0m\u001b[0;34m,\u001b[0m \u001b[0;36m10\u001b[0m\u001b[0;34m)\u001b[0m\u001b[0;34m)\u001b[0m\u001b[0;34m\u001b[0m\u001b[0;34m\u001b[0m\u001b[0m\n\u001b[0;32m----> 2\u001b[0;31m \u001b[0;32massert\u001b[0m\u001b[0;34m(\u001b[0m\u001b[0mnp\u001b[0m\u001b[0;34m.\u001b[0m\u001b[0msum\u001b[0m\u001b[0;34m(\u001b[0m\u001b[0mnp\u001b[0m\u001b[0;34m.\u001b[0m\u001b[0mdiag\u001b[0m\u001b[0;34m(\u001b[0m\u001b[0mconfusion3\u001b[0m\u001b[0;34m)\u001b[0m\u001b[0;34m)\u001b[0m \u001b[0;34m==\u001b[0m \u001b[0;36m0\u001b[0m\u001b[0;34m)\u001b[0m\u001b[0;34m\u001b[0m\u001b[0;34m\u001b[0m\u001b[0m\n\u001b[0m",
            "\u001b[0;31mAssertionError\u001b[0m: "
          ]
        }
      ]
    }
  ]
}