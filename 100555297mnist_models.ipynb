{
  "nbformat": 4,
  "nbformat_minor": 0,
  "metadata": {
    "accelerator": "GPU",
    "colab": {
      "name": "100555297mnist_models.ipynb",
      "provenance": [],
      "collapsed_sections": [],
      "include_colab_link": true
    },
    "kernelspec": {
      "display_name": "Python 3",
      "language": "python",
      "name": "python3"
    },
    "language_info": {
      "codemirror_mode": {
        "name": "ipython",
        "version": 3
      },
      "file_extension": ".py",
      "mimetype": "text/x-python",
      "name": "python",
      "nbconvert_exporter": "python",
      "pygments_lexer": "ipython3",
      "version": "3.6.8"
    }
  },
  "cells": [
    {
      "cell_type": "markdown",
      "metadata": {
        "id": "view-in-github",
        "colab_type": "text"
      },
      "source": [
        "<a href=\"https://colab.research.google.com/github/spiousjoseph/CSCI4050ML/blob/master/100555297mnist_models.ipynb\" target=\"_parent\"><img src=\"https://colab.research.google.com/assets/colab-badge.svg\" alt=\"Open In Colab\"/></a>"
      ]
    },
    {
      "cell_type": "markdown",
      "metadata": {
        "id": "8CrAmZdlKfgu",
        "colab_type": "text"
      },
      "source": [
        "# Neural network models for the MNIST model"
      ]
    },
    {
      "cell_type": "code",
      "metadata": {
        "colab_type": "code",
        "id": "cnccFKgmNtZ4",
        "outputId": "640225cd-7e16-4292-99c7-5bcc2ed00e54",
        "colab": {
          "base_uri": "https://localhost:8080/",
          "height": 34
        }
      },
      "source": [
        "%tensorflow_version 2.x"
      ],
      "execution_count": 2,
      "outputs": [
        {
          "output_type": "stream",
          "text": [
            "TensorFlow 2.x selected.\n"
          ],
          "name": "stdout"
        }
      ]
    },
    {
      "cell_type": "markdown",
      "metadata": {
        "id": "jL7tKk5MKfg0",
        "colab_type": "text"
      },
      "source": [
        "# ⚠️ You are only allowed to work with the imported layers to build your neural network."
      ]
    },
    {
      "cell_type": "code",
      "metadata": {
        "colab_type": "code",
        "id": "HWnEvVblNzXt",
        "colab": {}
      },
      "source": [
        "import tensorflow as tf\n",
        "import matplotlib.pyplot as pl\n",
        "import numpy as np\n",
        "from tensorflow.keras.models import Sequential\n",
        "from tensorflow.keras.layers import Input, Reshape, Dense, Conv2D, MaxPool2D, Flatten\n",
        "from tensorflow.keras.losses import sparse_categorical_crossentropy\n",
        "from tensorflow.keras.optimizers import Adam\n",
        "from tensorflow.keras.datasets import mnist\n",
        "\n",
        "np.set_printoptions(suppress=True, precision=2)"
      ],
      "execution_count": 0,
      "outputs": []
    },
    {
      "cell_type": "markdown",
      "metadata": {
        "id": "YULmNgT-Kfg4",
        "colab_type": "text"
      },
      "source": [
        "# ✎ Import the MNIST dataset.\n",
        "\n",
        "**Note** You must renormalize the pixel values to 1.0.  This involves dividing the image tensors by 255.\n",
        "\n",
        "Load the data into variables:\n",
        "\n",
        "- `x_train`\n",
        "- `y_train`\n",
        "- `x_test`\n",
        "- `y_test`"
      ]
    },
    {
      "cell_type": "code",
      "metadata": {
        "colab_type": "code",
        "id": "SbKrnQRWQ1Cq",
        "outputId": "d3e26fdb-d188-4351-f3ef-62e04f9ab161",
        "colab": {
          "base_uri": "https://localhost:8080/",
          "height": 51
        }
      },
      "source": [
        "# Load the data into x_train, y_train, x_test, y_test\n",
        "(x_train, y_train), (x_test, y_test) = tf.keras.datasets.mnist.load_data()"
      ],
      "execution_count": 4,
      "outputs": [
        {
          "output_type": "stream",
          "text": [
            "Downloading data from https://storage.googleapis.com/tensorflow/tf-keras-datasets/mnist.npz\n",
            "11493376/11490434 [==============================] - 0s 0us/step\n"
          ],
          "name": "stdout"
        }
      ]
    },
    {
      "cell_type": "code",
      "metadata": {
        "colab_type": "code",
        "id": "4fZqwOY2SRPI",
        "colab": {}
      },
      "source": [
        "# Normalize the image pixels in x_train and y_train to 0 to 1.\n",
        "x_train = x_train / 255\n",
        "x_test = x_test / 255\n",
        "# complete\n"
      ],
      "execution_count": 0,
      "outputs": []
    },
    {
      "cell_type": "markdown",
      "metadata": {
        "id": "PCmGZjA1Kfg-",
        "colab_type": "text"
      },
      "source": [
        "# ✎ Plot the digit images\n",
        "\n",
        "You must plot, in a grid of subplots with layout (2, 5), **one** image\n",
        "for each digit from 0 .. 9."
      ]
    },
    {
      "cell_type": "code",
      "metadata": {
        "colab_type": "code",
        "id": "6uGA0_-jSZiw",
        "outputId": "12addd50-e62c-4e5b-dd1e-e67b5d05d4fa",
        "colab": {
          "base_uri": "https://localhost:8080/",
          "height": 265
        }
      },
      "source": [
        "# Plot one image per different digit in a 2x5 subplot layout.\n",
        "pl.imshow(x_train[20000], cmap='gray');\n",
        "#\n",
        "# complete"
      ],
      "execution_count": 6,
      "outputs": [
        {
          "output_type": "display_data",
          "data": {
            "image/png": "[encoded data removed]",
            "text/plain": [
              "<Figure size 432x288 with 1 Axes>"
            ]
          },
          "metadata": {
            "tags": []
          }
        }
      ]
    },
    {
      "cell_type": "markdown",
      "metadata": {
        "id": "51Cg0X1jKfhB",
        "colab_type": "text"
      },
      "source": [
        "# ✎ MLP with four layers\n",
        "\n",
        "Construct a model, `model1`, that is a 4-layer MLP.  \n",
        "\n",
        "- It maps the digit images to a probability distribution\n",
        "over 10 classes, corresponding to 0..9.\n",
        "\n",
        "- The model consists of *four* dense layers, each with 10 neurons.\n",
        "Only the last layer uses activation function (`softmax`), while\n",
        "the others do not use activation functions.\n",
        "\n",
        "- Compile the model with the `sparse_categorical_crossentropy` loss function and\n",
        "`Adam` optimizer.  Also include the accuracy metrics (`acc`) in the compiled model.\n",
        "\n",
        "- Use `model1.summary()` to show the description of the model"
      ]
    },
    {
      "cell_type": "code",
      "metadata": {
        "colab_type": "code",
        "id": "IarU5N0ATSa_",
        "outputId": "b8507cb5-f0b9-4b68-b273-78964d08c974",
        "colab": {
          "base_uri": "https://localhost:8080/",
          "height": 323
        }
      },
      "source": [
        "# Construct the first model.\n",
        "#\n",
        "# Compile with sparse categorical crossentropy, and adam optimizer, and the 'acc' metric.\n",
        "#\n",
        "# complete\n",
        "#\n",
        "model1 = Sequential([\n",
        "    Input((28, 28)),\n",
        "    Reshape((784,)),\n",
        "    Dense(10),\n",
        "    Dense(10),\n",
        "    Dense(10),\n",
        "    Dense(10, activation='softmax')\n",
        "    #Reshape((280,))\n",
        "])\n",
        "model1.compile(loss=tf.losses.sparse_categorical_crossentropy, optimizer='adam', metrics=['acc'])\n",
        "model1.summary()"
      ],
      "execution_count": 49,
      "outputs": [
        {
          "output_type": "stream",
          "text": [
            "Model: \"sequential_5\"\n",
            "_________________________________________________________________\n",
            "Layer (type)                 Output Shape              Param #   \n",
            "=================================================================\n",
            "reshape_4 (Reshape)          (None, 784)               0         \n",
            "_________________________________________________________________\n",
            "dense_17 (Dense)             (None, 10)                7850      \n",
            "_________________________________________________________________\n",
            "dense_18 (Dense)             (None, 10)                110       \n",
            "_________________________________________________________________\n",
            "dense_19 (Dense)             (None, 10)                110       \n",
            "_________________________________________________________________\n",
            "dense_20 (Dense)             (None, 10)                110       \n",
            "=================================================================\n",
            "Total params: 8,180\n",
            "Trainable params: 8,180\n",
            "Non-trainable params: 0\n",
            "_________________________________________________________________\n"
          ],
          "name": "stdout"
        }
      ]
    },
    {
      "cell_type": "markdown",
      "metadata": {
        "id": "hajV3-CWKfhG",
        "colab_type": "text"
      },
      "source": [
        "# ✎ Training\n",
        "\n",
        "- Train the model, with `x_train` and `y_train`.\n",
        "- Use 10 epochs.\n",
        "- Use 10% of the training data for cross validation.\n",
        "- Save the history of the training as variable `history1`."
      ]
    },
    {
      "cell_type": "code",
      "metadata": {
        "colab_type": "code",
        "id": "kUKCLN_RGh8P",
        "colab": {}
      },
      "source": [
        "split = tf.math.floor(x_train.shape[0]*0.1)\n",
        "data_train = x_train[:split]\n",
        "data_test = x_train[split:]\n",
        "\n",
        "def fold_i_of_k(dataset, i, k):\n",
        "    n = len(dataset)\n",
        "    return dataset[n*(i-1)//k:n*i//k]"
      ],
      "execution_count": 0,
      "outputs": []
    },
    {
      "cell_type": "code",
      "metadata": {
        "colab_type": "code",
        "outputId": "66115576-3e55-4d76-869e-46fff5900d3f",
        "id": "W5M4rgg8GhmW",
        "colab": {
          "base_uri": "https://localhost:8080/",
          "height": 34
        }
      },
      "source": [
        "abc = fold_i_of_k(x_train, 10, 10)\n",
        "abc.shape"
      ],
      "execution_count": 9,
      "outputs": [
        {
          "output_type": "execute_result",
          "data": {
            "text/plain": [
              "(6000, 28, 28)"
            ]
          },
          "metadata": {
            "tags": []
          },
          "execution_count": 9
        }
      ]
    },
    {
      "cell_type": "code",
      "metadata": {
        "colab_type": "code",
        "id": "xMwxY-79WbG6",
        "outputId": "e44df381-d11f-4756-d5b7-d6444369653e",
        "colab": {
          "base_uri": "https://localhost:8080/",
          "height": 374
        }
      },
      "source": [
        "# Train the model with the training data\n",
        "# - Use 10% cross validation\n",
        "# - 10 epochs\n",
        "# - Save the history\n",
        "#\n",
        "# complete\n",
        "#\n",
        "history1 = model1.fit(x_train, y_train, epochs=10, validation_split=0.1)"
      ],
      "execution_count": 50,
      "outputs": [
        {
          "output_type": "stream",
          "text": [
            "Train on 54000 samples, validate on 6000 samples\n",
            "Epoch 1/10\n",
            "54000/54000 [==============================] - 5s 86us/sample - loss: 0.5321 - acc: 0.8393 - val_loss: 0.3070 - val_acc: 0.9125\n",
            "Epoch 2/10\n",
            "54000/54000 [==============================] - 4s 78us/sample - loss: 0.3548 - acc: 0.8983 - val_loss: 0.2919 - val_acc: 0.9182\n",
            "Epoch 3/10\n",
            "54000/54000 [==============================] - 4s 78us/sample - loss: 0.3249 - acc: 0.9087 - val_loss: 0.2681 - val_acc: 0.9238\n",
            "Epoch 4/10\n",
            "54000/54000 [==============================] - 4s 77us/sample - loss: 0.3131 - acc: 0.9124 - val_loss: 0.2683 - val_acc: 0.9245\n",
            "Epoch 5/10\n",
            "54000/54000 [==============================] - 4s 78us/sample - loss: 0.3066 - acc: 0.9138 - val_loss: 0.2661 - val_acc: 0.9253\n",
            "Epoch 6/10\n",
            "54000/54000 [==============================] - 4s 78us/sample - loss: 0.3037 - acc: 0.9147 - val_loss: 0.2585 - val_acc: 0.9293\n",
            "Epoch 7/10\n",
            "54000/54000 [==============================] - 4s 82us/sample - loss: 0.3003 - acc: 0.9162 - val_loss: 0.2564 - val_acc: 0.9257\n",
            "Epoch 8/10\n",
            "54000/54000 [==============================] - 4s 83us/sample - loss: 0.2980 - acc: 0.9160 - val_loss: 0.2662 - val_acc: 0.9290\n",
            "Epoch 9/10\n",
            "54000/54000 [==============================] - 4s 78us/sample - loss: 0.2960 - acc: 0.9171 - val_loss: 0.2656 - val_acc: 0.9243\n",
            "Epoch 10/10\n",
            "54000/54000 [==============================] - 4s 82us/sample - loss: 0.2940 - acc: 0.9176 - val_loss: 0.2609 - val_acc: 0.9282\n"
          ],
          "name": "stdout"
        }
      ]
    },
    {
      "cell_type": "markdown",
      "metadata": {
        "id": "qwICWEt7KfhJ",
        "colab_type": "text"
      },
      "source": [
        "# ✎ Plot the accuracy and cross validation accuracy in two separate plots"
      ]
    },
    {
      "cell_type": "code",
      "metadata": {
        "colab_type": "code",
        "id": "nWDuv0QVXaMZ",
        "outputId": "9772c4bf-d44a-4871-c953-a0550d6857a4",
        "colab": {
          "base_uri": "https://localhost:8080/",
          "height": 376
        }
      },
      "source": [
        "# Plot the training accuracy and cross validation accuracy\n",
        "# Make two separate plots\n",
        "#\n",
        "# complete\n",
        "#\n",
        "pl.figure(figsize=(10, 6))\n",
        "pl.subplot(2,1,1)\n",
        "pl.plot(history1.history['acc']);\n",
        "\n",
        "pl.subplot(2,1,2)\n",
        "pl.plot(history1.history['val_acc']);"
      ],
      "execution_count": 51,
      "outputs": [
        {
          "output_type": "display_data",
          "data": {
            "image/png": "[encoded data removed]",
            "text/plain": [
              "<Figure size 720x432 with 2 Axes>"
            ]
          },
          "metadata": {
            "tags": []
          }
        }
      ]
    },
    {
      "cell_type": "markdown",
      "metadata": {
        "id": "ey07FDFJKfhM",
        "colab_type": "text"
      },
      "source": [
        "# ✎ Conclusion on overfitting\n",
        "\n",
        "Do you think the model has overfitted to the training data?"
      ]
    },
    {
      "cell_type": "markdown",
      "metadata": {
        "id": "6wrm6RnEKfhN",
        "colab_type": "text"
      },
      "source": [
        "## Your answer here:\n",
        "\n",
        "*The model seems to have low accuracy but may improve upon by increasing the epochs\n",
        "*\n",
        "*\n",
        "*\n",
        "*\n",
        "\n",
        "\n"
      ]
    },
    {
      "cell_type": "markdown",
      "metadata": {
        "id": "JW-3EnShKfhO",
        "colab_type": "text"
      },
      "source": [
        "# ✎ Evaluate the model using the test data.\n",
        "\n",
        "- Save the test accuracy in the variable `acc_test1`"
      ]
    },
    {
      "cell_type": "code",
      "metadata": {
        "colab_type": "code",
        "id": "armpaekBCr1P",
        "outputId": "2c6f051a-15cf-4b09-9b00-d50139b964f0",
        "colab": {
          "base_uri": "https://localhost:8080/",
          "height": 51
        }
      },
      "source": [
        "# Evaluate the test accuracy using the test data x_test and y_test.\n",
        "#\n",
        "# complete\n",
        "#\n",
        "\n",
        "test_loss, acc_test1 = model1.evaluate(x_test, y_test, verbose=2)\n",
        "acc_test1"
      ],
      "execution_count": 52,
      "outputs": [
        {
          "output_type": "stream",
          "text": [
            "10000/1 - 0s - loss: 0.1942 - acc: 0.9125\n"
          ],
          "name": "stdout"
        },
        {
          "output_type": "execute_result",
          "data": {
            "text/plain": [
              "0.9125"
            ]
          },
          "metadata": {
            "tags": []
          },
          "execution_count": 52
        }
      ]
    },
    {
      "cell_type": "markdown",
      "metadata": {
        "colab_type": "text",
        "id": "O2_BmBhL9iKE"
      },
      "source": [
        "# ✎ MLP with non-linear activation\n",
        "\n",
        "- Construct a MLP with the same architecture as `model1`, except\n",
        "that all **internal** layers use `relu` non-linear activation functions.\n",
        "\n",
        "- Assign the model the variable `model2`.\n",
        "\n",
        "- Use `model2.summary()` to show the model description."
      ]
    },
    {
      "cell_type": "code",
      "metadata": {
        "colab_type": "code",
        "id": "PDCB3tlWYWAG",
        "outputId": "7a3abf4c-1055-4739-ecf5-f79e8d19a462",
        "colab": {
          "base_uri": "https://localhost:8080/",
          "height": 323
        }
      },
      "source": [
        "# Construct the second model\n",
        "#\n",
        "# Compile with sparse_categorical_crossentropy, adam optimizer and the 'acc' metrics\n",
        "#\n",
        "# complete\n",
        "#\n",
        "\n",
        "model2 = Sequential([\n",
        "    Input((28, 28)),\n",
        "    Reshape((784,)),\n",
        "    Dense(10, activation='relu'),\n",
        "    Dense(10, activation='relu'),\n",
        "    Dense(10, activation='relu'),\n",
        "    Dense(10, activation='softmax')\n",
        "    #Reshape((280,))\n",
        "])\n",
        "model2.compile(loss=tf.losses.sparse_categorical_crossentropy, optimizer='adam', metrics=['acc'])\n",
        "model2.summary()"
      ],
      "execution_count": 59,
      "outputs": [
        {
          "output_type": "stream",
          "text": [
            "Model: \"sequential_7\"\n",
            "_________________________________________________________________\n",
            "Layer (type)                 Output Shape              Param #   \n",
            "=================================================================\n",
            "reshape_5 (Reshape)          (None, 784)               0         \n",
            "_________________________________________________________________\n",
            "dense_25 (Dense)             (None, 10)                7850      \n",
            "_________________________________________________________________\n",
            "dense_26 (Dense)             (None, 10)                110       \n",
            "_________________________________________________________________\n",
            "dense_27 (Dense)             (None, 10)                110       \n",
            "_________________________________________________________________\n",
            "dense_28 (Dense)             (None, 10)                110       \n",
            "=================================================================\n",
            "Total params: 8,180\n",
            "Trainable params: 8,180\n",
            "Non-trainable params: 0\n",
            "_________________________________________________________________\n"
          ],
          "name": "stdout"
        }
      ]
    },
    {
      "cell_type": "markdown",
      "metadata": {
        "id": "jzCv37WSKfhW",
        "colab_type": "text"
      },
      "source": [
        "# ✎ Train the model\n",
        "\n",
        "- 10 epochs\n",
        "- 10% cross-validation\n",
        "- Save the history in `history2`."
      ]
    },
    {
      "cell_type": "code",
      "metadata": {
        "colab_type": "code",
        "id": "b51NBoQibFy-",
        "outputId": "08aed155-c065-4d8a-bbdc-9c2b70749cfa",
        "colab": {
          "base_uri": "https://localhost:8080/",
          "height": 374
        }
      },
      "source": [
        "# Train the model with the training data\n",
        "# - Use 10% cross validation\n",
        "# - 10 epochs\n",
        "# - Save the history\n",
        "#\n",
        "# complete\n",
        "#\n",
        "history2 = model2.fit(x_train, y_train, epochs=10, validation_split=0.1)"
      ],
      "execution_count": 60,
      "outputs": [
        {
          "output_type": "stream",
          "text": [
            "Train on 54000 samples, validate on 6000 samples\n",
            "Epoch 1/10\n",
            "54000/54000 [==============================] - 5s 93us/sample - loss: 0.7057 - acc: 0.7817 - val_loss: 0.3433 - val_acc: 0.9077\n",
            "Epoch 2/10\n",
            "54000/54000 [==============================] - 4s 79us/sample - loss: 0.3737 - acc: 0.8961 - val_loss: 0.2891 - val_acc: 0.9192\n",
            "Epoch 3/10\n",
            "54000/54000 [==============================] - 4s 79us/sample - loss: 0.3212 - acc: 0.9091 - val_loss: 0.2509 - val_acc: 0.9312\n",
            "Epoch 4/10\n",
            "54000/54000 [==============================] - 4s 80us/sample - loss: 0.2900 - acc: 0.9178 - val_loss: 0.2387 - val_acc: 0.9335\n",
            "Epoch 5/10\n",
            "54000/54000 [==============================] - 4s 79us/sample - loss: 0.2646 - acc: 0.9252 - val_loss: 0.2302 - val_acc: 0.9352\n",
            "Epoch 6/10\n",
            "54000/54000 [==============================] - 4s 80us/sample - loss: 0.2502 - acc: 0.9289 - val_loss: 0.2138 - val_acc: 0.9408\n",
            "Epoch 7/10\n",
            "54000/54000 [==============================] - 4s 78us/sample - loss: 0.2357 - acc: 0.9328 - val_loss: 0.2135 - val_acc: 0.9402\n",
            "Epoch 8/10\n",
            "54000/54000 [==============================] - 4s 78us/sample - loss: 0.2259 - acc: 0.9347 - val_loss: 0.2042 - val_acc: 0.9412\n",
            "Epoch 9/10\n",
            "54000/54000 [==============================] - 4s 78us/sample - loss: 0.2150 - acc: 0.9379 - val_loss: 0.2024 - val_acc: 0.9417\n",
            "Epoch 10/10\n",
            "54000/54000 [==============================] - 4s 77us/sample - loss: 0.2084 - acc: 0.9384 - val_loss: 0.1938 - val_acc: 0.9435\n"
          ],
          "name": "stdout"
        }
      ]
    },
    {
      "cell_type": "markdown",
      "metadata": {
        "id": "1bzf_-RmKfhZ",
        "colab_type": "text"
      },
      "source": [
        "# ✎ Plot the accuracy and cross validation accuracy in two separate plots"
      ]
    },
    {
      "cell_type": "code",
      "metadata": {
        "colab_type": "code",
        "id": "D-mantMkbOWs",
        "outputId": "efc897bc-f175-4093-afbe-351265c37049",
        "colab": {
          "base_uri": "https://localhost:8080/",
          "height": 374
        }
      },
      "source": [
        "# Plot the training accuracy and cross validation accuracy\n",
        "# Make two separate plots\n",
        "#\n",
        "# complete\n",
        "#\n",
        "pl.figure(figsize=(10, 6))\n",
        "pl.subplot(2,1,1)\n",
        "pl.plot(history2.history['acc']);\n",
        "\n",
        "pl.subplot(2,1,2)\n",
        "pl.plot(history2.history['val_acc']);"
      ],
      "execution_count": 61,
      "outputs": [
        {
          "output_type": "display_data",
          "data": {
            "image/png": "[encoded data removed]",
            "text/plain": [
              "<Figure size 720x432 with 2 Axes>"
            ]
          },
          "metadata": {
            "tags": []
          }
        }
      ]
    },
    {
      "cell_type": "markdown",
      "metadata": {
        "id": "RxE22ik7Kfhd",
        "colab_type": "text"
      },
      "source": [
        "# ✎ Conclusion on overfitting\n",
        "\n",
        "Do you think the model has overfitted?"
      ]
    },
    {
      "cell_type": "markdown",
      "metadata": {
        "id": "BTIZAus_Kfhd",
        "colab_type": "text"
      },
      "source": [
        "## Your answer goes here.\n",
        "\n",
        "The Model's accuracy is terrible and doesn't seem to hold much.\n",
        "*\n",
        "*\n",
        "*\n",
        "*\n",
        "*"
      ]
    },
    {
      "cell_type": "markdown",
      "metadata": {
        "id": "JU4dHLVVKfhe",
        "colab_type": "text"
      },
      "source": [
        "# ✎ Evaluate `model2` with test data.\n",
        "\n",
        "- Save the test accuracy in the variable `acc_test2`"
      ]
    },
    {
      "cell_type": "code",
      "metadata": {
        "colab_type": "code",
        "id": "tf-2t6K5Cjw6",
        "outputId": "5a9be3db-0871-4256-b6e0-7e03d3f4481e",
        "colab": {
          "base_uri": "https://localhost:8080/",
          "height": 51
        }
      },
      "source": [
        "# Evaluate the test accuracy using the test data x_test and y_test.\n",
        "#\n",
        "# complete\n",
        "#\n",
        "test_loss, acc_test2 = model2.evaluate(x_test, y_test, verbose=2)\n",
        "acc_test2"
      ],
      "execution_count": 62,
      "outputs": [
        {
          "output_type": "stream",
          "text": [
            "10000/1 - 0s - loss: 0.1453 - acc: 0.9342\n"
          ],
          "name": "stdout"
        },
        {
          "output_type": "execute_result",
          "data": {
            "text/plain": [
              "0.9342"
            ]
          },
          "metadata": {
            "tags": []
          },
          "execution_count": 62
        }
      ]
    },
    {
      "cell_type": "markdown",
      "metadata": {
        "colab_type": "text",
        "id": "nfM1x20rbl47"
      },
      "source": [
        "# ✎ Convolutional Networks\n",
        "\n",
        "Build a convolutional network with the following architecture.\n",
        "\n",
        "- Uses a Conv2D layer with 32 filters, each with kernel size of (3,3).\n",
        "- Uses a MaxPool2D layer with pool size of (2,2).\n",
        "- Uses a dense layer to generate the output.\n",
        "- You must use `Reshape` layers whenever necessary to ensure the shapes of the tensors are suitable\n",
        "for downstream layers.\n",
        "- Assign the model as `model3`.\n",
        "- Compile the model as before."
      ]
    },
    {
      "cell_type": "code",
      "metadata": {
        "colab_type": "code",
        "outputId": "d1ad80cd-15db-4962-d9a3-83b85a709b3f",
        "id": "ZKnv-JuGWjpd",
        "colab": {
          "base_uri": "https://localhost:8080/",
          "height": 323
        }
      },
      "source": [
        "# Construct the second model\n",
        "#\n",
        "# Compile with sparse_categorical_crossentropy, adam optimizer and the 'acc' metrics\n",
        "#\n",
        "# complete\n",
        "#\n",
        "model3 = Sequential([\n",
        "    Input((28, 28)),\n",
        "    Reshape((28, 28, 1)),\n",
        "    Conv2D(32, kernel_size=(3, 3), padding='valid'),\n",
        "    MaxPool2D(pool_size=(2,2)),\n",
        "    Reshape((5408,)),\n",
        "    Dense(10, activation='softmax')\n",
        "])\n",
        "model3.compile(loss=tf.losses.sparse_categorical_crossentropy, optimizer='adam', metrics=['acc'])\n",
        "model3.summary()"
      ],
      "execution_count": 17,
      "outputs": [
        {
          "output_type": "stream",
          "text": [
            "Model: \"sequential_2\"\n",
            "_________________________________________________________________\n",
            "Layer (type)                 Output Shape              Param #   \n",
            "=================================================================\n",
            "reshape_2 (Reshape)          (None, 28, 28, 1)         0         \n",
            "_________________________________________________________________\n",
            "conv2d (Conv2D)              (None, 26, 26, 32)        320       \n",
            "_________________________________________________________________\n",
            "max_pooling2d (MaxPooling2D) (None, 13, 13, 32)        0         \n",
            "_________________________________________________________________\n",
            "reshape_3 (Reshape)          (None, 5408)              0         \n",
            "_________________________________________________________________\n",
            "dense_8 (Dense)              (None, 10)                54090     \n",
            "=================================================================\n",
            "Total params: 54,410\n",
            "Trainable params: 54,410\n",
            "Non-trainable params: 0\n",
            "_________________________________________________________________\n"
          ],
          "name": "stdout"
        }
      ]
    },
    {
      "cell_type": "code",
      "metadata": {
        "id": "kFqhQMSizTgg",
        "colab_type": "code",
        "outputId": "300de00d-ac2f-43b2-c3a1-c1cd8fdccfa3",
        "colab": {
          "base_uri": "https://localhost:8080/",
          "height": 34
        }
      },
      "source": [
        "model3.output_shape"
      ],
      "execution_count": 18,
      "outputs": [
        {
          "output_type": "execute_result",
          "data": {
            "text/plain": [
              "(None, 10)"
            ]
          },
          "metadata": {
            "tags": []
          },
          "execution_count": 18
        }
      ]
    },
    {
      "cell_type": "markdown",
      "metadata": {
        "id": "AXT6pwDyKfhm",
        "colab_type": "text"
      },
      "source": [
        "# ✎ Train the model\n",
        "\n",
        "- 10 epochs\n",
        "- 10% cross-validation\n",
        "- Save the history as `history3`"
      ]
    },
    {
      "cell_type": "code",
      "metadata": {
        "colab_type": "code",
        "id": "u1OAAp6lBZNJ",
        "outputId": "572a22f8-478f-420c-d7b1-0a769d04a648",
        "colab": {
          "base_uri": "https://localhost:8080/",
          "height": 374
        }
      },
      "source": [
        "# Train the model with the training data\n",
        "# - Use 10% cross validation\n",
        "# - 10 epochs\n",
        "# - Save the history\n",
        "#\n",
        "# complete\n",
        "#\n",
        "history3 = model3.fit(x_train, y_train, epochs=10, validation_split=0.1)"
      ],
      "execution_count": 19,
      "outputs": [
        {
          "output_type": "stream",
          "text": [
            "Train on 54000 samples, validate on 6000 samples\n",
            "Epoch 1/10\n",
            "54000/54000 [==============================] - 23s 419us/sample - loss: 0.2795 - acc: 0.9196 - val_loss: 0.1180 - val_acc: 0.9695\n",
            "Epoch 2/10\n",
            "54000/54000 [==============================] - 22s 404us/sample - loss: 0.1234 - acc: 0.9641 - val_loss: 0.0917 - val_acc: 0.9748\n",
            "Epoch 3/10\n",
            "54000/54000 [==============================] - 22s 405us/sample - loss: 0.0877 - acc: 0.9746 - val_loss: 0.0763 - val_acc: 0.9777\n",
            "Epoch 4/10\n",
            "54000/54000 [==============================] - 22s 405us/sample - loss: 0.0711 - acc: 0.9784 - val_loss: 0.0735 - val_acc: 0.9795\n",
            "Epoch 5/10\n",
            "54000/54000 [==============================] - 22s 408us/sample - loss: 0.0620 - acc: 0.9807 - val_loss: 0.0690 - val_acc: 0.9800\n",
            "Epoch 6/10\n",
            "54000/54000 [==============================] - 22s 410us/sample - loss: 0.0529 - acc: 0.9832 - val_loss: 0.0662 - val_acc: 0.9815\n",
            "Epoch 7/10\n",
            "54000/54000 [==============================] - 22s 406us/sample - loss: 0.0470 - acc: 0.9847 - val_loss: 0.0645 - val_acc: 0.9818\n",
            "Epoch 8/10\n",
            "54000/54000 [==============================] - 22s 402us/sample - loss: 0.0406 - acc: 0.9876 - val_loss: 0.0667 - val_acc: 0.9827\n",
            "Epoch 9/10\n",
            "54000/54000 [==============================] - 22s 405us/sample - loss: 0.0367 - acc: 0.9887 - val_loss: 0.0646 - val_acc: 0.9822\n",
            "Epoch 10/10\n",
            "54000/54000 [==============================] - 22s 405us/sample - loss: 0.0335 - acc: 0.9896 - val_loss: 0.0669 - val_acc: 0.9815\n"
          ],
          "name": "stdout"
        }
      ]
    },
    {
      "cell_type": "markdown",
      "metadata": {
        "id": "MB6tHp_iKfhr",
        "colab_type": "text"
      },
      "source": [
        "# ✎ Plot the accuracy and cross validation accuracy in two separate plots"
      ]
    },
    {
      "cell_type": "code",
      "metadata": {
        "colab_type": "code",
        "id": "FFY_CTD-BoOg",
        "outputId": "7b5ec278-7607-4e19-b430-f38b4f9fdade",
        "colab": {
          "base_uri": "https://localhost:8080/",
          "height": 374
        }
      },
      "source": [
        "# Plot the training accuracy and cross validation accuracy\n",
        "# Make two separate plots\n",
        "#\n",
        "# complete\n",
        "#\n",
        "pl.figure(figsize=(10, 6))\n",
        "pl.subplot(2,1,1)\n",
        "pl.plot(history3.history['acc']);\n",
        "\n",
        "pl.subplot(2,1,2)\n",
        "pl.plot(history3.history['val_acc']);"
      ],
      "execution_count": 20,
      "outputs": [
        {
          "output_type": "display_data",
          "data": {
            "image/png": "[encoded data removed]",
            "text/plain": [
              "<Figure size 720x432 with 2 Axes>"
            ]
          },
          "metadata": {
            "tags": []
          }
        }
      ]
    },
    {
      "cell_type": "markdown",
      "metadata": {
        "id": "lmfV7I61Kfhw",
        "colab_type": "text"
      },
      "source": [
        "# ✎ Conclusion on overfitting\n",
        "\n",
        "Do you think the model has overfitted?"
      ]
    },
    {
      "cell_type": "markdown",
      "metadata": {
        "id": "Jf--marqKfhx",
        "colab_type": "text"
      },
      "source": [
        "## Your answer goes here.\n",
        "\n",
        "Out of all the models, model3 works best and is the most accurate of all of them\n",
        "*\n",
        "*\n",
        "*\n",
        "*"
      ]
    },
    {
      "cell_type": "markdown",
      "metadata": {
        "id": "hPILHShIKfhx",
        "colab_type": "text"
      },
      "source": [
        "# ✎ Evaluate `model2` with test data.\n",
        "\n",
        "- Save the test accuracy in the variable `acc_test3`"
      ]
    },
    {
      "cell_type": "code",
      "metadata": {
        "colab_type": "code",
        "id": "FXdl6RC1CWmZ",
        "outputId": "b6f27e71-59f6-49ee-ba2e-8099715a5f4c",
        "colab": {
          "base_uri": "https://localhost:8080/",
          "height": 51
        }
      },
      "source": [
        "# Evaluate the test accuracy using the test data x_test and y_test.\n",
        "#\n",
        "# complete\n",
        "#\n",
        "test_loss, acc_test3 = model3.evaluate(x_test, y_test, verbose=2)\n",
        "acc_test3"
      ],
      "execution_count": 21,
      "outputs": [
        {
          "output_type": "stream",
          "text": [
            "10000/1 - 2s - loss: 0.0387 - acc: 0.9782\n"
          ],
          "name": "stdout"
        },
        {
          "output_type": "execute_result",
          "data": {
            "text/plain": [
              "0.9782"
            ]
          },
          "metadata": {
            "tags": []
          },
          "execution_count": 21
        }
      ]
    },
    {
      "cell_type": "markdown",
      "metadata": {
        "colab_type": "text",
        "id": "gJ6bRpWWCfBR"
      },
      "source": [
        "# Comparative study"
      ]
    },
    {
      "cell_type": "markdown",
      "metadata": {
        "id": "VIgMugHUKfh3",
        "colab_type": "text"
      },
      "source": [
        "# ✎ Define a function that computes a _confusion matrix_.\n",
        "\n",
        "Define a function `confusion_matrix(model)` as follows:\n",
        "\n",
        "**Input**\n",
        "\n",
        "- model: a MNIST classifier\n",
        "\n",
        "**Returns**\n",
        "\n",
        "- A (10,10) matrix of **int** which is the _confusion matrix_ with respect to the training\n",
        "data of `(x_test, y_test)`.\n",
        "\n",
        "The confusion matrix $C$ is defined as:  $C[i][j]$ is the number of\n",
        "instances that digit $i$ is mistaken as $j$.  We **require** $C[i][i] = 0$ for all $i$."
      ]
    },
    {
      "cell_type": "code",
      "metadata": {
        "colab_type": "code",
        "id": "hngGtDfGJPLG",
        "colab": {}
      },
      "source": [
        "#\n",
        "# complete\n",
        "#\n",
        "def confusion_matrix(model):\n",
        "  actual = y_test\n",
        "  predicted = model.predict(x_test)\n",
        "  a = tf.constant(actual)\n",
        "  b = tf.constant(predicted)\n",
        "  c = tf.expand_dims(a, 1)\n",
        "  results = tf.math.confusion_matrix(labels=tf.argmax(c, 1), predictions=tf.argmax(b, 1)) \n",
        "  return results\n",
        "    "
      ],
      "execution_count": 0,
      "outputs": []
    },
    {
      "cell_type": "markdown",
      "metadata": {
        "id": "Vvc4JthKKfh7",
        "colab_type": "text"
      },
      "source": [
        "# ✎ Define a function of printing _bad_ images of digit\n",
        "\n",
        "Define a function `show_bad(model, digit)` to show 9 images of digit that have\n",
        "been incorrectly classified.\n",
        "\n",
        "**Input**:\n",
        "\n",
        "- model: the classifier\n",
        "- digit: the digit that the images belong to.  digit=0, 1, ... 9.\n",
        "\n",
        "**Output**:\n",
        "\n",
        "- None\n",
        "\n",
        "The function plots in a 3x3 subplot layout 9 images that have been badly classified.  All 9 images are\n",
        "supposed to be `digit`."
      ]
    },
    {
      "cell_type": "code",
      "metadata": {
        "colab_type": "code",
        "id": "h0jzgNuWOW5M",
        "colab": {}
      },
      "source": [
        "#\n",
        "# complete\n",
        "#\n",
        "def show_bad(model, digit):\n",
        "  predicted = model.predict(x_train)\n",
        "  result = np.absolute(y_train-predicted)\n",
        "  figure = pl.figure(figsize=(10,10))\n",
        "  for i in range(9):\n",
        "    # Start next subplot.\n",
        "    pl.subplot(digit, digit, i + 1)\n",
        "    pl.xticks([])\n",
        "    pl.yticks([])\n",
        "    pl.grid(False)\n",
        "    pl.imshow(train[i], cmap='gray');"
      ],
      "execution_count": 0,
      "outputs": []
    },
    {
      "cell_type": "markdown",
      "metadata": {
        "id": "-TmXkmxCKfh-",
        "colab_type": "text"
      },
      "source": [
        "# ✎ Apply to models\n",
        "\n",
        "- Compute the confusion matrices of all three models.\n",
        "- Save them as variables `confusion1`, `confusion2` and `confusion3`.\n",
        "\n",
        "# ✎ Show the bad digits of all three models\n",
        "\n",
        "- Apply the `show_bad` to all three models"
      ]
    },
    {
      "cell_type": "code",
      "metadata": {
        "colab_type": "code",
        "id": "-9OLISXqKLu_",
        "outputId": "f9f1e3b2-44e3-4fae-cc88-61a8050222ff",
        "colab": {
          "base_uri": "https://localhost:8080/",
          "height": 153
        }
      },
      "source": [
        "confusion1 = confusion_matrix(model1)\n",
        "confusion1"
      ],
      "execution_count": 24,
      "outputs": [
        {
          "output_type": "execute_result",
          "data": {
            "text/plain": [
              "<tf.Tensor: id=176796, shape=(262, 262), dtype=int32, numpy=\n",
              "array([[   0, 1060,    0, ...,    0,    0,    6],\n",
              "       [   0,    0,    0, ...,    0,    0,    0],\n",
              "       [   0,    0,    0, ...,    0,    0,    0],\n",
              "       ...,\n",
              "       [   0,    0,    0, ...,    0,    0,    0],\n",
              "       [   0,    0,    0, ...,    0,    0,    0],\n",
              "       [   0,    0,    0, ...,    0,    0,    0]], dtype=int32)>"
            ]
          },
          "metadata": {
            "tags": []
          },
          "execution_count": 24
        }
      ]
    },
    {
      "cell_type": "code",
      "metadata": {
        "colab_type": "code",
        "id": "152ycoqTOUak",
        "outputId": "53d67922-bc1b-46d9-b742-9bbc2a6aa05c",
        "colab": {
          "base_uri": "https://localhost:8080/",
          "height": 282
        }
      },
      "source": [
        "show_bad(model1, digit=3)"
      ],
      "execution_count": 25,
      "outputs": [
        {
          "output_type": "error",
          "ename": "ValueError",
          "evalue": "ignored",
          "traceback": [
            "\u001b[0;31m---------------------------------------------------------------------------\u001b[0m",
            "\u001b[0;31mValueError\u001b[0m                                Traceback (most recent call last)",
            "\u001b[0;32m<ipython-input-25-e8a8e82ee636>\u001b[0m in \u001b[0;36m<module>\u001b[0;34m()\u001b[0m\n\u001b[0;32m----> 1\u001b[0;31m \u001b[0mshow_bad\u001b[0m\u001b[0;34m(\u001b[0m\u001b[0mmodel1\u001b[0m\u001b[0;34m,\u001b[0m \u001b[0mdigit\u001b[0m\u001b[0;34m=\u001b[0m\u001b[0;36m3\u001b[0m\u001b[0;34m)\u001b[0m\u001b[0;34m\u001b[0m\u001b[0;34m\u001b[0m\u001b[0m\n\u001b[0m",
            "\u001b[0;32m<ipython-input-23-b793f16effa3>\u001b[0m in \u001b[0;36mshow_bad\u001b[0;34m(model, digit)\u001b[0m\n\u001b[1;32m      1\u001b[0m \u001b[0;32mdef\u001b[0m \u001b[0mshow_bad\u001b[0m\u001b[0;34m(\u001b[0m\u001b[0mmodel\u001b[0m\u001b[0;34m,\u001b[0m \u001b[0mdigit\u001b[0m\u001b[0;34m)\u001b[0m\u001b[0;34m:\u001b[0m\u001b[0;34m\u001b[0m\u001b[0;34m\u001b[0m\u001b[0m\n\u001b[1;32m      2\u001b[0m   \u001b[0mpredicted\u001b[0m \u001b[0;34m=\u001b[0m \u001b[0mmodel\u001b[0m\u001b[0;34m.\u001b[0m\u001b[0mpredict\u001b[0m\u001b[0;34m(\u001b[0m\u001b[0mx_train\u001b[0m\u001b[0;34m)\u001b[0m\u001b[0;34m\u001b[0m\u001b[0;34m\u001b[0m\u001b[0m\n\u001b[0;32m----> 3\u001b[0;31m   \u001b[0mresult\u001b[0m \u001b[0;34m=\u001b[0m \u001b[0mnp\u001b[0m\u001b[0;34m.\u001b[0m\u001b[0mabsolute\u001b[0m\u001b[0;34m(\u001b[0m\u001b[0my_train\u001b[0m\u001b[0;34m-\u001b[0m\u001b[0mpredicted\u001b[0m\u001b[0;34m)\u001b[0m\u001b[0;34m\u001b[0m\u001b[0;34m\u001b[0m\u001b[0m\n\u001b[0m\u001b[1;32m      4\u001b[0m   \u001b[0mfigure\u001b[0m \u001b[0;34m=\u001b[0m \u001b[0mpl\u001b[0m\u001b[0;34m.\u001b[0m\u001b[0mfigure\u001b[0m\u001b[0;34m(\u001b[0m\u001b[0mfigsize\u001b[0m\u001b[0;34m=\u001b[0m\u001b[0;34m(\u001b[0m\u001b[0;36m10\u001b[0m\u001b[0;34m,\u001b[0m\u001b[0;36m10\u001b[0m\u001b[0;34m)\u001b[0m\u001b[0;34m)\u001b[0m\u001b[0;34m\u001b[0m\u001b[0;34m\u001b[0m\u001b[0m\n\u001b[1;32m      5\u001b[0m   \u001b[0;32mfor\u001b[0m \u001b[0mi\u001b[0m \u001b[0;32min\u001b[0m \u001b[0mrange\u001b[0m\u001b[0;34m(\u001b[0m\u001b[0;36m9\u001b[0m\u001b[0;34m)\u001b[0m\u001b[0;34m:\u001b[0m\u001b[0;34m\u001b[0m\u001b[0;34m\u001b[0m\u001b[0m\n",
            "\u001b[0;31mValueError\u001b[0m: operands could not be broadcast together with shapes (60000,) (60000,280) "
          ]
        }
      ]
    },
    {
      "cell_type": "code",
      "metadata": {
        "colab_type": "code",
        "id": "63nv6kKQMoh1",
        "colab": {}
      },
      "source": [
        "confusion2 = confusion_matrix(model2)\n",
        "confusion2"
      ],
      "execution_count": 0,
      "outputs": []
    },
    {
      "cell_type": "code",
      "metadata": {
        "colab_type": "code",
        "id": "Enk6vJHAPc6Q",
        "colab": {}
      },
      "source": [
        "show_bad(model2, digit=3)"
      ],
      "execution_count": 0,
      "outputs": []
    },
    {
      "cell_type": "code",
      "metadata": {
        "colab_type": "code",
        "id": "mClrbxE3NQ-T",
        "colab": {}
      },
      "source": [
        "confusion3 = confusion_matrix(model3)\n",
        "confusion3"
      ],
      "execution_count": 0,
      "outputs": []
    },
    {
      "cell_type": "code",
      "metadata": {
        "colab_type": "code",
        "id": "WMzrcsqfPjGS",
        "colab": {}
      },
      "source": [
        "show_bad(model3, digit=3)"
      ],
      "execution_count": 0,
      "outputs": []
    },
    {
      "cell_type": "code",
      "metadata": {
        "colab_type": "code",
        "id": "zU0uEDPJNV6E",
        "colab": {}
      },
      "source": [
        "# Conclusion\n",
        "\n",
        "Draw your conclusions about the three models based on your observations of:\n",
        "\n",
        "- Test accuracies\n",
        "- Confusion matrices\n",
        "- The mistakes the three models make"
      ],
      "execution_count": 0,
      "outputs": []
    },
    {
      "cell_type": "markdown",
      "metadata": {
        "id": "IxFPFjdaKfiU",
        "colab_type": "text"
      },
      "source": [
        "## Your answer goes here\n",
        "\n",
        "Model accuracy was not well done. It needed more than 10 epoches for the accurancy to be better. \n",
        "Confusion Matric"
      ]
    },
    {
      "cell_type": "markdown",
      "metadata": {
        "id": "T5ESDEQ8KfiV",
        "colab_type": "text"
      },
      "source": [
        "---\n",
        "\n",
        "# Testing your work"
      ]
    },
    {
      "cell_type": "code",
      "metadata": {
        "id": "ijF1wC7ZKfiX",
        "colab_type": "code",
        "colab": {}
      },
      "source": [
        "# -------------------------------\n",
        "# training and test data shapes\n",
        "# -------------------------------\n",
        "assert(x_train.shape[1:] == (28, 28))\n",
        "assert(x_test.shape[1:] == (28, 28))\n",
        "assert(len(y_train.shape) == 1)\n",
        "assert(len(y_test.shape) == 1)\n",
        "\n",
        "# normalization\n",
        "assert(np.max(x_train) <= 1.)\n",
        "assert(np.max(x_test) <= 1.)"
      ],
      "execution_count": 0,
      "outputs": []
    },
    {
      "cell_type": "code",
      "metadata": {
        "id": "uVl8CFU5Kfid",
        "colab_type": "code",
        "colab": {}
      },
      "source": [
        "# model structure\n",
        "assert(len(model1.layers) == 5)\n",
        "expect = [((784, 10), (10,), tf.keras.activations.linear, Dense),\n",
        "          ((10, 10), (10,), tf.keras.activations.linear, Dense),\n",
        "          ((10, 10), (10,), tf.keras.activations.linear, Dense),\n",
        "          ((10, 10), (10,), tf.keras.activations.softmax, Dense),\n",
        "         ]\n",
        "for i in range(4):\n",
        "    layer = model1.layers[i+1]\n",
        "    assert(layer.get_weights()[0].shape == expect[i][0])\n",
        "    assert(layer.get_weights()[1].shape == expect[i][1])\n",
        "    assert(layer.activation == expect[i][2])\n",
        "    assert(isinstance(layer, expect[i][3]))"
      ],
      "execution_count": 0,
      "outputs": []
    },
    {
      "cell_type": "code",
      "metadata": {
        "id": "wRhM4ouAKfif",
        "colab_type": "code",
        "colab": {}
      },
      "source": [
        "# history of training\n",
        "assert(isinstance(history1, tf.keras.callbacks.History))\n",
        "assert('acc' in history1.history)\n",
        "assert('val_acc' in history1.history)\n",
        "\n",
        "# training\n",
        "acc = history1.history['acc']\n",
        "val_acc = history1.history['val_acc']\n",
        "assert(acc[0] < acc[-1])\n",
        "assert(acc[-1] > 0.9)\n",
        "assert(val_acc[-1] > 0.9)"
      ],
      "execution_count": 0,
      "outputs": []
    },
    {
      "cell_type": "code",
      "metadata": {
        "id": "PoYURuC1Kfih",
        "colab_type": "code",
        "colab": {}
      },
      "source": [
        "# test accuracy\n",
        "assert(acc_test1 > 0.9)"
      ],
      "execution_count": 0,
      "outputs": []
    },
    {
      "cell_type": "code",
      "metadata": {
        "id": "HuxIChK7Kfik",
        "colab_type": "code",
        "colab": {}
      },
      "source": [
        "# model structure\n",
        "assert(len(model1.layers) == 5)\n",
        "expect = [((784, 10), (10,), tf.keras.activations.relu, Dense),\n",
        "          ((10, 10), (10,), tf.keras.activations.relu, Dense),\n",
        "          ((10, 10), (10,), tf.keras.activations.relu, Dense),\n",
        "          ((10, 10), (10,), tf.keras.activations.softmax, Dense),\n",
        "         ]\n",
        "for i in range(4):\n",
        "    layer = model2.layers[i+1]\n",
        "    assert(layer.get_weights()[0].shape == expect[i][0])\n",
        "    assert(layer.get_weights()[1].shape == expect[i][1])\n",
        "    assert(layer.activation == expect[i][2])\n",
        "    assert(isinstance(layer, expect[i][3]))"
      ],
      "execution_count": 0,
      "outputs": []
    },
    {
      "cell_type": "code",
      "metadata": {
        "id": "RwnGc9goKfip",
        "colab_type": "code",
        "colab": {}
      },
      "source": [
        "# history of training\n",
        "assert(isinstance(history2, tf.keras.callbacks.History))\n",
        "assert('acc' in history2.history)\n",
        "assert('val_acc' in history2.history)\n",
        "\n",
        "# training\n",
        "acc = history2.history['acc']\n",
        "val_acc = history2.history['val_acc']\n",
        "assert(acc[0] < acc[-1])\n",
        "assert(acc[-1] > 0.9)\n",
        "assert(val_acc[-1] > 0.9)"
      ],
      "execution_count": 0,
      "outputs": []
    },
    {
      "cell_type": "code",
      "metadata": {
        "id": "IYxHoNM_Kfis",
        "colab_type": "code",
        "colab": {}
      },
      "source": [
        "# test accuracy\n",
        "assert(acc_test2 > 0.9)"
      ],
      "execution_count": 0,
      "outputs": []
    },
    {
      "cell_type": "code",
      "metadata": {
        "id": "LexFEyGxKfiu",
        "colab_type": "code",
        "colab": {}
      },
      "source": [
        "# model structure\n",
        "assert(len(model3.layers) == 5)\n",
        "layer = model3.layers[0]\n",
        "assert(isinstance(layer, Reshape))\n",
        "\n",
        "layer = model3.layers[1]\n",
        "assert(isinstance(layer, Conv2D))\n",
        "\n",
        "layer = model3.layers[2]\n",
        "assert(isinstance(layer, MaxPool2D))\n",
        "\n",
        "layer = model3.layers[3]\n",
        "assert(isinstance(layer, Reshape))\n",
        "\n",
        "layer = model3.layers[4]\n",
        "assert(isinstance(layer, Dense))\n",
        "assert(layer.activation == tf.keras.activations.softmax)"
      ],
      "execution_count": 0,
      "outputs": []
    },
    {
      "cell_type": "code",
      "metadata": {
        "id": "T1-Q_AkMKfiw",
        "colab_type": "code",
        "colab": {}
      },
      "source": [
        "# history of training\n",
        "assert(isinstance(history3, tf.keras.callbacks.History))\n",
        "assert('acc' in history3.history)\n",
        "assert('val_acc' in history3.history)\n",
        "\n",
        "# training\n",
        "acc = history3.history['acc']\n",
        "val_acc = history3.history['val_acc']\n",
        "assert(acc[0] < acc[-1])\n",
        "assert(acc[-1] > 0.95)\n",
        "assert(val_acc[-1] > 0.95)"
      ],
      "execution_count": 0,
      "outputs": []
    },
    {
      "cell_type": "code",
      "metadata": {
        "id": "RyLVdsbZKfiy",
        "colab_type": "code",
        "colab": {}
      },
      "source": [
        "# test accuracy\n",
        "assert(acc_test3 > 0.95)"
      ],
      "execution_count": 0,
      "outputs": []
    },
    {
      "cell_type": "code",
      "metadata": {
        "id": "SX40unK_Kfi3",
        "colab_type": "code",
        "outputId": "951987e5-55db-4e1f-e4b4-30228ecd402f",
        "colab": {
          "base_uri": "https://localhost:8080/",
          "height": 180
        }
      },
      "source": [
        "# confusion matrix\n",
        "assert(confusion1.shape == (10, 10))\n",
        "assert(np.sum(np.diag(confusion1)) == 0)"
      ],
      "execution_count": 70,
      "outputs": [
        {
          "output_type": "error",
          "ename": "AssertionError",
          "evalue": "ignored",
          "traceback": [
            "\u001b[0;31m---------------------------------------------------------------------------\u001b[0m",
            "\u001b[0;31mAssertionError\u001b[0m                            Traceback (most recent call last)",
            "\u001b[0;32m<ipython-input-70-54d912d8d8c8>\u001b[0m in \u001b[0;36m<module>\u001b[0;34m()\u001b[0m\n\u001b[0;32m----> 1\u001b[0;31m \u001b[0;32massert\u001b[0m\u001b[0;34m(\u001b[0m\u001b[0mconfusion1\u001b[0m\u001b[0;34m.\u001b[0m\u001b[0mshape\u001b[0m \u001b[0;34m==\u001b[0m \u001b[0;34m(\u001b[0m\u001b[0;36m10\u001b[0m\u001b[0;34m,\u001b[0m \u001b[0;36m10\u001b[0m\u001b[0;34m)\u001b[0m\u001b[0;34m)\u001b[0m\u001b[0;34m\u001b[0m\u001b[0;34m\u001b[0m\u001b[0m\n\u001b[0m\u001b[1;32m      2\u001b[0m \u001b[0;32massert\u001b[0m\u001b[0;34m(\u001b[0m\u001b[0mnp\u001b[0m\u001b[0;34m.\u001b[0m\u001b[0msum\u001b[0m\u001b[0;34m(\u001b[0m\u001b[0mnp\u001b[0m\u001b[0;34m.\u001b[0m\u001b[0mdiag\u001b[0m\u001b[0;34m(\u001b[0m\u001b[0mconfusion1\u001b[0m\u001b[0;34m)\u001b[0m\u001b[0;34m)\u001b[0m \u001b[0;34m==\u001b[0m \u001b[0;36m0\u001b[0m\u001b[0;34m)\u001b[0m\u001b[0;34m\u001b[0m\u001b[0;34m\u001b[0m\u001b[0m\n",
            "\u001b[0;31mAssertionError\u001b[0m: "
          ]
        }
      ]
    },
    {
      "cell_type": "code",
      "metadata": {
        "id": "EpKBylp7Kfi5",
        "colab_type": "code",
        "colab": {}
      },
      "source": [
        "# confusion matrix\n",
        "assert(confusion2.shape == (10, 10))\n",
        "assert(np.sum(np.diag(confusion2)) == 0)"
      ],
      "execution_count": 0,
      "outputs": []
    },
    {
      "cell_type": "code",
      "metadata": {
        "id": "fbWBFGspKfi8",
        "colab_type": "code",
        "colab": {}
      },
      "source": [
        "# confusion matrix\n",
        "assert(confusion3.shape == (10, 10))\n",
        "assert(np.sum(np.diag(confusion3)) == 0)"
      ],
      "execution_count": 0,
      "outputs": []
    }
  ]
}