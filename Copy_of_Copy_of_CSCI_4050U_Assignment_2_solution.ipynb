{
  "nbformat": 4,
  "nbformat_minor": 0,
  "metadata": {
    "colab": {
      "name": "Copy of Copy of CSCI 4050U Assignment 2 - solution.ipynb",
      "provenance": [],
      "collapsed_sections": [],
      "include_colab_link": true
    },
    "kernelspec": {
      "name": "python3",
      "display_name": "Python 3"
    },
    "accelerator": "GPU"
  },
  "cells": [
    {
      "cell_type": "markdown",
      "metadata": {
        "id": "view-in-github",
        "colab_type": "text"
      },
      "source": [
        "<a href=\"https://colab.research.google.com/github/sunujoseph/CSCI4050ML/blob/master/Copy_of_Copy_of_CSCI_4050U_Assignment_2_solution.ipynb\" target=\"_parent\"><img src=\"https://colab.research.google.com/assets/colab-badge.svg\" alt=\"Open In Colab\"/></a>"
      ]
    },
    {
      "cell_type": "code",
      "metadata": {
        "id": "cnccFKgmNtZ4",
        "colab": {
          "base_uri": "https://localhost:8080/",
          "height": 34
        },
        "outputId": "cec0776e-077a-404a-9706-1289083caf18"
      },
      "source": [
        "%tensorflow_version 2.x"
      ],
      "execution_count": null,
      "outputs": [
        {
          "output_type": "stream",
          "text": [
            "TensorFlow 2.x selected.\n"
          ],
          "name": "stdout"
        }
      ]
    },
    {
      "cell_type": "code",
      "metadata": {
        "id": "HWnEvVblNzXt"
      },
      "source": [
        "import tensorflow as tf\n",
        "import matplotlib.pyplot as pl\n",
        "import numpy as np\n",
        "from tensorflow.keras.models import Sequential\n",
        "from tensorflow.keras.layers import Input, Reshape, Flatten, Dense, Conv2D, MaxPool2D\n",
        "from tensorflow.keras.losses import sparse_categorical_crossentropy\n",
        "from tensorflow.keras.optimizers import Adam\n",
        "\n",
        "np.set_printoptions(suppress=True, precision=2)"
      ],
      "execution_count": null,
      "outputs": []
    },
    {
      "cell_type": "code",
      "metadata": {
        "id": "SbKrnQRWQ1Cq",
        "colab": {
          "base_uri": "https://localhost:8080/",
          "height": 51
        },
        "outputId": "718c3658-22c0-4f5e-e148-04f292a88203"
      },
      "source": [
        "(x_train, y_train), (x_test, y_test) = tf.keras.datasets.mnist.load_data()"
      ],
      "execution_count": null,
      "outputs": [
        {
          "output_type": "stream",
          "text": [
            "Downloading data from https://storage.googleapis.com/tensorflow/tf-keras-datasets/mnist.npz\n",
            "11493376/11490434 [==============================] - 0s 0us/step\n"
          ],
          "name": "stdout"
        }
      ]
    },
    {
      "cell_type": "code",
      "metadata": {
        "id": "4fZqwOY2SRPI"
      },
      "source": [
        "x_train = x_train / 255.\n",
        "x_test = x_test / 255."
      ],
      "execution_count": null,
      "outputs": []
    },
    {
      "cell_type": "code",
      "metadata": {
        "id": "6uGA0_-jSZiw",
        "colab": {
          "base_uri": "https://localhost:8080/",
          "height": 210
        },
        "outputId": "bc1983ed-f87f-4128-c53f-5d72dc4624df"
      },
      "source": [
        "pl.figure(figsize=(10, 5))\n",
        "for i in range(10):\n",
        "  pl.subplot(3, 5, i+1)\n",
        "  k = np.where(y_train == i)[0][0]\n",
        "  pl.imshow(x_train[k], cmap='gray')\n",
        "  pl.xticks([])\n",
        "  pl.yticks([])"
      ],
      "execution_count": null,
      "outputs": [
        {
          "output_type": "display_data",
          "data": {
            "image/png": "[encoded data removed]",
            "text/plain": [
              "<Figure size 720x360 with 10 Axes>"
            ]
          },
          "metadata": {
            "tags": []
          }
        }
      ]
    },
    {
      "cell_type": "markdown",
      "metadata": {
        "id": "C5EaV3aESpTu"
      },
      "source": [
        "# Multilayer Perceptron"
      ]
    },
    {
      "cell_type": "code",
      "metadata": {
        "id": "IarU5N0ATSa_"
      },
      "source": [
        "model1 = Sequential([\n",
        "  Input(shape=(28, 28)),\n",
        "  Reshape((28*28,)),\n",
        "  Dense(10),\n",
        "  Dense(10),\n",
        "  Dense(10),\n",
        "  Dense(10, activation='softmax')\n",
        "])"
      ],
      "execution_count": null,
      "outputs": []
    },
    {
      "cell_type": "code",
      "metadata": {
        "id": "SAk9C28_WABS"
      },
      "source": [
        "model1.compile(loss=sparse_categorical_crossentropy, optimizer=Adam(0.001), metrics=['acc'])"
      ],
      "execution_count": null,
      "outputs": []
    },
    {
      "cell_type": "code",
      "metadata": {
        "id": "L0kpdeyHWOTN",
        "colab": {
          "base_uri": "https://localhost:8080/",
          "height": 323
        },
        "outputId": "83c205ca-079e-4765-af61-91189a73641f"
      },
      "source": [
        "model1.summary()"
      ],
      "execution_count": null,
      "outputs": [
        {
          "output_type": "stream",
          "text": [
            "Model: \"sequential\"\n",
            "_________________________________________________________________\n",
            "Layer (type)                 Output Shape              Param #   \n",
            "=================================================================\n",
            "reshape (Reshape)            (None, 784)               0         \n",
            "_________________________________________________________________\n",
            "dense (Dense)                (None, 10)                7850      \n",
            "_________________________________________________________________\n",
            "dense_1 (Dense)              (None, 10)                110       \n",
            "_________________________________________________________________\n",
            "dense_2 (Dense)              (None, 10)                110       \n",
            "_________________________________________________________________\n",
            "dense_3 (Dense)              (None, 10)                110       \n",
            "=================================================================\n",
            "Total params: 8,180\n",
            "Trainable params: 8,180\n",
            "Non-trainable params: 0\n",
            "_________________________________________________________________\n"
          ],
          "name": "stdout"
        }
      ]
    },
    {
      "cell_type": "code",
      "metadata": {
        "id": "xMwxY-79WbG6",
        "colab": {
          "base_uri": "https://localhost:8080/",
          "height": 374
        },
        "outputId": "46a33655-bc49-4784-9c6a-3ad3fa5ef779"
      },
      "source": [
        "history1 = model1.fit(x_train, y_train, epochs=10, validation_split=0.1).history"
      ],
      "execution_count": null,
      "outputs": [
        {
          "output_type": "stream",
          "text": [
            "Train on 54000 samples, validate on 6000 samples\n",
            "Epoch 1/10\n",
            "54000/54000 [==============================] - 9s 159us/sample - loss: 0.5353 - acc: 0.8430 - val_loss: 0.3360 - val_acc: 0.9060\n",
            "Epoch 2/10\n",
            "54000/54000 [==============================] - 6s 118us/sample - loss: 0.3629 - acc: 0.8973 - val_loss: 0.2748 - val_acc: 0.9218\n",
            "Epoch 3/10\n",
            "54000/54000 [==============================] - 6s 114us/sample - loss: 0.3181 - acc: 0.9102 - val_loss: 0.2559 - val_acc: 0.9263\n",
            "Epoch 4/10\n",
            "54000/54000 [==============================] - 6s 112us/sample - loss: 0.3055 - acc: 0.9151 - val_loss: 0.2490 - val_acc: 0.9307\n",
            "Epoch 5/10\n",
            "54000/54000 [==============================] - 6s 113us/sample - loss: 0.2974 - acc: 0.9174 - val_loss: 0.2486 - val_acc: 0.9265\n",
            "Epoch 6/10\n",
            "54000/54000 [==============================] - 6s 114us/sample - loss: 0.2898 - acc: 0.9191 - val_loss: 0.2429 - val_acc: 0.9325\n",
            "Epoch 7/10\n",
            "54000/54000 [==============================] - 6s 113us/sample - loss: 0.2830 - acc: 0.9205 - val_loss: 0.2405 - val_acc: 0.9333\n",
            "Epoch 8/10\n",
            "54000/54000 [==============================] - 6s 112us/sample - loss: 0.2787 - acc: 0.9213 - val_loss: 0.2418 - val_acc: 0.9300\n",
            "Epoch 9/10\n",
            "54000/54000 [==============================] - 6s 113us/sample - loss: 0.2764 - acc: 0.9215 - val_loss: 0.2405 - val_acc: 0.9317\n",
            "Epoch 10/10\n",
            "54000/54000 [==============================] - 6s 112us/sample - loss: 0.2723 - acc: 0.9228 - val_loss: 0.2443 - val_acc: 0.9320\n"
          ],
          "name": "stdout"
        }
      ]
    },
    {
      "cell_type": "code",
      "metadata": {
        "id": "nWDuv0QVXaMZ",
        "colab": {
          "base_uri": "https://localhost:8080/",
          "height": 265
        },
        "outputId": "65ce8191-bde8-4c7c-92b4-1ac334f8ed3e"
      },
      "source": [
        "pl.plot(history1['acc'], '-*', color='blue');\n",
        "pl.plot(history1['val_acc'], '-', color='red');\n",
        "pl.legend(['Accuracy', 'Cross Validation Accuracy']);"
      ],
      "execution_count": null,
      "outputs": [
        {
          "output_type": "display_data",
          "data": {
            "image/png": "[encoded data removed]",
            "text/plain": [
              "<Figure size 432x288 with 1 Axes>"
            ]
          },
          "metadata": {
            "tags": []
          }
        }
      ]
    },
    {
      "cell_type": "code",
      "metadata": {
        "id": "armpaekBCr1P",
        "colab": {
          "base_uri": "https://localhost:8080/",
          "height": 51
        },
        "outputId": "5c2b7cb7-4552-47b2-e655-6a602e731cd1"
      },
      "source": [
        "model1.evaluate(x_test, y_test)"
      ],
      "execution_count": null,
      "outputs": [
        {
          "output_type": "stream",
          "text": [
            "10000/10000 [==============================] - 1s 78us/sample - loss: 0.2889 - acc: 0.9177\n"
          ],
          "name": "stdout"
        },
        {
          "output_type": "execute_result",
          "data": {
            "text/plain": [
              "[0.2888865422576666, 0.9177]"
            ]
          },
          "metadata": {
            "tags": []
          },
          "execution_count": 11
        }
      ]
    },
    {
      "cell_type": "markdown",
      "metadata": {
        "id": "O2_BmBhL9iKE"
      },
      "source": [
        "# MLP with non-linear activation"
      ]
    },
    {
      "cell_type": "code",
      "metadata": {
        "id": "PDCB3tlWYWAG"
      },
      "source": [
        "model2 = Sequential([\n",
        "  Input(shape=(28, 28)),\n",
        "  Reshape((28*28,)),\n",
        "  Dense(10, activation='relu'),\n",
        "  Dense(10, activation='relu'),\n",
        "  Dense(10, activation='relu'),\n",
        "  Dense(10, activation='softmax')\n",
        "])\n",
        "model2.compile(loss=sparse_categorical_crossentropy,\n",
        "               optimizer=Adam(0.001),\n",
        "               metrics=['acc'])"
      ],
      "execution_count": null,
      "outputs": []
    },
    {
      "cell_type": "code",
      "metadata": {
        "id": "h-YJNhZE9p6M",
        "colab": {
          "base_uri": "https://localhost:8080/",
          "height": 323
        },
        "outputId": "4acd5747-8c8f-433f-cef4-a2928482312b"
      },
      "source": [
        "model2.summary()"
      ],
      "execution_count": null,
      "outputs": [
        {
          "output_type": "stream",
          "text": [
            "Model: \"sequential_1\"\n",
            "_________________________________________________________________\n",
            "Layer (type)                 Output Shape              Param #   \n",
            "=================================================================\n",
            "reshape_1 (Reshape)          (None, 784)               0         \n",
            "_________________________________________________________________\n",
            "dense_4 (Dense)              (None, 10)                7850      \n",
            "_________________________________________________________________\n",
            "dense_5 (Dense)              (None, 10)                110       \n",
            "_________________________________________________________________\n",
            "dense_6 (Dense)              (None, 10)                110       \n",
            "_________________________________________________________________\n",
            "dense_7 (Dense)              (None, 10)                110       \n",
            "=================================================================\n",
            "Total params: 8,180\n",
            "Trainable params: 8,180\n",
            "Non-trainable params: 0\n",
            "_________________________________________________________________\n"
          ],
          "name": "stdout"
        }
      ]
    },
    {
      "cell_type": "code",
      "metadata": {
        "id": "b51NBoQibFy-",
        "colab": {
          "base_uri": "https://localhost:8080/",
          "height": 374
        },
        "outputId": "84f1442f-bf0d-4c40-85c4-67d6712b8203"
      },
      "source": [
        "history2 = model2.fit(x_train, y_train, epochs=10, validation_split=0.1).history"
      ],
      "execution_count": null,
      "outputs": [
        {
          "output_type": "stream",
          "text": [
            "Train on 54000 samples, validate on 6000 samples\n",
            "Epoch 1/10\n",
            "54000/54000 [==============================] - 7s 124us/sample - loss: 0.6682 - acc: 0.7859 - val_loss: 0.3128 - val_acc: 0.9078\n",
            "Epoch 2/10\n",
            "54000/54000 [==============================] - 6s 116us/sample - loss: 0.3367 - acc: 0.9010 - val_loss: 0.2584 - val_acc: 0.9232\n",
            "Epoch 3/10\n",
            "54000/54000 [==============================] - 6s 114us/sample - loss: 0.2855 - acc: 0.9161 - val_loss: 0.2250 - val_acc: 0.9350\n",
            "Epoch 4/10\n",
            "54000/54000 [==============================] - 6s 115us/sample - loss: 0.2547 - acc: 0.9272 - val_loss: 0.2101 - val_acc: 0.9395\n",
            "Epoch 5/10\n",
            "54000/54000 [==============================] - 6s 115us/sample - loss: 0.2392 - acc: 0.9311 - val_loss: 0.1971 - val_acc: 0.9445\n",
            "Epoch 6/10\n",
            "54000/54000 [==============================] - 6s 116us/sample - loss: 0.2271 - acc: 0.9337 - val_loss: 0.1876 - val_acc: 0.9473\n",
            "Epoch 7/10\n",
            "54000/54000 [==============================] - 6s 115us/sample - loss: 0.2176 - acc: 0.9370 - val_loss: 0.1872 - val_acc: 0.9460\n",
            "Epoch 8/10\n",
            "54000/54000 [==============================] - 6s 116us/sample - loss: 0.2124 - acc: 0.9373 - val_loss: 0.1821 - val_acc: 0.9475\n",
            "Epoch 9/10\n",
            "54000/54000 [==============================] - 6s 115us/sample - loss: 0.2063 - acc: 0.9404 - val_loss: 0.1827 - val_acc: 0.9487\n",
            "Epoch 10/10\n",
            "54000/54000 [==============================] - 6s 119us/sample - loss: 0.2009 - acc: 0.9411 - val_loss: 0.1758 - val_acc: 0.9492\n"
          ],
          "name": "stdout"
        }
      ]
    },
    {
      "cell_type": "code",
      "metadata": {
        "id": "D-mantMkbOWs",
        "colab": {
          "base_uri": "https://localhost:8080/",
          "height": 265
        },
        "outputId": "edc00d41-9b46-4bab-9e73-7162f80f9cb7"
      },
      "source": [
        "pl.subplot(2,1,1)\n",
        "pl.plot(history2['acc'], '-*', color='blue');\n",
        "pl.subplot(2,1,2)\n",
        "pl.plot(history2['val_acc'], '-', color='red');\n",
        "# pl.legend(['Accuracy', 'Cross Validation Accuracy']);"
      ],
      "execution_count": null,
      "outputs": [
        {
          "output_type": "display_data",
          "data": {
            "image/png": "[encoded data removed]",
            "text/plain": [
              "<Figure size 432x288 with 2 Axes>"
            ]
          },
          "metadata": {
            "tags": []
          }
        }
      ]
    },
    {
      "cell_type": "code",
      "metadata": {
        "id": "tf-2t6K5Cjw6",
        "colab": {
          "base_uri": "https://localhost:8080/",
          "height": 51
        },
        "outputId": "e8619c2b-3b5a-4e46-b13c-d3dc9b34aab0"
      },
      "source": [
        "model2.evaluate(x_test, y_test)"
      ],
      "execution_count": null,
      "outputs": [
        {
          "output_type": "stream",
          "text": [
            "10000/10000 [==============================] - 1s 87us/sample - loss: 0.2067 - acc: 0.9406\n"
          ],
          "name": "stdout"
        },
        {
          "output_type": "execute_result",
          "data": {
            "text/plain": [
              "[0.20672717925161124, 0.9406]"
            ]
          },
          "metadata": {
            "tags": []
          },
          "execution_count": 16
        }
      ]
    },
    {
      "cell_type": "markdown",
      "metadata": {
        "id": "nfM1x20rbl47"
      },
      "source": [
        "# Convolutional Networks"
      ]
    },
    {
      "cell_type": "code",
      "metadata": {
        "id": "4ATML4ti_e5H",
        "colab": {
          "base_uri": "https://localhost:8080/",
          "height": 323
        },
        "outputId": "bed8dab1-9e41-4139-b097-7dfc6a6f8a04"
      },
      "source": [
        "model3 = Sequential([\n",
        "  Input((28, 28)),\n",
        "  Reshape((28, 28, 1)),\n",
        "  Conv2D(32, (3,3)),\n",
        "  MaxPool2D((2,2)),\n",
        "  Reshape((13*13*32,)),\n",
        "  Dense(10, activation='softmax')\n",
        "])\n",
        "model3.compile(loss=sparse_categorical_crossentropy,\n",
        "               optimizer=Adam(0.001),\n",
        "               metrics=['acc'])\n",
        "model3.summary()"
      ],
      "execution_count": null,
      "outputs": [
        {
          "output_type": "stream",
          "text": [
            "Model: \"sequential_2\"\n",
            "_________________________________________________________________\n",
            "Layer (type)                 Output Shape              Param #   \n",
            "=================================================================\n",
            "reshape_2 (Reshape)          (None, 28, 28, 1)         0         \n",
            "_________________________________________________________________\n",
            "conv2d (Conv2D)              (None, 26, 26, 32)        320       \n",
            "_________________________________________________________________\n",
            "max_pooling2d (MaxPooling2D) (None, 13, 13, 32)        0         \n",
            "_________________________________________________________________\n",
            "reshape_3 (Reshape)          (None, 5408)              0         \n",
            "_________________________________________________________________\n",
            "dense_8 (Dense)              (None, 10)                54090     \n",
            "=================================================================\n",
            "Total params: 54,410\n",
            "Trainable params: 54,410\n",
            "Non-trainable params: 0\n",
            "_________________________________________________________________\n"
          ],
          "name": "stdout"
        }
      ]
    },
    {
      "cell_type": "code",
      "metadata": {
        "id": "u1OAAp6lBZNJ",
        "colab": {
          "base_uri": "https://localhost:8080/",
          "height": 374
        },
        "outputId": "6fd2b8e3-c12b-4441-be89-c85c2b920458"
      },
      "source": [
        "history3 = model3.fit(x_train, y_train, epochs=10, validation_split=0.1).history"
      ],
      "execution_count": null,
      "outputs": [
        {
          "output_type": "stream",
          "text": [
            "Train on 54000 samples, validate on 6000 samples\n",
            "Epoch 1/10\n",
            "54000/54000 [==============================] - 11s 207us/sample - loss: 0.2793 - acc: 0.9208 - val_loss: 0.1216 - val_acc: 0.9675\n",
            "Epoch 2/10\n",
            "54000/54000 [==============================] - 6s 116us/sample - loss: 0.1227 - acc: 0.9656 - val_loss: 0.0843 - val_acc: 0.9783\n",
            "Epoch 3/10\n",
            "54000/54000 [==============================] - 6s 116us/sample - loss: 0.0907 - acc: 0.9732 - val_loss: 0.0842 - val_acc: 0.9755\n",
            "Epoch 4/10\n",
            "54000/54000 [==============================] - 6s 117us/sample - loss: 0.0747 - acc: 0.9772 - val_loss: 0.0691 - val_acc: 0.9813\n",
            "Epoch 5/10\n",
            "54000/54000 [==============================] - 6s 117us/sample - loss: 0.0620 - acc: 0.9814 - val_loss: 0.0787 - val_acc: 0.9777\n",
            "Epoch 6/10\n",
            "54000/54000 [==============================] - 7s 121us/sample - loss: 0.0556 - acc: 0.9830 - val_loss: 0.0690 - val_acc: 0.9810\n",
            "Epoch 7/10\n",
            "54000/54000 [==============================] - 7s 121us/sample - loss: 0.0481 - acc: 0.9850 - val_loss: 0.0628 - val_acc: 0.9827\n",
            "Epoch 8/10\n",
            "54000/54000 [==============================] - 6s 115us/sample - loss: 0.0432 - acc: 0.9867 - val_loss: 0.0619 - val_acc: 0.9818\n",
            "Epoch 9/10\n",
            "54000/54000 [==============================] - 6s 115us/sample - loss: 0.0383 - acc: 0.9875 - val_loss: 0.0673 - val_acc: 0.9807\n",
            "Epoch 10/10\n",
            "54000/54000 [==============================] - 6s 115us/sample - loss: 0.0345 - acc: 0.9888 - val_loss: 0.0757 - val_acc: 0.9808\n"
          ],
          "name": "stdout"
        }
      ]
    },
    {
      "cell_type": "code",
      "metadata": {
        "id": "FFY_CTD-BoOg",
        "colab": {
          "base_uri": "https://localhost:8080/",
          "height": 265
        },
        "outputId": "aa4bbef9-4c07-46c0-b5b6-d03ccab0f5ec"
      },
      "source": [
        "pl.subplot(2,1,1)\n",
        "pl.plot(history3['acc'], '-*', color='blue');\n",
        "pl.subplot(2,1,2)\n",
        "pl.plot(history3['val_acc'], '-', color='red');\n",
        "# pl.legend(['Accuracy', 'Cross Validation Accuracy']);"
      ],
      "execution_count": null,
      "outputs": [
        {
          "output_type": "display_data",
          "data": {
            "image/png": "[encoded data removed]",
            "text/plain": [
              "<Figure size 432x288 with 2 Axes>"
            ]
          },
          "metadata": {
            "tags": []
          }
        }
      ]
    },
    {
      "cell_type": "code",
      "metadata": {
        "id": "FXdl6RC1CWmZ",
        "colab": {
          "base_uri": "https://localhost:8080/",
          "height": 51
        },
        "outputId": "158001d1-e25c-4888-c89d-55b59e2d1e04"
      },
      "source": [
        "model3.evaluate(x_test, y_test)"
      ],
      "execution_count": null,
      "outputs": [
        {
          "output_type": "stream",
          "text": [
            "10000/10000 [==============================] - 1s 82us/sample - loss: 0.0841 - acc: 0.9746\n"
          ],
          "name": "stdout"
        },
        {
          "output_type": "execute_result",
          "data": {
            "text/plain": [
              "[0.08406690261415206, 0.9746]"
            ]
          },
          "metadata": {
            "tags": []
          },
          "execution_count": 20
        }
      ]
    },
    {
      "cell_type": "markdown",
      "metadata": {
        "id": "gJ6bRpWWCfBR"
      },
      "source": [
        "# Comparative study"
      ]
    },
    {
      "cell_type": "code",
      "metadata": {
        "id": "FlPzzJCkGLMH"
      },
      "source": [
        "z1 = np.argmax(model1.predict(x_test), axis=1)\n",
        "z2 = np.argmax(model2.predict(x_test), axis=1)\n",
        "z3 = np.argmax(model3.predict(x_test), axis=1)"
      ],
      "execution_count": null,
      "outputs": []
    },
    {
      "cell_type": "code",
      "metadata": {
        "id": "0DI5kQHUGYa2",
        "colab": {
          "base_uri": "https://localhost:8080/",
          "height": 34
        },
        "outputId": "599bd035-7438-4f5e-a08a-fdd14ed42839"
      },
      "source": [
        "np.sum(np.logical_and(z1 == y_test, z2 != y_test)) / len(z1)"
      ],
      "execution_count": null,
      "outputs": [
        {
          "output_type": "execute_result",
          "data": {
            "text/plain": [
              "0.0182"
            ]
          },
          "metadata": {
            "tags": []
          },
          "execution_count": 22
        }
      ]
    },
    {
      "cell_type": "code",
      "metadata": {
        "id": "_GpSNiV5GeMe"
      },
      "source": [
        "def accuracy_by_digits(model):\n",
        "  z = np.argmax(model.predict(x_test), axis=1)\n",
        "  for i in range(10):\n",
        "    correct = np.sum(np.logical_and(z == y_test, y_test == i))\n",
        "    total = np.sum(y_test == i)\n",
        "    print(\"[%d]: %.4f\" % (i, correct/total))"
      ],
      "execution_count": null,
      "outputs": []
    },
    {
      "cell_type": "code",
      "metadata": {
        "id": "hngGtDfGJPLG"
      },
      "source": [
        "def confusion_matrix(model):\n",
        "  z = np.argmax(model.predict(x_test), axis=1)\n",
        "  confusion = np.zeros((10, 10))\n",
        "  for i in range(10):\n",
        "    for j in range(10):\n",
        "      if i == j:\n",
        "        ij = 0\n",
        "      else:\n",
        "        ij = np.sum(np.logical_and(y_test == i, z == j))\n",
        "      confusion[i][j] = ij\n",
        "  return confusion.astype('int')"
      ],
      "execution_count": null,
      "outputs": []
    },
    {
      "cell_type": "code",
      "metadata": {
        "id": "h0jzgNuWOW5M"
      },
      "source": [
        "def plot_bad(model, digit):\n",
        "  z = np.argmax(model.predict(x_test), axis=1)\n",
        "  I = np.logical_and(y_test == digit, z != digit)\n",
        "  for i in range(9):\n",
        "    pl.subplot(3,3,i+1)\n",
        "    pl.imshow(x_test[I][i])"
      ],
      "execution_count": null,
      "outputs": []
    },
    {
      "cell_type": "code",
      "metadata": {
        "id": "makVdoiVQFAz"
      },
      "source": [
        "def worst_digit(confusion):\n",
        "  err = np.sum(confusion, axis=1)\n",
        "  i = np.argmax(err)\n",
        "  return i, err[i]"
      ],
      "execution_count": null,
      "outputs": []
    },
    {
      "cell_type": "code",
      "metadata": {
        "id": "-9OLISXqKLu_",
        "colab": {
          "base_uri": "https://localhost:8080/",
          "height": 187
        },
        "outputId": "d06683e7-2675-4d4b-9ca1-45f9746ddfc3"
      },
      "source": [
        "confusion1 = confusion_matrix(model1)\n",
        "confusion1"
      ],
      "execution_count": null,
      "outputs": [
        {
          "output_type": "execute_result",
          "data": {
            "text/plain": [
              "array([[ 0,  0,  1,  1,  1,  7,  6,  6,  1,  1],\n",
              "       [ 0,  0,  5,  2,  0,  3,  1,  2,  7,  0],\n",
              "       [ 9, 14,  0, 17,  4,  3, 11, 12, 27,  8],\n",
              "       [ 3,  2, 24,  0,  3, 22,  0,  9, 12, 11],\n",
              "       [ 2,  7,  6,  1,  0,  0, 16,  6, 10, 69],\n",
              "       [13,  2,  6, 34,  4,  0,  7, 13, 30, 11],\n",
              "       [13,  4, 17,  0,  6, 18,  0,  1,  2,  0],\n",
              "       [ 1,  9, 20,  8,  3,  1,  0,  0,  0, 51],\n",
              "       [ 7, 14, 10, 32,  8, 27,  6, 10,  0, 19],\n",
              "       [ 9,  8,  0, 11,  9,  5,  0, 19,  3,  0]])"
            ]
          },
          "metadata": {
            "tags": []
          },
          "execution_count": 27
        }
      ]
    },
    {
      "cell_type": "code",
      "metadata": {
        "id": "2a0RUhqwQmA1",
        "colab": {
          "base_uri": "https://localhost:8080/",
          "height": 34
        },
        "outputId": "b6f09f4d-4bfe-48ab-a7c8-26ad752dbb3d"
      },
      "source": [
        "worst_digit(confusion1)"
      ],
      "execution_count": null,
      "outputs": [
        {
          "output_type": "execute_result",
          "data": {
            "text/plain": [
              "(8, 133)"
            ]
          },
          "metadata": {
            "tags": []
          },
          "execution_count": 28
        }
      ]
    },
    {
      "cell_type": "code",
      "metadata": {
        "id": "152ycoqTOUak",
        "colab": {
          "base_uri": "https://localhost:8080/",
          "height": 268
        },
        "outputId": "a6a453bf-4dbc-4ab3-8383-557f308db0b8"
      },
      "source": [
        "plot_bad(model1, digit=3)"
      ],
      "execution_count": null,
      "outputs": [
        {
          "output_type": "display_data",
          "data": {
            "image/png": "[encoded data removed]",
            "text/plain": [
              "<Figure size 432x288 with 9 Axes>"
            ]
          },
          "metadata": {
            "tags": []
          }
        }
      ]
    },
    {
      "cell_type": "code",
      "metadata": {
        "id": "63nv6kKQMoh1",
        "colab": {
          "base_uri": "https://localhost:8080/",
          "height": 187
        },
        "outputId": "c97808f9-00d3-42ef-f329-46680a78602f"
      },
      "source": [
        "confusion2 = confusion_matrix(model2)\n",
        "confusion2"
      ],
      "execution_count": null,
      "outputs": [
        {
          "output_type": "execute_result",
          "data": {
            "text/plain": [
              "array([[ 0,  0,  0,  2,  1, 10,  3,  4,  2,  1],\n",
              "       [ 0,  0,  4,  1,  0,  1,  3,  1,  5,  0],\n",
              "       [ 7,  5,  0,  6,  9,  1,  3, 14,  7,  1],\n",
              "       [ 3,  3, 30,  0,  1, 18,  1, 17, 22,  3],\n",
              "       [ 1,  1,  4,  0,  0,  2,  8,  3,  5, 26],\n",
              "       [11,  4,  0, 10,  4,  0, 11,  2, 12,  6],\n",
              "       [14,  3,  7,  0, 10, 20,  0,  1,  5,  0],\n",
              "       [ 1,  8, 18,  3,  6,  1,  0,  0,  2, 12],\n",
              "       [12,  8,  7, 12,  9, 19, 10, 10,  0, 13],\n",
              "       [10,  4,  1,  9, 31,  9,  0, 12,  8,  0]])"
            ]
          },
          "metadata": {
            "tags": []
          },
          "execution_count": 30
        }
      ]
    },
    {
      "cell_type": "code",
      "metadata": {
        "id": "cPkN55TcQ4KM",
        "colab": {
          "base_uri": "https://localhost:8080/",
          "height": 34
        },
        "outputId": "aba72e8a-6833-4984-eda5-783e3098dfe2"
      },
      "source": [
        "worst_digit(confusion2)"
      ],
      "execution_count": null,
      "outputs": [
        {
          "output_type": "execute_result",
          "data": {
            "text/plain": [
              "(8, 100)"
            ]
          },
          "metadata": {
            "tags": []
          },
          "execution_count": 31
        }
      ]
    },
    {
      "cell_type": "code",
      "metadata": {
        "id": "Enk6vJHAPc6Q",
        "colab": {
          "base_uri": "https://localhost:8080/",
          "height": 268
        },
        "outputId": "fdfef87e-a998-48e7-f1bc-be612f146fc3"
      },
      "source": [
        "plot_bad(model2, digit=3)"
      ],
      "execution_count": null,
      "outputs": [
        {
          "output_type": "display_data",
          "data": {
            "image/png": "[encoded data removed]",
            "text/plain": [
              "<Figure size 432x288 with 9 Axes>"
            ]
          },
          "metadata": {
            "tags": []
          }
        }
      ]
    },
    {
      "cell_type": "code",
      "metadata": {
        "id": "mClrbxE3NQ-T",
        "colab": {
          "base_uri": "https://localhost:8080/",
          "height": 187
        },
        "outputId": "bd336bb5-ecd1-4f52-940d-35224e0541f5"
      },
      "source": [
        "confusion3 = confusion_matrix(model3)\n",
        "confusion3"
      ],
      "execution_count": null,
      "outputs": [
        {
          "output_type": "execute_result",
          "data": {
            "text/plain": [
              "array([[ 0,  0,  1,  0,  1,  1,  7,  2,  3,  0],\n",
              "       [ 0,  0,  1,  1,  2,  1,  2,  1,  0,  0],\n",
              "       [ 4,  1,  0,  1, 11,  0,  3,  5,  8,  1],\n",
              "       [ 1,  0,  3,  0,  0,  2,  3,  4,  8,  1],\n",
              "       [ 1,  0,  1,  0,  0,  0,  3,  0,  0,  5],\n",
              "       [ 3,  0,  1, 10,  1,  0, 18,  1,  6,  2],\n",
              "       [ 7,  2,  2,  0,  3,  2,  0,  0,  0,  0],\n",
              "       [ 0,  6,  9,  1,  8,  0,  0,  0,  1, 10],\n",
              "       [ 7,  0,  3,  1,  5,  1,  6,  3,  0,  2],\n",
              "       [ 6,  0,  0,  3, 15,  5,  0,  6,  9,  0]])"
            ]
          },
          "metadata": {
            "tags": []
          },
          "execution_count": 33
        }
      ]
    },
    {
      "cell_type": "code",
      "metadata": {
        "id": "tBwnYYfARXaZ",
        "colab": {
          "base_uri": "https://localhost:8080/",
          "height": 34
        },
        "outputId": "86d63fa5-2ac0-4a74-8ea3-cf2e878efbbf"
      },
      "source": [
        "worst_digit(confusion3)"
      ],
      "execution_count": null,
      "outputs": [
        {
          "output_type": "execute_result",
          "data": {
            "text/plain": [
              "(9, 44)"
            ]
          },
          "metadata": {
            "tags": []
          },
          "execution_count": 34
        }
      ]
    },
    {
      "cell_type": "code",
      "metadata": {
        "id": "WMzrcsqfPjGS",
        "colab": {
          "base_uri": "https://localhost:8080/",
          "height": 268
        },
        "outputId": "ed825c95-4146-469c-c644-c7168f9180da"
      },
      "source": [
        "plot_bad(model3, digit=3)"
      ],
      "execution_count": null,
      "outputs": [
        {
          "output_type": "display_data",
          "data": {
            "image/png": "[encoded data removed]",
            "text/plain": [
              "<Figure size 432x288 with 9 Axes>"
            ]
          },
          "metadata": {
            "tags": []
          }
        }
      ]
    },
    {
      "cell_type": "code",
      "metadata": {
        "id": "zU0uEDPJNV6E"
      },
      "source": [
        ""
      ],
      "execution_count": null,
      "outputs": []
    },
    {
      "cell_type": "code",
      "metadata": {
        "id": "oogHgBmp1BB8",
        "colab": {
          "base_uri": "https://localhost:8080/",
          "height": 221
        },
        "outputId": "8b2eaf14-62d2-4f43-81d3-6c86318faadb"
      },
      "source": [
        "model4 = Sequential([\n",
        "  Input((None, None, 2)),\n",
        "  Conv2D(3, (2,2)),\n",
        "  Dense(10)\n",
        "])\n",
        "model4.compile(loss=sparse_categorical_crossentropy,\n",
        "               optimizer=Adam(0.001),\n",
        "               metrics=['acc'])\n",
        "model4.summary()"
      ],
      "execution_count": null,
      "outputs": [
        {
          "output_type": "stream",
          "text": [
            "Model: \"sequential_3\"\n",
            "_________________________________________________________________\n",
            "Layer (type)                 Output Shape              Param #   \n",
            "=================================================================\n",
            "conv2d_1 (Conv2D)            (None, None, None, 3)     27        \n",
            "_________________________________________________________________\n",
            "dense_9 (Dense)              (None, None, None, 10)    40        \n",
            "=================================================================\n",
            "Total params: 67\n",
            "Trainable params: 67\n",
            "Non-trainable params: 0\n",
            "_________________________________________________________________\n"
          ],
          "name": "stdout"
        }
      ]
    }
  ]
}