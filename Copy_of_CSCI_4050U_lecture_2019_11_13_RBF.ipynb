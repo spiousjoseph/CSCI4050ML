{
  "nbformat": 4,
  "nbformat_minor": 0,
  "metadata": {
    "colab": {
      "name": "Copy of CSCI 4050U - lecture 2019-11-13 - RBF.ipynb",
      "provenance": [],
      "collapsed_sections": [
        "P15SavxX_66r"
      ],
      "include_colab_link": true
    },
    "kernelspec": {
      "name": "python3",
      "display_name": "Python 3"
    }
  },
  "cells": [
    {
      "cell_type": "markdown",
      "metadata": {
        "id": "view-in-github",
        "colab_type": "text"
      },
      "source": [
        "<a href=\"https://colab.research.google.com/github/sunujoseph/CSCI4050ML/blob/master/Copy_of_CSCI_4050U_lecture_2019_11_13_RBF.ipynb\" target=\"_parent\"><img src=\"https://colab.research.google.com/assets/colab-badge.svg\" alt=\"Open In Colab\"/></a>"
      ]
    },
    {
      "cell_type": "code",
      "metadata": {
        "id": "c4anxoc-9HXZ",
        "colab": {
          "base_uri": "https://localhost:8080/",
          "height": 34
        },
        "outputId": "19c669ed-f9c3-4193-bbbd-609e9d972443"
      },
      "source": [
        "%tensorflow_version 2.x"
      ],
      "execution_count": null,
      "outputs": [
        {
          "output_type": "stream",
          "text": [
            "TensorFlow 2.x selected.\n"
          ],
          "name": "stdout"
        }
      ]
    },
    {
      "cell_type": "code",
      "metadata": {
        "id": "Ipsk2d389PEh"
      },
      "source": [
        "import sklearn.datasets\n",
        "import numpy as np\n",
        "import tensorflow as tf\n",
        "import tensorflow.keras as K\n",
        "import matplotlib.pyplot as pl"
      ],
      "execution_count": null,
      "outputs": []
    },
    {
      "cell_type": "markdown",
      "metadata": {
        "id": "gCKbo2Ic_I-r"
      },
      "source": [
        "# Making a dataset for binary classification\n",
        "\n",
        "This dataset cannot be linearly separated."
      ]
    },
    {
      "cell_type": "code",
      "metadata": {
        "id": "SoI_h9cw940c"
      },
      "source": [
        "x_train, y_train = sklearn.datasets.make_moons(1000, noise=0.15)"
      ],
      "execution_count": null,
      "outputs": []
    },
    {
      "cell_type": "code",
      "metadata": {
        "id": "iPRQXuKv-DLn",
        "colab": {
          "base_uri": "https://localhost:8080/",
          "height": 34
        },
        "outputId": "607eefad-8359-48b9-81ca-0ba7d355459c"
      },
      "source": [
        "x_train.shape, y_train.shape"
      ],
      "execution_count": null,
      "outputs": [
        {
          "output_type": "execute_result",
          "data": {
            "text/plain": [
              "((1000, 2), (1000,))"
            ]
          },
          "metadata": {
            "tags": []
          },
          "execution_count": 4
        }
      ]
    },
    {
      "cell_type": "code",
      "metadata": {
        "id": "CGVrOOMr-Eyc"
      },
      "source": [
        "x0_train = x_train[y_train == 0]\n",
        "x1_train = x_train[y_train == 1]"
      ],
      "execution_count": null,
      "outputs": []
    },
    {
      "cell_type": "code",
      "metadata": {
        "id": "79PX4aKI-SP8",
        "colab": {
          "base_uri": "https://localhost:8080/",
          "height": 34
        },
        "outputId": "81458cf1-e58e-4365-bda6-67b5b6ba24be"
      },
      "source": [
        "x0_train.shape, x1_train.shape, x_train.dtype"
      ],
      "execution_count": null,
      "outputs": [
        {
          "output_type": "execute_result",
          "data": {
            "text/plain": [
              "((500, 2), (500, 2), dtype('float64'))"
            ]
          },
          "metadata": {
            "tags": []
          },
          "execution_count": 6
        }
      ]
    },
    {
      "cell_type": "code",
      "metadata": {
        "id": "8SvBF9Z9-ycm",
        "colab": {
          "base_uri": "https://localhost:8080/",
          "height": 265
        },
        "outputId": "647fd0c4-544c-4d09-d6e2-f3dfe721ea33"
      },
      "source": [
        "pl.plot(x0_train[:, 0], x0_train[:, 1], '.', color='red')\n",
        "pl.plot(x1_train[:, 0], x1_train[:, 1], '+', color='blue');"
      ],
      "execution_count": null,
      "outputs": [
        {
          "output_type": "display_data",
          "data": {
            "image/png": "[encoded data removed]",
            "text/plain": [
              "<Figure size 432x288 with 1 Axes>"
            ]
          },
          "metadata": {
            "tags": []
          }
        }
      ]
    },
    {
      "cell_type": "markdown",
      "metadata": {
        "id": "VvU98X97-5NL"
      },
      "source": [
        "# Keras Radial Basis Function layer"
      ]
    },
    {
      "cell_type": "code",
      "metadata": {
        "id": "tuyCkIHq_YDS"
      },
      "source": [
        "def rbf(x, c, b):\n",
        "  # x: (None, 2)\n",
        "  # c: (k, 2)\n",
        "  # b: (k,)\n",
        "  x2 = tf.reshape(x, (-1, 1, 2))\n",
        "  c2 = tf.reshape(c, (1, -1, 2))\n",
        "  diff = x2 - c2                  # : (None, k, 2)\n",
        "  dist = tf.pow(tf.norm(diff, axis=2), 2)\n",
        "  return tf.exp(-dist / 2 / tf.reshape(b, (1, -1)))"
      ],
      "execution_count": null,
      "outputs": []
    },
    {
      "cell_type": "code",
      "metadata": {
        "id": "Yt1-PtQLI6T5"
      },
      "source": [
        "class RBFLayer(K.layers.Layer):\n",
        "  def __init__(self, k, *E, **F):\n",
        "    super(RBFLayer, self).__init__(*E, **F)\n",
        "    self.k = k\n",
        "    self.c = tf.Variable(np.random.randn(k, 2), dtype=tf.float32)\n",
        "    self.b = tf.Variable(np.random.randn(k), dtype=tf.float32)\n",
        "  def call(self, x_in):\n",
        "    return rbf(x_in, self.c, self.b)"
      ],
      "execution_count": null,
      "outputs": []
    },
    {
      "cell_type": "code",
      "metadata": {
        "id": "oo8QtVdggFLm"
      },
      "source": [
        "model = K.models.Sequential([\n",
        "    K.layers.Input((2,)),\n",
        "    RBFLayer(5),\n",
        "    K.layers.Dense(1, activation='sigmoid')\n",
        "])"
      ],
      "execution_count": null,
      "outputs": []
    },
    {
      "cell_type": "code",
      "metadata": {
        "id": "EFVjjBAk8rBF",
        "colab": {
          "base_uri": "https://localhost:8080/",
          "height": 221
        },
        "outputId": "b987d582-7015-4e3c-e7d6-48e133631716"
      },
      "source": [
        "model.summary()"
      ],
      "execution_count": null,
      "outputs": [
        {
          "output_type": "stream",
          "text": [
            "Model: \"sequential\"\n",
            "_________________________________________________________________\n",
            "Layer (type)                 Output Shape              Param #   \n",
            "=================================================================\n",
            "rbf_layer (RBFLayer)         (None, 5)                 15        \n",
            "_________________________________________________________________\n",
            "dense (Dense)                (None, 1)                 6         \n",
            "=================================================================\n",
            "Total params: 21\n",
            "Trainable params: 21\n",
            "Non-trainable params: 0\n",
            "_________________________________________________________________\n"
          ],
          "name": "stdout"
        }
      ]
    },
    {
      "cell_type": "code",
      "metadata": {
        "id": "yQAIyswn824B",
        "colab": {
          "base_uri": "https://localhost:8080/",
          "height": 34
        },
        "outputId": "3b4dc5ad-163e-458a-a506-4de3424d583e"
      },
      "source": [
        "model.count_params()"
      ],
      "execution_count": null,
      "outputs": [
        {
          "output_type": "execute_result",
          "data": {
            "text/plain": [
              "21"
            ]
          },
          "metadata": {
            "tags": []
          },
          "execution_count": 33
        }
      ]
    },
    {
      "cell_type": "code",
      "metadata": {
        "id": "ROCHZAHjgUIT"
      },
      "source": [
        "model.compile(optimizer='adam', loss=tf.losses.binary_crossentropy, metrics=['acc'])"
      ],
      "execution_count": null,
      "outputs": []
    },
    {
      "cell_type": "code",
      "metadata": {
        "id": "lUIX7vXJg6GJ"
      },
      "source": [
        "history = model.fit(x_train, y_train, epochs=100, verbose=False)"
      ],
      "execution_count": null,
      "outputs": []
    },
    {
      "cell_type": "code",
      "metadata": {
        "id": "Fjl3P7o9jN91",
        "colab": {
          "base_uri": "https://localhost:8080/",
          "height": 265
        },
        "outputId": "7013dae4-7f97-4390-cace-3f8b664c84ec"
      },
      "source": [
        "pl.plot(history.history['acc']);"
      ],
      "execution_count": null,
      "outputs": [
        {
          "output_type": "display_data",
          "data": {
            "image/png": "[encoded data removed]",
            "text/plain": [
              "<Figure size 432x288 with 1 Axes>"
            ]
          },
          "metadata": {
            "tags": []
          }
        }
      ]
    },
    {
      "cell_type": "markdown",
      "metadata": {
        "id": "zqCG6E--rgQS"
      },
      "source": [
        "# Visualizing the separation boundary"
      ]
    },
    {
      "cell_type": "code",
      "metadata": {
        "id": "5L1PYdrNrkSR"
      },
      "source": [
        "min = np.min(x_train, axis=0)\n",
        "max = np.max(x_train, axis=0)"
      ],
      "execution_count": null,
      "outputs": []
    },
    {
      "cell_type": "code",
      "metadata": {
        "id": "l_9ChQz6r9R4"
      },
      "source": [
        "xx, yy = np.meshgrid(np.linspace(min[0], max[0], 100),\n",
        "                     np.linspace(min[1], max[1], 100))\n",
        "grid = np.hstack([np.reshape(xx, (-1, 1)),\n",
        "                  np.reshape(yy, (-1, 1))])\n",
        "z = model.predict(grid)\n",
        "z = np.reshape(z, (100, 100))"
      ],
      "execution_count": null,
      "outputs": []
    },
    {
      "cell_type": "code",
      "metadata": {
        "id": "ISZr2GvIt8Rp",
        "colab": {
          "base_uri": "https://localhost:8080/",
          "height": 265
        },
        "outputId": "9e70416f-1398-4ef2-ecc7-7efde34d0f70"
      },
      "source": [
        "pl.contourf(xx, yy, z, levels=[0, 0.5, 1.0]);\n",
        "pl.plot(x0_train[:, 0], x0_train[:, 1], '.', color='red')\n",
        "pl.plot(x1_train[:, 0], x1_train[:, 1], '+', color='blue');"
      ],
      "execution_count": null,
      "outputs": [
        {
          "output_type": "display_data",
          "data": {
            "image/png": "[encoded data removed]",
            "text/plain": [
              "<Figure size 432x288 with 1 Axes>"
            ]
          },
          "metadata": {
            "tags": []
          }
        }
      ]
    },
    {
      "cell_type": "markdown",
      "metadata": {
        "id": "P15SavxX_66r"
      },
      "source": [
        "# Appendix: on numpy / tensorflow broadcast"
      ]
    },
    {
      "cell_type": "code",
      "metadata": {
        "id": "zYRlWYDx__TJ",
        "colab": {
          "base_uri": "https://localhost:8080/"
        },
        "outputId": "8fd2367d-0a8f-4bfc-b927-484bc75f30b7"
      },
      "source": [
        "A = np.reshape(np.arange(1, 7), (2, 3))\n",
        "A"
      ],
      "execution_count": null,
      "outputs": [
        {
          "output_type": "execute_result",
          "data": {
            "text/plain": [
              "array([[1, 2, 3],\n",
              "       [4, 5, 6]])"
            ]
          },
          "metadata": {
            "tags": []
          },
          "execution_count": 17
        }
      ]
    },
    {
      "cell_type": "code",
      "metadata": {
        "id": "kyYSwGUgAQ9-",
        "colab": {
          "base_uri": "https://localhost:8080/"
        },
        "outputId": "36e230b6-db13-4d27-d7ac-7df3dde79cb1"
      },
      "source": [
        "B = np.reshape(np.arange(1, 9) * 10, (4, 2))\n",
        "B"
      ],
      "execution_count": null,
      "outputs": [
        {
          "output_type": "execute_result",
          "data": {
            "text/plain": [
              "array([[10, 20],\n",
              "       [30, 40],\n",
              "       [50, 60],\n",
              "       [70, 80]])"
            ]
          },
          "metadata": {
            "tags": []
          },
          "execution_count": 18
        }
      ]
    },
    {
      "cell_type": "code",
      "metadata": {
        "id": "fDDU-yaQArjB"
      },
      "source": [
        "C = np.array([10, 20, 30])\n",
        "D = np.array([10, 20])"
      ],
      "execution_count": null,
      "outputs": []
    },
    {
      "cell_type": "code",
      "metadata": {
        "id": "oSA848mlB-Uj"
      },
      "source": [
        "C2 = np.reshape(C, (1, 3))"
      ],
      "execution_count": null,
      "outputs": []
    },
    {
      "cell_type": "code",
      "metadata": {
        "id": "1G8lT5WCCLKb",
        "colab": {
          "base_uri": "https://localhost:8080/"
        },
        "outputId": "52b889ed-4552-499d-8b07-d7f649389a7c"
      },
      "source": [
        "A.shape, C2.shape"
      ],
      "execution_count": null,
      "outputs": [
        {
          "output_type": "execute_result",
          "data": {
            "text/plain": [
              "((2, 3), (1, 3))"
            ]
          },
          "metadata": {
            "tags": []
          },
          "execution_count": 21
        }
      ]
    },
    {
      "cell_type": "code",
      "metadata": {
        "id": "D7vTgrvjCMF1",
        "colab": {
          "base_uri": "https://localhost:8080/"
        },
        "outputId": "b92af018-39d6-4121-8c57-dc79c4e0441f"
      },
      "source": [
        "A + C2"
      ],
      "execution_count": null,
      "outputs": [
        {
          "output_type": "execute_result",
          "data": {
            "text/plain": [
              "array([[11, 22, 33],\n",
              "       [14, 25, 36]])"
            ]
          },
          "metadata": {
            "tags": []
          },
          "execution_count": 22
        }
      ]
    },
    {
      "cell_type": "code",
      "metadata": {
        "id": "op6fVcj6C_uY",
        "colab": {
          "base_uri": "https://localhost:8080/"
        },
        "outputId": "8de837af-9f36-429a-c825-0dca64e1b12d"
      },
      "source": [
        "A.shape, D.shape"
      ],
      "execution_count": null,
      "outputs": [
        {
          "output_type": "execute_result",
          "data": {
            "text/plain": [
              "((2, 3), (2,))"
            ]
          },
          "metadata": {
            "tags": []
          },
          "execution_count": 23
        }
      ]
    },
    {
      "cell_type": "code",
      "metadata": {
        "id": "45DHlwSSDpbE"
      },
      "source": [
        "D2 = np.reshape(D, (2, 1))"
      ],
      "execution_count": null,
      "outputs": []
    },
    {
      "cell_type": "code",
      "metadata": {
        "id": "3KXIBKtQER_s",
        "colab": {
          "base_uri": "https://localhost:8080/"
        },
        "outputId": "d694d247-9c16-4a87-d4cd-8df0a52fe639"
      },
      "source": [
        "A.shape, D2.shape"
      ],
      "execution_count": null,
      "outputs": [
        {
          "output_type": "execute_result",
          "data": {
            "text/plain": [
              "((2, 3), (2, 1))"
            ]
          },
          "metadata": {
            "tags": []
          },
          "execution_count": 25
        }
      ]
    },
    {
      "cell_type": "code",
      "metadata": {
        "id": "Z7ft_i3tETDE",
        "colab": {
          "base_uri": "https://localhost:8080/"
        },
        "outputId": "e6bf489c-7020-4efd-9f72-ef776fb4eaab"
      },
      "source": [
        "A + D2"
      ],
      "execution_count": null,
      "outputs": [
        {
          "output_type": "execute_result",
          "data": {
            "text/plain": [
              "array([[11, 12, 13],\n",
              "       [24, 25, 26]])"
            ]
          },
          "metadata": {
            "tags": []
          },
          "execution_count": 26
        }
      ]
    },
    {
      "cell_type": "code",
      "metadata": {
        "id": "TkjdCBEWEX04",
        "colab": {
          "base_uri": "https://localhost:8080/"
        },
        "outputId": "5489a9a5-b977-4ac1-d294-ce06cb2551ca"
      },
      "source": [
        "A.shape, B.shape"
      ],
      "execution_count": null,
      "outputs": [
        {
          "output_type": "execute_result",
          "data": {
            "text/plain": [
              "((2, 3), (4, 2))"
            ]
          },
          "metadata": {
            "tags": []
          },
          "execution_count": 27
        }
      ]
    },
    {
      "cell_type": "code",
      "metadata": {
        "id": "1YnddCYyFGmQ",
        "colab": {
          "base_uri": "https://localhost:8080/"
        },
        "outputId": "d212b607-d546-44f6-aeba-0c41912a4b52"
      },
      "source": [
        "B.reshape((1, 4, 2)).shape"
      ],
      "execution_count": null,
      "outputs": [
        {
          "output_type": "execute_result",
          "data": {
            "text/plain": [
              "(1, 4, 2)"
            ]
          },
          "metadata": {
            "tags": []
          },
          "execution_count": 28
        }
      ]
    },
    {
      "cell_type": "code",
      "metadata": {
        "id": "BuMJq5rOFf4K"
      },
      "source": [
        "A2 = np.reshape(np.transpose(A), (3, 1, 2))\n",
        "B2 = np.reshape(B, (1, 4, 2))"
      ],
      "execution_count": null,
      "outputs": []
    },
    {
      "cell_type": "code",
      "metadata": {
        "id": "WyCZ7r0FF-h6",
        "colab": {
          "base_uri": "https://localhost:8080/"
        },
        "outputId": "c9c0dd3a-0683-47e9-9c1b-5a3866f119be"
      },
      "source": [
        "A2.shape, B2.shape"
      ],
      "execution_count": null,
      "outputs": [
        {
          "output_type": "execute_result",
          "data": {
            "text/plain": [
              "((3, 1, 2), (1, 4, 2))"
            ]
          },
          "metadata": {
            "tags": []
          },
          "execution_count": 30
        }
      ]
    },
    {
      "cell_type": "code",
      "metadata": {
        "id": "qURmhQyMGKnj",
        "colab": {
          "base_uri": "https://localhost:8080/"
        },
        "outputId": "a131d03e-acbd-4166-ac8c-0c406994b992"
      },
      "source": [
        "(A2 + B2).shape"
      ],
      "execution_count": null,
      "outputs": [
        {
          "output_type": "execute_result",
          "data": {
            "text/plain": [
              "(3, 4, 2)"
            ]
          },
          "metadata": {
            "tags": []
          },
          "execution_count": 31
        }
      ]
    },
    {
      "cell_type": "code",
      "metadata": {
        "id": "U-lJEI1PGiLe"
      },
      "source": [
        ""
      ],
      "execution_count": null,
      "outputs": []
    }
  ]
}